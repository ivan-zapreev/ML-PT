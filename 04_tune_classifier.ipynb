{
 "cells": [
  {
   "cell_type": "code",
   "execution_count": 1,
   "id": "0ab6213e-8525-4d63-b853-1f3a209a56a7",
   "metadata": {},
   "outputs": [
    {
     "data": {
      "text/plain": [
       "'/Users/izapreev/Projects/ML-PT'"
      ]
     },
     "execution_count": 1,
     "metadata": {},
     "output_type": "execute_result"
    }
   ],
   "source": [
    "import os\n",
    "os.getcwd() "
   ]
  },
  {
   "cell_type": "code",
   "execution_count": 2,
   "id": "f6f7db3f-4734-46b9-bfc9-d87515b83732",
   "metadata": {},
   "outputs": [],
   "source": [
    "# Make sure the source code auto reloads into the kernel\n",
    "%load_ext autoreload\n",
    "%autoreload 2"
   ]
  },
  {
   "cell_type": "code",
   "execution_count": 3,
   "id": "7547c6a1-9cc1-4154-83e8-b998289173df",
   "metadata": {},
   "outputs": [],
   "source": [
    "from src.utils.logger import logger"
   ]
  },
  {
   "cell_type": "code",
   "execution_count": 4,
   "id": "d3c891e0-06f9-4a83-ba83-e08e689047c9",
   "metadata": {},
   "outputs": [
    {
     "name": "stderr",
     "output_type": "stream",
     "text": [
      "13:23:02 INFO (file_utils:32): Loading compressed numpy z file from: ./data/X.npz\n",
      "13:23:02 INFO (file_utils:35): File loading and data extraction are done!\n"
     ]
    }
   ],
   "source": [
    "from src.utils.file_utils import load_numpy_zc\n",
    "\n",
    "# Load the features file for further use\n",
    "file_name = os.path.join('.', 'data', 'X.npz')\n",
    "X, = load_numpy_zc(file_name, ['X'])"
   ]
  },
  {
   "cell_type": "code",
   "execution_count": 5,
   "id": "d741e8dd-8a23-4a06-90e1-047fec2e34b9",
   "metadata": {},
   "outputs": [
    {
     "name": "stderr",
     "output_type": "stream",
     "text": [
      "13:23:02 INFO (file_utils:32): Loading compressed numpy z file from: ./data/y.npz\n",
      "13:23:02 INFO (file_utils:35): File loading and data extraction are done!\n"
     ]
    }
   ],
   "source": [
    "# Load the classes file for further use\n",
    "file_name = os.path.join('.', 'data', 'y.npz')\n",
    "y, = load_numpy_zc(file_name, ['y'])"
   ]
  },
  {
   "cell_type": "code",
   "execution_count": 6,
   "id": "970138ae-6f91-4e64-a517-b64e6a801c3d",
   "metadata": {},
   "outputs": [],
   "source": [
    "# Lift up the label value by 1 to make sure there are no negative labels, some models do not like those\n",
    "y_shifted = y + 1"
   ]
  },
  {
   "cell_type": "code",
   "execution_count": 7,
   "id": "7f0fdf80-b542-4220-adb2-fc0055ac193c",
   "metadata": {},
   "outputs": [],
   "source": [
    "from sklearn.preprocessing import MinMaxScaler\n",
    "\n",
    "# Re-scale the features to [0, 1] range as some models do not like negative X values\n",
    "mm_scaler = MinMaxScaler().fit(X)\n",
    "X_scaled = mm_scaler.transform(X)"
   ]
  },
  {
   "cell_type": "code",
   "execution_count": 8,
   "id": "a2583e43-35d9-4267-89a3-db4b869ab185",
   "metadata": {},
   "outputs": [
    {
     "name": "stderr",
     "output_type": "stream",
     "text": [
      "13:23:05 INFO (models_try_out:82): Going to tain/test on: 40410/17319 elements\n"
     ]
    },
    {
     "data": {
      "application/vnd.jupyter.widget-view+json": {
       "model_id": "d07fc0ed66cc4a09acf3e93ad6f8fbba",
       "version_major": 2,
       "version_minor": 0
      },
      "text/plain": [
       "Trying out classifiers:   0%|          | 0/13 [00:00<?, ?it/s]"
      ]
     },
     "metadata": {},
     "output_type": "display_data"
    },
    {
     "name": "stderr",
     "output_type": "stream",
     "text": [
      "13:23:05 INFO (models_try_out:90): --\n",
      "13:23:05 INFO (models_try_out:91): Considering the model: \"Gaussian NB Classifier\"\n",
      "13:23:05 INFO (models_try_out:93): The \"Gaussian NB Classifier\" model accuracy: 0.7384, precision: 0.8276, recall: 0.7384, time: 0.04 sec.\n",
      "13:23:05 INFO (models_try_out:90): --\n",
      "13:23:05 INFO (models_try_out:91): Considering the model: \"Bernoulli NB Classifier\"\n",
      "13:23:05 INFO (models_try_out:93): The \"Bernoulli NB Classifier\" model accuracy: 0.272, precision: 0.074, recall: 0.272, time: 0.04 sec.\n",
      "13:23:05 INFO (models_try_out:90): --\n",
      "13:23:05 INFO (models_try_out:91): Considering the model: \"Multinomial NB Classifier\"\n",
      "13:23:05 INFO (models_try_out:93): The \"Multinomial NB Classifier\" model accuracy: 0.5264, precision: 0.3022, recall: 0.5264, time: 0.05 sec.\n",
      "13:23:05 INFO (models_try_out:90): --\n",
      "13:23:05 INFO (models_try_out:91): Considering the model: \"Logistic Regression\"\n",
      "13:23:16 INFO (models_try_out:93): The \"Logistic Regression\" model accuracy: 0.862, precision: 0.7886, recall: 0.862, time: 11.58 sec.\n",
      "13:23:16 INFO (models_try_out:90): --\n",
      "13:23:16 INFO (models_try_out:91): Considering the model: \"Random Forest Classifier\"\n",
      "13:23:20 INFO (models_try_out:93): The \"Random Forest Classifier\" model accuracy: 0.9936, precision: 0.9935, recall: 0.9936, time: 3.19 sec.\n",
      "13:23:20 INFO (models_try_out:90): --\n",
      "13:23:20 INFO (models_try_out:91): Considering the model: \"Ada Boost Classifier\"\n",
      "13:23:22 INFO (models_try_out:93): The \"Ada Boost Classifier\" model accuracy: 0.5288, precision: 0.4034, recall: 0.5288, time: 2.46 sec.\n",
      "13:23:22 INFO (models_try_out:90): --\n",
      "13:23:22 INFO (models_try_out:91): Considering the model: \"XGB Classifier\"\n",
      "13:23:35 INFO (models_try_out:93): The \"XGB Classifier\" model accuracy: 0.9931, precision: 0.993, recall: 0.9931, time: 12.96 sec.\n",
      "13:23:35 INFO (models_try_out:90): --\n",
      "13:23:35 INFO (models_try_out:91): Considering the model: \"KNeighbors Classifier\"\n",
      "13:23:35 INFO (models_try_out:93): The \"KNeighbors Classifier\" model accuracy: 0.9897, precision: 0.9896, recall: 0.9897, time: 0.32 sec.\n",
      "13:23:35 INFO (models_try_out:90): --\n",
      "13:23:35 INFO (models_try_out:91): Considering the model: \"Extra Trees Classifier\"\n",
      "13:23:36 INFO (models_try_out:93): The \"Extra Trees Classifier\" model accuracy: 0.9932, precision: 0.9931, recall: 0.9932, time: 0.75 sec.\n",
      "13:23:36 INFO (models_try_out:90): --\n",
      "13:23:36 INFO (models_try_out:91): Considering the model: \"Gradient Boosting Classifier\"\n",
      "13:26:19 INFO (models_try_out:93): The \"Gradient Boosting Classifier\" model accuracy: 0.9567, precision: 0.9606, recall: 0.9567, time: 163.17 sec.\n",
      "13:26:19 INFO (models_try_out:90): --\n",
      "13:26:19 INFO (models_try_out:91): Considering the model: \"SVC Classifier\"\n",
      "13:26:58 INFO (models_try_out:93): The \"SVC Classifier\" model accuracy: 0.6764, precision: 0.5503, recall: 0.6764, time: 39.11 sec.\n",
      "13:26:58 INFO (models_try_out:90): --\n",
      "13:26:58 INFO (models_try_out:91): Considering the model: \"Bagging Classifier\"\n",
      "13:27:06 INFO (models_try_out:93): The \"Bagging Classifier\" model accuracy: 0.9931, precision: 0.9931, recall: 0.9931, time: 7.99 sec.\n",
      "13:27:06 INFO (models_try_out:90): --\n",
      "13:27:06 INFO (models_try_out:91): Considering the model: \"Decision Tree Classifier\"\n",
      "13:27:07 INFO (models_try_out:93): The \"Decision Tree Classifier\" model accuracy: 0.9705, precision: 0.9665, recall: 0.9705, time: 0.23 sec.\n"
     ]
    }
   ],
   "source": [
    "from src.model.classifier.models_try_out import train_test_on_models\n",
    "\n",
    "# Train the models\n",
    "results = train_test_on_models(X_scaled, y_shifted, test_size=0.3)"
   ]
  },
  {
   "cell_type": "code",
   "execution_count": 9,
   "id": "0b65a117-1b1d-4ea7-8b00-2008bdb3d987",
   "metadata": {},
   "outputs": [
    {
     "name": "stderr",
     "output_type": "stream",
     "text": [
      "13:27:07 INFO (3191961362:3): Model: \"Random Forest Classifier\", Accuracy (TP+TN): 0.9936, Precision (FP): 0.9935, Recall (FN): 0.9936, Time: 3.19 sec.\n",
      "13:27:07 INFO (3191961362:3): Model: \"Extra Trees Classifier\", Accuracy (TP+TN): 0.9932, Precision (FP): 0.9931, Recall (FN): 0.9932, Time: 0.75 sec.\n",
      "13:27:07 INFO (3191961362:3): Model: \"Bagging Classifier\", Accuracy (TP+TN): 0.9931, Precision (FP): 0.9931, Recall (FN): 0.9931, Time: 7.99 sec.\n",
      "13:27:07 INFO (3191961362:3): Model: \"XGB Classifier\", Accuracy (TP+TN): 0.9931, Precision (FP): 0.993, Recall (FN): 0.9931, Time: 12.96 sec.\n",
      "13:27:07 INFO (3191961362:3): Model: \"KNeighbors Classifier\", Accuracy (TP+TN): 0.9897, Precision (FP): 0.9896, Recall (FN): 0.9897, Time: 0.32 sec.\n",
      "13:27:07 INFO (3191961362:3): Model: \"Decision Tree Classifier\", Accuracy (TP+TN): 0.9705, Precision (FP): 0.9665, Recall (FN): 0.9705, Time: 0.23 sec.\n",
      "13:27:07 INFO (3191961362:3): Model: \"Gradient Boosting Classifier\", Accuracy (TP+TN): 0.9567, Precision (FP): 0.9606, Recall (FN): 0.9567, Time: 163.17 sec.\n",
      "13:27:07 INFO (3191961362:3): Model: \"Logistic Regression\", Accuracy (TP+TN): 0.862, Precision (FP): 0.7886, Recall (FN): 0.862, Time: 11.58 sec.\n",
      "13:27:07 INFO (3191961362:3): Model: \"Gaussian NB Classifier\", Accuracy (TP+TN): 0.7384, Precision (FP): 0.8276, Recall (FN): 0.7384, Time: 0.04 sec.\n",
      "13:27:07 INFO (3191961362:3): Model: \"SVC Classifier\", Accuracy (TP+TN): 0.6764, Precision (FP): 0.5503, Recall (FN): 0.6764, Time: 39.11 sec.\n",
      "13:27:07 INFO (3191961362:3): Model: \"Ada Boost Classifier\", Accuracy (TP+TN): 0.5288, Precision (FP): 0.4034, Recall (FN): 0.5288, Time: 2.46 sec.\n",
      "13:27:07 INFO (3191961362:3): Model: \"Multinomial NB Classifier\", Accuracy (TP+TN): 0.5264, Precision (FP): 0.3022, Recall (FN): 0.5264, Time: 0.05 sec.\n",
      "13:27:07 INFO (3191961362:3): Model: \"Bernoulli NB Classifier\", Accuracy (TP+TN): 0.272, Precision (FP): 0.074, Recall (FN): 0.272, Time: 0.04 sec.\n"
     ]
    }
   ],
   "source": [
    "# Log the best fit model\n",
    "for result in results:\n",
    "    logger.info(f'Model: \"{result[4]}\", Accuracy (TP+TN): {round(result[0], 4)}, ' \\\n",
    "                f'Precision (FP): {round(result[1], 4)}, Recall (FN): {round(result[2], 4)}, Time: {result[3]} sec.')"
   ]
  },
  {
   "cell_type": "code",
   "execution_count": 10,
   "id": "04a90aaf-8159-41c3-af03-947713ca5ae6",
   "metadata": {},
   "outputs": [
    {
     "name": "stderr",
     "output_type": "stream",
     "text": [
      "13:27:07 INFO (models_try_out:105): Going to tain/test on: 40410/17319 elements\n"
     ]
    },
    {
     "name": "stdout",
     "output_type": "stream",
     "text": [
      "Epoch 1/100\n"
     ]
    },
    {
     "name": "stderr",
     "output_type": "stream",
     "text": [
      "2023-01-16 13:27:07.278923: W tensorflow/tsl/platform/profile_utils/cpu_utils.cc:128] Failed to get CPU frequency: 0 Hz\n"
     ]
    },
    {
     "name": "stdout",
     "output_type": "stream",
     "text": [
      "1263/1263 [==============================] - 1s 424us/step - loss: -84.0388 - accuracy: 0.1991\n",
      "Epoch 2/100\n",
      "1263/1263 [==============================] - 0s 347us/step - loss: -594.8362 - accuracy: 0.1995\n",
      "Epoch 3/100\n",
      "1263/1263 [==============================] - 0s 349us/step - loss: -1505.4440 - accuracy: 0.1997\n",
      "Epoch 4/100\n",
      "1263/1263 [==============================] - 0s 359us/step - loss: -2725.4084 - accuracy: 0.1999\n",
      "Epoch 5/100\n",
      "1263/1263 [==============================] - 0s 346us/step - loss: -4221.9976 - accuracy: 0.2000\n",
      "Epoch 6/100\n",
      "1263/1263 [==============================] - 0s 350us/step - loss: -5975.8354 - accuracy: 0.2000\n",
      "Epoch 7/100\n",
      "1263/1263 [==============================] - 0s 344us/step - loss: -8000.2280 - accuracy: 0.2001\n",
      "Epoch 8/100\n",
      "1263/1263 [==============================] - 0s 348us/step - loss: -10274.8604 - accuracy: 0.2002\n",
      "Epoch 9/100\n",
      "1263/1263 [==============================] - 0s 346us/step - loss: -12794.7080 - accuracy: 0.2002\n",
      "Epoch 10/100\n",
      "1263/1263 [==============================] - 0s 350us/step - loss: -15570.0205 - accuracy: 0.2004\n",
      "Epoch 11/100\n",
      "1263/1263 [==============================] - 0s 342us/step - loss: -18601.8945 - accuracy: 0.2005\n",
      "Epoch 12/100\n",
      "1263/1263 [==============================] - 0s 342us/step - loss: -21879.4453 - accuracy: 0.2005\n",
      "Epoch 13/100\n",
      "1263/1263 [==============================] - 0s 353us/step - loss: -25398.6836 - accuracy: 0.2005\n",
      "Epoch 14/100\n",
      "1263/1263 [==============================] - 0s 355us/step - loss: -29176.5215 - accuracy: 0.2006\n",
      "Epoch 15/100\n",
      "1263/1263 [==============================] - 0s 351us/step - loss: -33218.9766 - accuracy: 0.2006\n",
      "Epoch 16/100\n",
      "1263/1263 [==============================] - 0s 343us/step - loss: -37467.8281 - accuracy: 0.2006\n",
      "Epoch 17/100\n",
      "1263/1263 [==============================] - 0s 342us/step - loss: -41960.5234 - accuracy: 0.2006\n",
      "Epoch 18/100\n",
      "1263/1263 [==============================] - 0s 351us/step - loss: -46697.6172 - accuracy: 0.2007\n",
      "Epoch 19/100\n",
      "1263/1263 [==============================] - 0s 342us/step - loss: -51701.9492 - accuracy: 0.2008\n",
      "Epoch 20/100\n",
      "1263/1263 [==============================] - 0s 349us/step - loss: -56944.3398 - accuracy: 0.2008\n",
      "Epoch 21/100\n",
      "1263/1263 [==============================] - 0s 344us/step - loss: -62430.8555 - accuracy: 0.2008\n",
      "Epoch 22/100\n",
      "1263/1263 [==============================] - 0s 348us/step - loss: -68134.8750 - accuracy: 0.2008\n",
      "Epoch 23/100\n",
      "1263/1263 [==============================] - 0s 362us/step - loss: -74099.7109 - accuracy: 0.2009\n",
      "Epoch 24/100\n",
      "1263/1263 [==============================] - 0s 346us/step - loss: -80303.0234 - accuracy: 0.2009\n",
      "Epoch 25/100\n",
      "1263/1263 [==============================] - 0s 348us/step - loss: -86746.0547 - accuracy: 0.2008\n",
      "Epoch 26/100\n",
      "1263/1263 [==============================] - 0s 344us/step - loss: -93446.5859 - accuracy: 0.2009\n",
      "Epoch 27/100\n",
      "1263/1263 [==============================] - 0s 351us/step - loss: -100387.3281 - accuracy: 0.2009\n",
      "Epoch 28/100\n",
      "1263/1263 [==============================] - 0s 341us/step - loss: -107553.9062 - accuracy: 0.2009\n",
      "Epoch 29/100\n",
      "1263/1263 [==============================] - 0s 342us/step - loss: -114969.9219 - accuracy: 0.2009\n",
      "Epoch 30/100\n",
      "1263/1263 [==============================] - 0s 345us/step - loss: -122624.5078 - accuracy: 0.2009\n",
      "Epoch 31/100\n",
      "1263/1263 [==============================] - 0s 343us/step - loss: -130516.9219 - accuracy: 0.2009\n",
      "Epoch 32/100\n",
      "1263/1263 [==============================] - 0s 349us/step - loss: -138664.1406 - accuracy: 0.2009\n",
      "Epoch 33/100\n",
      "1263/1263 [==============================] - 0s 356us/step - loss: -147052.7031 - accuracy: 0.2009\n",
      "Epoch 34/100\n",
      "1263/1263 [==============================] - 0s 343us/step - loss: -155671.2188 - accuracy: 0.2009\n",
      "Epoch 35/100\n",
      "1263/1263 [==============================] - 0s 348us/step - loss: -164513.9531 - accuracy: 0.2009\n",
      "Epoch 36/100\n",
      "1263/1263 [==============================] - 0s 344us/step - loss: -173609.3438 - accuracy: 0.2009\n",
      "Epoch 37/100\n",
      "1263/1263 [==============================] - 0s 345us/step - loss: -182936.3438 - accuracy: 0.2008\n",
      "Epoch 38/100\n",
      "1263/1263 [==============================] - 0s 342us/step - loss: -192498.1406 - accuracy: 0.2009\n",
      "Epoch 39/100\n",
      "1263/1263 [==============================] - 0s 343us/step - loss: -202348.4219 - accuracy: 0.2009\n",
      "Epoch 40/100\n",
      "1263/1263 [==============================] - 0s 345us/step - loss: -212426.1406 - accuracy: 0.2008\n",
      "Epoch 41/100\n",
      "1263/1263 [==============================] - 0s 339us/step - loss: -222724.2031 - accuracy: 0.2009\n",
      "Epoch 42/100\n",
      "1263/1263 [==============================] - 0s 354us/step - loss: -233319.3750 - accuracy: 0.2009\n",
      "Epoch 43/100\n",
      "1263/1263 [==============================] - 0s 353us/step - loss: -244121.7344 - accuracy: 0.2009\n",
      "Epoch 44/100\n",
      "1263/1263 [==============================] - 0s 347us/step - loss: -255140.4844 - accuracy: 0.2008\n",
      "Epoch 45/100\n",
      "1263/1263 [==============================] - 0s 340us/step - loss: -266413.4688 - accuracy: 0.2009\n",
      "Epoch 46/100\n",
      "1263/1263 [==============================] - 0s 343us/step - loss: -277897.6875 - accuracy: 0.2009\n",
      "Epoch 47/100\n",
      "1263/1263 [==============================] - 0s 353us/step - loss: -289617.5312 - accuracy: 0.2009\n",
      "Epoch 48/100\n",
      "1263/1263 [==============================] - 0s 343us/step - loss: -301625.9375 - accuracy: 0.2008\n",
      "Epoch 49/100\n",
      "1263/1263 [==============================] - 0s 347us/step - loss: -313841.5938 - accuracy: 0.2009\n",
      "Epoch 50/100\n",
      "1263/1263 [==============================] - 0s 343us/step - loss: -326317.4688 - accuracy: 0.2009\n",
      "Epoch 51/100\n",
      "1263/1263 [==============================] - 0s 343us/step - loss: -339027.2812 - accuracy: 0.2009\n",
      "Epoch 52/100\n",
      "1263/1263 [==============================] - 0s 362us/step - loss: -351947.4062 - accuracy: 0.2009\n",
      "Epoch 53/100\n",
      "1263/1263 [==============================] - 0s 343us/step - loss: -365090.0938 - accuracy: 0.2009\n",
      "Epoch 54/100\n",
      "1263/1263 [==============================] - 0s 358us/step - loss: -378457.1875 - accuracy: 0.2009\n",
      "Epoch 55/100\n",
      "1263/1263 [==============================] - 0s 346us/step - loss: -392054.3125 - accuracy: 0.2009\n",
      "Epoch 56/100\n",
      "1263/1263 [==============================] - 0s 348us/step - loss: -405931.5312 - accuracy: 0.2009\n",
      "Epoch 57/100\n",
      "1263/1263 [==============================] - 0s 343us/step - loss: -420069.3438 - accuracy: 0.2009\n",
      "Epoch 58/100\n",
      "1263/1263 [==============================] - 0s 343us/step - loss: -434402.8438 - accuracy: 0.2010\n",
      "Epoch 59/100\n",
      "1263/1263 [==============================] - 0s 347us/step - loss: -449022.8125 - accuracy: 0.2009\n",
      "Epoch 60/100\n",
      "1263/1263 [==============================] - 0s 341us/step - loss: -463864.6562 - accuracy: 0.2009\n",
      "Epoch 61/100\n",
      "1263/1263 [==============================] - 0s 351us/step - loss: -478911.1562 - accuracy: 0.2009\n",
      "Epoch 62/100\n",
      "1263/1263 [==============================] - 0s 356us/step - loss: -494223.3125 - accuracy: 0.2009\n",
      "Epoch 63/100\n",
      "1263/1263 [==============================] - 0s 349us/step - loss: -509747.0000 - accuracy: 0.2009\n",
      "Epoch 64/100\n",
      "1263/1263 [==============================] - 0s 349us/step - loss: -525517.8125 - accuracy: 0.2009\n",
      "Epoch 65/100\n",
      "1263/1263 [==============================] - 0s 343us/step - loss: -541561.5000 - accuracy: 0.2009\n",
      "Epoch 66/100\n",
      "1263/1263 [==============================] - 0s 349us/step - loss: -557785.0625 - accuracy: 0.2009\n",
      "Epoch 67/100\n",
      "1263/1263 [==============================] - 0s 345us/step - loss: -574227.9375 - accuracy: 0.2009\n",
      "Epoch 68/100\n",
      "1263/1263 [==============================] - 0s 350us/step - loss: -590959.2500 - accuracy: 0.2009\n",
      "Epoch 69/100\n",
      "1263/1263 [==============================] - 0s 340us/step - loss: -607942.0625 - accuracy: 0.2009\n",
      "Epoch 70/100\n",
      "1263/1263 [==============================] - 0s 345us/step - loss: -625190.5625 - accuracy: 0.2009\n",
      "Epoch 71/100\n",
      "1263/1263 [==============================] - 0s 356us/step - loss: -642593.5625 - accuracy: 0.2009\n",
      "Epoch 72/100\n",
      "1263/1263 [==============================] - 0s 351us/step - loss: -660194.9375 - accuracy: 0.2009\n",
      "Epoch 73/100\n",
      "1263/1263 [==============================] - 0s 349us/step - loss: -678044.6250 - accuracy: 0.2009\n",
      "Epoch 74/100\n",
      "1263/1263 [==============================] - 0s 343us/step - loss: -696150.4375 - accuracy: 0.2009\n",
      "Epoch 75/100\n",
      "1263/1263 [==============================] - 0s 341us/step - loss: -714491.5000 - accuracy: 0.2009\n",
      "Epoch 76/100\n",
      "1263/1263 [==============================] - 0s 349us/step - loss: -733070.5000 - accuracy: 0.2009\n",
      "Epoch 77/100\n",
      "1263/1263 [==============================] - 0s 345us/step - loss: -751997.5000 - accuracy: 0.2009\n",
      "Epoch 78/100\n",
      "1263/1263 [==============================] - 0s 349us/step - loss: -771145.0625 - accuracy: 0.2009\n",
      "Epoch 79/100\n",
      "1263/1263 [==============================] - 0s 343us/step - loss: -790510.5625 - accuracy: 0.2009\n",
      "Epoch 80/100\n",
      "1263/1263 [==============================] - 0s 347us/step - loss: -810122.6250 - accuracy: 0.2009\n",
      "Epoch 81/100\n",
      "1263/1263 [==============================] - 0s 357us/step - loss: -829973.6875 - accuracy: 0.2009\n",
      "Epoch 82/100\n",
      "1263/1263 [==============================] - 0s 341us/step - loss: -850040.3750 - accuracy: 0.2010\n",
      "Epoch 83/100\n",
      "1263/1263 [==============================] - 0s 347us/step - loss: -870360.2500 - accuracy: 0.2009\n",
      "Epoch 84/100\n",
      "1263/1263 [==============================] - 0s 340us/step - loss: -890949.5625 - accuracy: 0.2009\n",
      "Epoch 85/100\n",
      "1263/1263 [==============================] - 0s 347us/step - loss: -911799.0000 - accuracy: 0.2010\n",
      "Epoch 86/100\n",
      "1263/1263 [==============================] - 0s 345us/step - loss: -932851.0625 - accuracy: 0.2009\n",
      "Epoch 87/100\n",
      "1263/1263 [==============================] - 0s 344us/step - loss: -954123.5000 - accuracy: 0.2010\n",
      "Epoch 88/100\n",
      "1263/1263 [==============================] - 0s 348us/step - loss: -975580.8125 - accuracy: 0.2010\n",
      "Epoch 89/100\n",
      "1263/1263 [==============================] - 0s 340us/step - loss: -997272.1875 - accuracy: 0.2010\n",
      "Epoch 90/100\n",
      "1263/1263 [==============================] - 0s 344us/step - loss: -1019292.8125 - accuracy: 0.2009\n",
      "Epoch 91/100\n",
      "1263/1263 [==============================] - 0s 362us/step - loss: -1041506.3750 - accuracy: 0.2010\n",
      "Epoch 92/100\n",
      "1263/1263 [==============================] - 0s 349us/step - loss: -1063989.1250 - accuracy: 0.2009\n",
      "Epoch 93/100\n",
      "1263/1263 [==============================] - 0s 348us/step - loss: -1086661.8750 - accuracy: 0.2010\n",
      "Epoch 94/100\n",
      "1263/1263 [==============================] - 0s 349us/step - loss: -1109514.2500 - accuracy: 0.2010\n",
      "Epoch 95/100\n",
      "1263/1263 [==============================] - 0s 353us/step - loss: -1132688.5000 - accuracy: 0.2010\n",
      "Epoch 96/100\n",
      "1263/1263 [==============================] - 0s 343us/step - loss: -1156071.6250 - accuracy: 0.2009\n",
      "Epoch 97/100\n",
      "1263/1263 [==============================] - 0s 348us/step - loss: -1179697.0000 - accuracy: 0.2010\n",
      "Epoch 98/100\n",
      "1263/1263 [==============================] - 0s 342us/step - loss: -1203452.6250 - accuracy: 0.2010\n",
      "Epoch 99/100\n",
      "1263/1263 [==============================] - 0s 343us/step - loss: -1227513.8750 - accuracy: 0.2010\n",
      "Epoch 100/100\n",
      "1263/1263 [==============================] - 0s 361us/step - loss: -1251906.0000 - accuracy: 0.2010\n",
      "542/542 [==============================] - 0s 243us/step\n"
     ]
    },
    {
     "name": "stderr",
     "output_type": "stream",
     "text": [
      "13:27:51 INFO (models_try_out:115): The \"Deep Neural Network\" model accuracy: 0.0253, precision: 0.0006, recall: 0.0253, time: 44.61 sec.\n"
     ]
    }
   ],
   "source": [
    "from src.model.classifier.models_try_out import train_test_dnn_model\n",
    "\n",
    "# Train the model\n",
    "accuracy, precision, recall, time = train_test_dnn_model(X_scaled, y_shifted, test_size=0.3)"
   ]
  },
  {
   "cell_type": "code",
   "execution_count": null,
   "id": "e3b7fd41-2020-425a-8147-37e439b6f075",
   "metadata": {},
   "outputs": [],
   "source": []
  }
 ],
 "metadata": {
  "kernelspec": {
   "display_name": "tfm",
   "language": "python",
   "name": "tfm"
  },
  "language_info": {
   "codemirror_mode": {
    "name": "ipython",
    "version": 3
   },
   "file_extension": ".py",
   "mimetype": "text/x-python",
   "name": "python",
   "nbconvert_exporter": "python",
   "pygments_lexer": "ipython3",
   "version": "3.8.13"
  }
 },
 "nbformat": 4,
 "nbformat_minor": 5
}
