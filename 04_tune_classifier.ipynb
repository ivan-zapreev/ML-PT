{
 "cells": [
  {
   "cell_type": "code",
   "execution_count": 1,
   "id": "0ab6213e-8525-4d63-b853-1f3a209a56a7",
   "metadata": {},
   "outputs": [
    {
     "data": {
      "text/plain": [
       "'/Users/izapreev/Projects/ML-PT'"
      ]
     },
     "execution_count": 1,
     "metadata": {},
     "output_type": "execute_result"
    }
   ],
   "source": [
    "import os\n",
    "os.getcwd() "
   ]
  },
  {
   "cell_type": "code",
   "execution_count": 2,
   "id": "f6f7db3f-4734-46b9-bfc9-d87515b83732",
   "metadata": {},
   "outputs": [],
   "source": [
    "# Make sure the source code auto reloads into the kernel\n",
    "%load_ext autoreload\n",
    "%autoreload 2"
   ]
  },
  {
   "cell_type": "code",
   "execution_count": 3,
   "id": "7547c6a1-9cc1-4154-83e8-b998289173df",
   "metadata": {},
   "outputs": [],
   "source": [
    "from src.utils.logger import logger"
   ]
  },
  {
   "cell_type": "code",
   "execution_count": 4,
   "id": "d3c891e0-06f9-4a83-ba83-e08e689047c9",
   "metadata": {},
   "outputs": [
    {
     "name": "stderr",
     "output_type": "stream",
     "text": [
      "14:02:20 INFO (file_utils:32): Loading compressed numpy z file from: ./data/X.npz\n",
      "14:02:20 INFO (file_utils:35): File loading and data extraction are done!\n"
     ]
    }
   ],
   "source": [
    "from src.utils.file_utils import load_numpy_zc\n",
    "\n",
    "# Load the features file for further use\n",
    "file_name = os.path.join('.', 'data', 'X.npz')\n",
    "X, = load_numpy_zc(file_name, ['X'])"
   ]
  },
  {
   "cell_type": "code",
   "execution_count": 5,
   "id": "d741e8dd-8a23-4a06-90e1-047fec2e34b9",
   "metadata": {},
   "outputs": [
    {
     "name": "stderr",
     "output_type": "stream",
     "text": [
      "14:02:20 INFO (file_utils:32): Loading compressed numpy z file from: ./data/y.npz\n",
      "14:02:20 INFO (file_utils:35): File loading and data extraction are done!\n"
     ]
    }
   ],
   "source": [
    "# Load the classes file for further use\n",
    "file_name = os.path.join('.', 'data', 'y.npz')\n",
    "y, = load_numpy_zc(file_name, ['y'])"
   ]
  },
  {
   "cell_type": "code",
   "execution_count": 6,
   "id": "970138ae-6f91-4e64-a517-b64e6a801c3d",
   "metadata": {},
   "outputs": [],
   "source": [
    "# Lift up the label value by 1 to make sure there are no negative labels, some models do not like those\n",
    "y_shifted = y + 1"
   ]
  },
  {
   "cell_type": "code",
   "execution_count": 7,
   "id": "7f0fdf80-b542-4220-adb2-fc0055ac193c",
   "metadata": {},
   "outputs": [],
   "source": [
    "from sklearn.preprocessing import MinMaxScaler\n",
    "\n",
    "# Re-scale the features to [0, 1] range as some models do not like negative X values\n",
    "mm_scaler = MinMaxScaler().fit(X)\n",
    "X_scaled = mm_scaler.transform(X)"
   ]
  },
  {
   "cell_type": "code",
   "execution_count": null,
   "id": "a2583e43-35d9-4267-89a3-db4b869ab185",
   "metadata": {},
   "outputs": [
    {
     "name": "stderr",
     "output_type": "stream",
     "text": [
      "14:07:25 INFO (models_try_out:119): Going to use k-fold cross-validation with n_splits: 10, n_repeats: 3, random_state: 1\n"
     ]
    },
    {
     "data": {
      "application/vnd.jupyter.widget-view+json": {
       "model_id": "b658d2da434d4849ac9be551d2554618",
       "version_major": 2,
       "version_minor": 0
      },
      "text/plain": [
       "Trying out classifiers:   0%|          | 0/13 [00:00<?, ?it/s]"
      ]
     },
     "metadata": {},
     "output_type": "display_data"
    },
    {
     "data": {
      "application/vnd.jupyter.widget-view+json": {
       "model_id": "b76cff9a2f7d445f84627b1ee4b57677",
       "version_major": 2,
       "version_minor": 0
      },
      "text/plain": [
       "\"Gaussian NB Classifier\" - repeated k-fold cross-validation: 0it [00:00, ?it/s]"
      ]
     },
     "metadata": {},
     "output_type": "display_data"
    },
    {
     "name": "stderr",
     "output_type": "stream",
     "text": [
      "14:07:26 INFO (models_try_out:130): The \"Gaussian NB Classifier\" model f1-score: 0.761, accuracy: 0.7418, precision: 0.829, recall: 0.7418, time: 0.02 sec.\n"
     ]
    },
    {
     "data": {
      "application/vnd.jupyter.widget-view+json": {
       "model_id": "631c6f547969426c869c4f5fa2ba31a1",
       "version_major": 2,
       "version_minor": 0
      },
      "text/plain": [
       "\"Bernoulli NB Classifier\" - repeated k-fold cross-validation: 0it [00:00, ?it/s]"
      ]
     },
     "metadata": {},
     "output_type": "display_data"
    },
    {
     "name": "stderr",
     "output_type": "stream",
     "text": [
      "14:07:27 INFO (models_try_out:130): The \"Bernoulli NB Classifier\" model f1-score: 0.1182, accuracy: 0.2744, precision: 0.0753, recall: 0.2744, time: 0.029 sec.\n"
     ]
    },
    {
     "data": {
      "application/vnd.jupyter.widget-view+json": {
       "model_id": "f3628ad0075d4c0f86e87058571d6bc9",
       "version_major": 2,
       "version_minor": 0
      },
      "text/plain": [
       "\"Multinomial NB Classifier\" - repeated k-fold cross-validation: 0it [00:00, ?it/s]"
      ]
     },
     "metadata": {},
     "output_type": "display_data"
    },
    {
     "name": "stderr",
     "output_type": "stream",
     "text": [
      "14:07:28 INFO (models_try_out:130): The \"Multinomial NB Classifier\" model f1-score: 0.3645, accuracy: 0.5272, precision: 0.3012, recall: 0.5272, time: 0.0367 sec.\n"
     ]
    },
    {
     "data": {
      "application/vnd.jupyter.widget-view+json": {
       "model_id": "2b6604c04823427a804567a698bded31",
       "version_major": 2,
       "version_minor": 0
      },
      "text/plain": [
       "\"Logistic Regression\" - repeated k-fold cross-validation: 0it [00:00, ?it/s]"
      ]
     },
     "metadata": {},
     "output_type": "display_data"
    },
    {
     "name": "stderr",
     "output_type": "stream",
     "text": [
      "14:16:37 INFO (models_try_out:130): The \"Logistic Regression\" model f1-score: 0.8251, accuracy: 0.8761, precision: 0.7988, recall: 0.8761, time: 18.291 sec.\n"
     ]
    },
    {
     "data": {
      "application/vnd.jupyter.widget-view+json": {
       "model_id": "f8bc20dad093400e8ba24db64708f29a",
       "version_major": 2,
       "version_minor": 0
      },
      "text/plain": [
       "\"Random Forest Classifier\" - repeated k-fold cross-validation: 0it [00:00, ?it/s]"
      ]
     },
     "metadata": {},
     "output_type": "display_data"
    },
    {
     "name": "stderr",
     "output_type": "stream",
     "text": [
      "14:18:42 INFO (models_try_out:130): The \"Random Forest Classifier\" model f1-score: 0.9942, accuracy: 0.9944, precision: 0.9944, recall: 0.9944, time: 4.1483 sec.\n"
     ]
    },
    {
     "data": {
      "application/vnd.jupyter.widget-view+json": {
       "model_id": "7a8567fd197541108970717f1f4ef03b",
       "version_major": 2,
       "version_minor": 0
      },
      "text/plain": [
       "\"Ada Boost Classifier\" - repeated k-fold cross-validation: 0it [00:00, ?it/s]"
      ]
     },
     "metadata": {},
     "output_type": "display_data"
    },
    {
     "name": "stderr",
     "output_type": "stream",
     "text": [
      "14:20:12 INFO (models_try_out:130): The \"Ada Boost Classifier\" model f1-score: 0.2987, accuracy: 0.4246, precision: 0.3387, recall: 0.4246, time: 2.982 sec.\n"
     ]
    },
    {
     "data": {
      "application/vnd.jupyter.widget-view+json": {
       "model_id": "0db579460fab4216ae2c107aae66c976",
       "version_major": 2,
       "version_minor": 0
      },
      "text/plain": [
       "\"XGB Classifier\" - repeated k-fold cross-validation: 0it [00:00, ?it/s]"
      ]
     },
     "metadata": {},
     "output_type": "display_data"
    },
    {
     "name": "stderr",
     "output_type": "stream",
     "text": [
      "14:28:24 INFO (models_try_out:130): The \"XGB Classifier\" model f1-score: 0.994, accuracy: 0.9942, precision: 0.9941, recall: 0.9942, time: 16.3897 sec.\n"
     ]
    },
    {
     "data": {
      "application/vnd.jupyter.widget-view+json": {
       "model_id": "6be2535888974f86aa642bdf06cdf1ce",
       "version_major": 2,
       "version_minor": 0
      },
      "text/plain": [
       "\"KNeighbors Classifier\" - repeated k-fold cross-validation: 0it [00:00, ?it/s]"
      ]
     },
     "metadata": {},
     "output_type": "display_data"
    },
    {
     "name": "stderr",
     "output_type": "stream",
     "text": [
      "14:28:27 INFO (models_try_out:130): The \"KNeighbors Classifier\" model f1-score: 0.9897, accuracy: 0.9903, precision: 0.9904, recall: 0.9903, time: 0.1183 sec.\n"
     ]
    },
    {
     "data": {
      "application/vnd.jupyter.widget-view+json": {
       "model_id": "870833c9d7d44366ac397c067c4fc4fe",
       "version_major": 2,
       "version_minor": 0
      },
      "text/plain": [
       "\"Extra Trees Classifier\" - repeated k-fold cross-validation: 0it [00:00, ?it/s]"
      ]
     },
     "metadata": {},
     "output_type": "display_data"
    },
    {
     "name": "stderr",
     "output_type": "stream",
     "text": [
      "14:28:54 INFO (models_try_out:130): The \"Extra Trees Classifier\" model f1-score: 0.9934, accuracy: 0.9936, precision: 0.9937, recall: 0.9936, time: 0.8637 sec.\n"
     ]
    },
    {
     "data": {
      "application/vnd.jupyter.widget-view+json": {
       "model_id": "9b049c9373f34b489e0e906db5178a88",
       "version_major": 2,
       "version_minor": 0
      },
      "text/plain": [
       "\"Gradient Boosting Classifier\" - repeated k-fold cross-validation: 0it [00:00, ?it/s]"
      ]
     },
     "metadata": {},
     "output_type": "display_data"
    },
    {
     "name": "stderr",
     "output_type": "stream",
     "text": [
      "16:16:55 INFO (models_try_out:130): The \"Gradient Boosting Classifier\" model f1-score: 0.6197, accuracy: 0.6036, precision: 0.6992, recall: 0.6036, time: 216.0573 sec.\n"
     ]
    },
    {
     "data": {
      "application/vnd.jupyter.widget-view+json": {
       "model_id": "f69ee77eb12045a1bf8b3f745c859bf8",
       "version_major": 2,
       "version_minor": 0
      },
      "text/plain": [
       "\"SVC Classifier\" - repeated k-fold cross-validation: 0it [00:00, ?it/s]"
      ]
     },
     "metadata": {},
     "output_type": "display_data"
    }
   ],
   "source": [
    "from src.model.classifier.models_try_out import train_test_on_models\n",
    "\n",
    "# Train various available classigication models to choose the onses that perform best\n",
    "results = train_test_on_models(X_scaled, y_shifted)"
   ]
  },
  {
   "cell_type": "code",
   "execution_count": null,
   "id": "0b65a117-1b1d-4ea7-8b00-2008bdb3d987",
   "metadata": {},
   "outputs": [],
   "source": [
    "# Log the model's average fitness values in a sorted manner with f1 score leading\n",
    "for result in results:\n",
    "    logger.info(f'Model: \"{result[4]}\", Accuracy (TP+TN): {round(result[0], 4)}, ' \\\n",
    "                f'Precision (FP): {round(result[1], 4)}, Recall (FN): {round(result[2], 4)}, Time: {result[3]} sec.')"
   ]
  },
  {
   "cell_type": "code",
   "execution_count": null,
   "id": "e6235137-a4fd-46d8-8b34-96a9019b5806",
   "metadata": {},
   "outputs": [],
   "source": [
    "#############################################################################\n",
    "# Summary of observations:\n",
    "#\n",
    "#\n",
    "# Conclusion:\n",
    "#     \n",
    "#        \n",
    "#############################################################################"
   ]
  },
  {
   "cell_type": "code",
   "execution_count": null,
   "id": "edb97727-9644-4490-b2a6-56fc2d4214a0",
   "metadata": {},
   "outputs": [],
   "source": [
    "# TODO: Further explore the DNN possibility for a model, the initial model is primitive \n",
    "#       and results in very low recall values compared to the classifiers above, however\n",
    "#       it could be worthwhile exploring it further"
   ]
  },
  {
   "cell_type": "code",
   "execution_count": null,
   "id": "04a90aaf-8159-41c3-af03-947713ca5ae6",
   "metadata": {},
   "outputs": [],
   "source": [
    "from src.model.classifier.models_try_out import train_test_dnn_model\n",
    "\n",
    "# Train the model\n",
    "accuracy, precision, recall, time = train_test_dnn_model(X_scaled, y_shifted)"
   ]
  }
 ],
 "metadata": {
  "kernelspec": {
   "display_name": "tfm",
   "language": "python",
   "name": "tfm"
  },
  "language_info": {
   "codemirror_mode": {
    "name": "ipython",
    "version": 3
   },
   "file_extension": ".py",
   "mimetype": "text/x-python",
   "name": "python",
   "nbconvert_exporter": "python",
   "pygments_lexer": "ipython3",
   "version": "3.8.13"
  }
 },
 "nbformat": 4,
 "nbformat_minor": 5
}
