{
 "cells": [
  {
   "cell_type": "code",
   "execution_count": 1,
   "id": "0ab6213e-8525-4d63-b853-1f3a209a56a7",
   "metadata": {},
   "outputs": [
    {
     "data": {
      "text/plain": [
       "'/Users/izapreev/Projects/ML-PT'"
      ]
     },
     "execution_count": 1,
     "metadata": {},
     "output_type": "execute_result"
    }
   ],
   "source": [
    "import os\n",
    "os.getcwd() "
   ]
  },
  {
   "cell_type": "code",
   "execution_count": 2,
   "id": "f6f7db3f-4734-46b9-bfc9-d87515b83732",
   "metadata": {},
   "outputs": [],
   "source": [
    "# Make sure the source code auto reloads into the kernel\n",
    "%load_ext autoreload\n",
    "%autoreload 2"
   ]
  },
  {
   "cell_type": "code",
   "execution_count": 3,
   "id": "d3c891e0-06f9-4a83-ba83-e08e689047c9",
   "metadata": {},
   "outputs": [
    {
     "name": "stderr",
     "output_type": "stream",
     "text": [
      "12:00:14 INFO (file_utils:32): Loading compressed numpy z file from: ./data/X.npz\n",
      "12:00:14 INFO (file_utils:35): File loading and data extraction are done!\n"
     ]
    }
   ],
   "source": [
    "from src.utils.file_utils import load_numpy_zc\n",
    "\n",
    "# Load the features file for further use\n",
    "file_name = os.path.join('.', 'data', 'X.npz')\n",
    "X, = load_numpy_zc(file_name, ['X'])"
   ]
  },
  {
   "cell_type": "code",
   "execution_count": 4,
   "id": "d741e8dd-8a23-4a06-90e1-047fec2e34b9",
   "metadata": {},
   "outputs": [
    {
     "name": "stderr",
     "output_type": "stream",
     "text": [
      "12:00:14 INFO (file_utils:32): Loading compressed numpy z file from: ./data/y.npz\n",
      "12:00:14 INFO (file_utils:35): File loading and data extraction are done!\n"
     ]
    }
   ],
   "source": [
    "# Load the classes file for further use\n",
    "file_name = os.path.join('.', 'data', 'y.npz')\n",
    "y, = load_numpy_zc(file_name, ['y'])"
   ]
  },
  {
   "cell_type": "code",
   "execution_count": null,
   "id": "a2583e43-35d9-4267-89a3-db4b869ab185",
   "metadata": {},
   "outputs": [],
   "source": []
  }
 ],
 "metadata": {
  "kernelspec": {
   "display_name": "tfm",
   "language": "python",
   "name": "tfm"
  },
  "language_info": {
   "codemirror_mode": {
    "name": "ipython",
    "version": 3
   },
   "file_extension": ".py",
   "mimetype": "text/x-python",
   "name": "python",
   "nbconvert_exporter": "python",
   "pygments_lexer": "ipython3",
   "version": "3.8.13"
  }
 },
 "nbformat": 4,
 "nbformat_minor": 5
}
