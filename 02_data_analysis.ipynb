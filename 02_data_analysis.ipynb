{
 "cells": [
  {
   "cell_type": "code",
   "execution_count": 1,
   "id": "9d10dc36-39c2-44cb-9863-ed05f0f8b72d",
   "metadata": {},
   "outputs": [
    {
     "data": {
      "text/plain": [
       "'/Users/izapreev/Projects/ML-PT'"
      ]
     },
     "execution_count": 1,
     "metadata": {},
     "output_type": "execute_result"
    }
   ],
   "source": [
    "import os\n",
    "os.getcwd() "
   ]
  },
  {
   "cell_type": "code",
   "execution_count": 2,
   "id": "150aeeb4-4a21-4510-98b6-44627ba5dff7",
   "metadata": {},
   "outputs": [],
   "source": [
    "# Make sure the source code auto reloads into the kernel\\n\n",
    "%load_ext autoreload\n",
    "%autoreload 2"
   ]
  },
  {
   "cell_type": "code",
   "execution_count": 3,
   "id": "cf248be7-ef24-4985-8c17-351b87cd1c3a",
   "metadata": {},
   "outputs": [],
   "source": [
    "import numpy as np\n",
    "import pandas as pd\n",
    "import sklearn as sk\n",
    "import matplotlib.pyplot as plt\n",
    "\n",
    "from src.utils.logger import logger"
   ]
  },
  {
   "cell_type": "code",
   "execution_count": 4,
   "id": "9bf638df-a0d3-4158-9ad4-87189490be85",
   "metadata": {},
   "outputs": [],
   "source": [
    "# Load the provided test data\n",
    "data_df = pd.read_csv('./data/part_10_wrangled.csv')"
   ]
  },
  {
   "cell_type": "code",
   "execution_count": 5,
   "id": "13d8acbc-4c43-4b3d-9500-c2ab3ceb34f0",
   "metadata": {},
   "outputs": [
    {
     "data": {
      "text/plain": [
       "EVENT_ID                     string\n",
       "CLIENT_IP                    string\n",
       "CLIENT_USERAGENT             string\n",
       "IS_USERAGENT_VALID          boolean\n",
       "REQUEST_SIZE                  Int64\n",
       "RESPONSE_CODE                 Int64\n",
       "MATCHED_VARIABLE_SRC         string\n",
       "MATCHED_VARIABLE_SRC_SEC     string\n",
       "MATCHED_VARIABLE_NAME        string\n",
       "MATCHED_VARIABLE_VALUE       string\n",
       "dtype: object"
      ]
     },
     "execution_count": 5,
     "metadata": {},
     "output_type": "execute_result"
    }
   ],
   "source": [
    "# The only na values are for strings - replace with empty\n",
    "data_df = data_df.fillna('')\n",
    "# Infer the best data types\n",
    "data_df = data_df.convert_dtypes()\n",
    "# Check on the column types\n",
    "data_df.dtypes"
   ]
  },
  {
   "cell_type": "code",
   "execution_count": 6,
   "id": "d477deb4-3e13-4b3d-8caa-3fb368f9be1d",
   "metadata": {},
   "outputs": [
    {
     "name": "stderr",
     "output_type": "stream",
     "text": [
      "11:44:47 INFO (extractor:64): Actual Non-Feature Columns: ['EVENT_ID']\n",
      "11:44:47 INFO (extractor:68): Actual Scaling flag: True\n",
      "11:44:47 INFO (extractor:76): Actual PCA arguments: {'n_components': 0.999999}, the PCA is: Enabled\n",
      "11:44:47 INFO (extractor:113): Start fitting the Feature Extraction model\n",
      "11:44:47 INFO (extractor:108): Considering feature columns: ['CLIENT_IP', 'CLIENT_USERAGENT', 'IS_USERAGENT_VALID', 'REQUEST_SIZE', 'RESPONSE_CODE', 'MATCHED_VARIABLE_SRC', 'MATCHED_VARIABLE_SRC_SEC', 'MATCHED_VARIABLE_NAME', 'MATCHED_VARIABLE_VALUE']\n",
      "11:44:47 INFO (extractor:118): Fitting the vectorizer for: \"CLIENT_USERAGENT\"\n",
      "11:44:47 INFO (extractor:118): Fitting the vectorizer for: \"MATCHED_VARIABLE_SRC\"\n",
      "11:44:47 INFO (extractor:118): Fitting the vectorizer for: \"MATCHED_VARIABLE_SRC_SEC\"\n",
      "11:44:47 INFO (extractor:118): Fitting the vectorizer for: \"MATCHED_VARIABLE_NAME\"\n",
      "11:44:47 INFO (extractor:118): Fitting the vectorizer for: \"MATCHED_VARIABLE_VALUE\"\n",
      "11:44:49 INFO (extractor:129): Start fitting the scaler\n",
      "11:44:49 INFO (extractor:134): Start fitting the PCA\n",
      "11:44:49 INFO (extractor:137): Fitting the Feature Extractor model is done!\n",
      "11:44:49 INFO (extractor:165): Start transforming the data with the Feature Extraction model\n",
      "11:44:50 INFO (extractor:172): Starting the scaler transform\n",
      "11:44:50 INFO (extractor:177): Starting the PCA transform, the initial X shape: (57729, 78)\n",
      "11:44:50 INFO (extractor:179): The X shape after the PCA transform: (57729, 9)\n",
      "11:44:50 INFO (extractor:181): Transforming with the Feature Extractor model is done!\n",
      "11:44:50 INFO (extractor:147): The feature names remaining after PCA:\n",
      "['CLIENT_IP_0', 'CLIENT_IP_1', 'CLIENT_IP_2', 'CLIENT_IP_3', 'CLIENT_IP_4', 'CLIENT_IP_5', 'CLIENT_IP_6', 'CLIENT_IP_7', 'CLIENT_USERAGENT_0']\n",
      "11:44:50 INFO (extractor:148): The variance explained:\n",
      "[9.53606314e-01 2.46938817e-02 2.09417498e-02 4.85816958e-04\n",
      " 1.50394316e-04 6.45124298e-05 3.06114516e-05 2.49536267e-05\n",
      " 1.05135781e-06]\n"
     ]
    }
   ],
   "source": [
    "from src.features.extractor import FeatureExtractor\n",
    "\n",
    "# Get the features for all the data with Scaling and PCA the data\n",
    "extractor = FeatureExtractor()\n",
    "X = extractor.fit_transform(data_df)\n",
    "\n",
    "# Get the names of the features remaining after the PCA\n",
    "_ = extractor.get_feature_names_out()"
   ]
  },
  {
   "cell_type": "code",
   "execution_count": 7,
   "id": "d73a0522-da57-4e6e-be7f-bfa68a256f06",
   "metadata": {},
   "outputs": [
    {
     "name": "stderr",
     "output_type": "stream",
     "text": [
      "11:44:50 INFO (extractor:64): Actual Non-Feature Columns: ['EVENT_ID', 'CLIENT_IP']\n",
      "11:44:50 INFO (extractor:68): Actual Scaling flag: True\n",
      "11:44:50 INFO (extractor:76): Actual PCA arguments: {'n_components': 0.999999}, the PCA is: Enabled\n",
      "11:44:50 INFO (extractor:113): Start fitting the Feature Extraction model\n",
      "11:44:50 INFO (extractor:108): Considering feature columns: ['CLIENT_USERAGENT', 'IS_USERAGENT_VALID', 'REQUEST_SIZE', 'RESPONSE_CODE', 'MATCHED_VARIABLE_SRC', 'MATCHED_VARIABLE_SRC_SEC', 'MATCHED_VARIABLE_NAME', 'MATCHED_VARIABLE_VALUE']\n",
      "11:44:50 INFO (extractor:118): Fitting the vectorizer for: \"CLIENT_USERAGENT\"\n",
      "11:44:51 INFO (extractor:118): Fitting the vectorizer for: \"MATCHED_VARIABLE_SRC\"\n",
      "11:44:51 INFO (extractor:118): Fitting the vectorizer for: \"MATCHED_VARIABLE_SRC_SEC\"\n",
      "11:44:51 INFO (extractor:118): Fitting the vectorizer for: \"MATCHED_VARIABLE_NAME\"\n",
      "11:44:51 INFO (extractor:118): Fitting the vectorizer for: \"MATCHED_VARIABLE_VALUE\"\n",
      "11:44:52 INFO (extractor:129): Start fitting the scaler\n",
      "11:44:52 INFO (extractor:134): Start fitting the PCA\n",
      "11:44:53 INFO (extractor:137): Fitting the Feature Extractor model is done!\n",
      "11:44:53 INFO (extractor:165): Start transforming the data with the Feature Extraction model\n",
      "11:44:54 INFO (extractor:172): Starting the scaler transform\n",
      "11:44:54 INFO (extractor:177): Starting the PCA transform, the initial X shape: (57729, 70)\n",
      "11:44:54 INFO (extractor:179): The X shape after the PCA transform: (57729, 1)\n",
      "11:44:54 INFO (extractor:181): Transforming with the Feature Extractor model is done!\n",
      "11:44:54 INFO (extractor:147): The feature names remaining after PCA:\n",
      "['CLIENT_USERAGENT_0']\n",
      "11:44:54 INFO (extractor:148): The variance explained:\n",
      "[0.99999923]\n"
     ]
    }
   ],
   "source": [
    "# Get the features additionally ignoring the CLIENT_IP column with Scaling and PCA the data\n",
    "extractor = FeatureExtractor(ignore_columns=['EVENT_ID', 'CLIENT_IP'])\n",
    "X = extractor.fit_transform(data_df)\n",
    "\n",
    "# Get the names of the features remaining after the PCA\n",
    "_ = extractor.get_feature_names_out()"
   ]
  },
  {
   "cell_type": "code",
   "execution_count": 8,
   "id": "d1498e99-b331-4754-872a-97cb60555b4b",
   "metadata": {},
   "outputs": [
    {
     "name": "stderr",
     "output_type": "stream",
     "text": [
      "11:44:54 INFO (extractor:64): Actual Non-Feature Columns: ['EVENT_ID', 'CLIENT_IP', 'CLIENT_USERAGENT']\n",
      "11:44:54 INFO (extractor:68): Actual Scaling flag: True\n",
      "11:44:54 INFO (extractor:76): Actual PCA arguments: {'n_components': 0.999999}, the PCA is: Enabled\n",
      "11:44:54 INFO (extractor:113): Start fitting the Feature Extraction model\n",
      "11:44:54 INFO (extractor:108): Considering feature columns: ['IS_USERAGENT_VALID', 'REQUEST_SIZE', 'RESPONSE_CODE', 'MATCHED_VARIABLE_SRC', 'MATCHED_VARIABLE_SRC_SEC', 'MATCHED_VARIABLE_NAME', 'MATCHED_VARIABLE_VALUE']\n",
      "11:44:54 INFO (extractor:118): Fitting the vectorizer for: \"MATCHED_VARIABLE_SRC\"\n",
      "11:44:54 INFO (extractor:118): Fitting the vectorizer for: \"MATCHED_VARIABLE_SRC_SEC\"\n",
      "11:44:54 INFO (extractor:118): Fitting the vectorizer for: \"MATCHED_VARIABLE_NAME\"\n",
      "11:44:54 INFO (extractor:118): Fitting the vectorizer for: \"MATCHED_VARIABLE_VALUE\"\n",
      "11:44:55 INFO (extractor:129): Start fitting the scaler\n",
      "11:44:55 INFO (extractor:134): Start fitting the PCA\n",
      "11:44:55 INFO (extractor:137): Fitting the Feature Extractor model is done!\n",
      "11:44:55 INFO (extractor:165): Start transforming the data with the Feature Extraction model\n",
      "11:44:56 INFO (extractor:172): Starting the scaler transform\n",
      "11:44:56 INFO (extractor:177): Starting the PCA transform, the initial X shape: (57729, 60)\n",
      "11:44:56 INFO (extractor:179): The X shape after the PCA transform: (57729, 1)\n",
      "11:44:56 INFO (extractor:181): Transforming with the Feature Extractor model is done!\n",
      "11:44:56 INFO (extractor:147): The feature names remaining after PCA:\n",
      "['IS_USERAGENT_VALID']\n",
      "11:44:56 INFO (extractor:148): The variance explained:\n",
      "[0.99999923]\n"
     ]
    }
   ],
   "source": [
    "# Get the features additionally ignoring the CLIENT_IP and CLIENT_USERAGENT columns with Scaling and PCA the data\n",
    "extractor = FeatureExtractor(ignore_columns=['EVENT_ID', 'CLIENT_IP', 'CLIENT_USERAGENT'])\n",
    "X = extractor.fit_transform(data_df)\n",
    "\n",
    "# Get the names of the features remaining after the PCA\n",
    "_ = extractor.get_feature_names_out()"
   ]
  },
  {
   "cell_type": "code",
   "execution_count": 9,
   "id": "d31484b9-6ada-46e9-b114-15bc4d7c6314",
   "metadata": {},
   "outputs": [
    {
     "name": "stderr",
     "output_type": "stream",
     "text": [
      "11:44:56 INFO (extractor:64): Actual Non-Feature Columns: ['EVENT_ID', 'CLIENT_IP', 'CLIENT_USERAGENT', 'IS_USERAGENT_VALID']\n",
      "11:44:56 INFO (extractor:68): Actual Scaling flag: True\n",
      "11:44:56 INFO (extractor:76): Actual PCA arguments: {'n_components': 0.999999}, the PCA is: Enabled\n",
      "11:44:56 INFO (extractor:113): Start fitting the Feature Extraction model\n",
      "11:44:56 INFO (extractor:108): Considering feature columns: ['REQUEST_SIZE', 'RESPONSE_CODE', 'MATCHED_VARIABLE_SRC', 'MATCHED_VARIABLE_SRC_SEC', 'MATCHED_VARIABLE_NAME', 'MATCHED_VARIABLE_VALUE']\n",
      "11:44:56 INFO (extractor:118): Fitting the vectorizer for: \"MATCHED_VARIABLE_SRC\"\n",
      "11:44:56 INFO (extractor:118): Fitting the vectorizer for: \"MATCHED_VARIABLE_SRC_SEC\"\n",
      "11:44:56 INFO (extractor:118): Fitting the vectorizer for: \"MATCHED_VARIABLE_NAME\"\n",
      "11:44:57 INFO (extractor:118): Fitting the vectorizer for: \"MATCHED_VARIABLE_VALUE\"\n",
      "11:44:58 INFO (extractor:129): Start fitting the scaler\n",
      "11:44:58 INFO (extractor:134): Start fitting the PCA\n",
      "11:44:58 INFO (extractor:137): Fitting the Feature Extractor model is done!\n",
      "11:44:58 INFO (extractor:165): Start transforming the data with the Feature Extraction model\n",
      "11:44:58 INFO (extractor:172): Starting the scaler transform\n",
      "11:44:58 INFO (extractor:177): Starting the PCA transform, the initial X shape: (57729, 59)\n",
      "11:44:58 INFO (extractor:179): The X shape after the PCA transform: (57729, 1)\n",
      "11:44:58 INFO (extractor:181): Transforming with the Feature Extractor model is done!\n",
      "11:44:58 INFO (extractor:147): The feature names remaining after PCA:\n",
      "['REQUEST_SIZE']\n",
      "11:44:59 INFO (extractor:148): The variance explained:\n",
      "[0.99999923]\n"
     ]
    }
   ],
   "source": [
    "# Get the features additionally ignoring the CLIENT_IP, CLIENT_USERAGENT, and IS_USERAGENT_VALID columns with Scaling and PCA the data\n",
    "extractor = FeatureExtractor(ignore_columns=['EVENT_ID', 'CLIENT_IP', 'CLIENT_USERAGENT', 'IS_USERAGENT_VALID'])\n",
    "X = extractor.fit_transform(data_df)\n",
    "\n",
    "# Get the names of the features remaining after the PCA\n",
    "_ = extractor.get_feature_names_out()"
   ]
  },
  {
   "cell_type": "code",
   "execution_count": 10,
   "id": "7e03b802-535a-4da7-a7ce-21e5952da899",
   "metadata": {},
   "outputs": [
    {
     "name": "stderr",
     "output_type": "stream",
     "text": [
      "11:44:59 INFO (extractor:64): Actual Non-Feature Columns: ['EVENT_ID', 'CLIENT_IP', 'CLIENT_USERAGENT', 'IS_USERAGENT_VALID', 'REQUEST_SIZE']\n",
      "11:44:59 INFO (extractor:68): Actual Scaling flag: True\n",
      "11:44:59 INFO (extractor:76): Actual PCA arguments: {'n_components': 0.999999}, the PCA is: Enabled\n",
      "11:44:59 INFO (extractor:113): Start fitting the Feature Extraction model\n",
      "11:44:59 INFO (extractor:108): Considering feature columns: ['RESPONSE_CODE', 'MATCHED_VARIABLE_SRC', 'MATCHED_VARIABLE_SRC_SEC', 'MATCHED_VARIABLE_NAME', 'MATCHED_VARIABLE_VALUE']\n",
      "11:44:59 INFO (extractor:118): Fitting the vectorizer for: \"MATCHED_VARIABLE_SRC\"\n",
      "11:44:59 INFO (extractor:118): Fitting the vectorizer for: \"MATCHED_VARIABLE_SRC_SEC\"\n",
      "11:44:59 INFO (extractor:118): Fitting the vectorizer for: \"MATCHED_VARIABLE_NAME\"\n",
      "11:44:59 INFO (extractor:118): Fitting the vectorizer for: \"MATCHED_VARIABLE_VALUE\"\n",
      "11:45:00 INFO (extractor:129): Start fitting the scaler\n",
      "11:45:00 INFO (extractor:134): Start fitting the PCA\n",
      "11:45:00 INFO (extractor:137): Fitting the Feature Extractor model is done!\n",
      "11:45:00 INFO (extractor:165): Start transforming the data with the Feature Extraction model\n",
      "11:45:01 INFO (extractor:172): Starting the scaler transform\n",
      "11:45:01 INFO (extractor:177): Starting the PCA transform, the initial X shape: (57729, 58)\n",
      "11:45:01 INFO (extractor:179): The X shape after the PCA transform: (57729, 35)\n",
      "11:45:01 INFO (extractor:181): Transforming with the Feature Extractor model is done!\n",
      "11:45:01 INFO (extractor:147): The feature names remaining after PCA:\n",
      "['RESPONSE_CODE', 'MATCHED_VARIABLE_SRC', 'MATCHED_VARIABLE_SRC_SEC', 'MATCHED_VARIABLE_NAME_0', 'MATCHED_VARIABLE_NAME_1', 'MATCHED_VARIABLE_NAME_2', 'MATCHED_VARIABLE_NAME_3', 'MATCHED_VARIABLE_NAME_4', 'MATCHED_VARIABLE_NAME_5', 'MATCHED_VARIABLE_NAME_6', 'MATCHED_VARIABLE_NAME_7', 'MATCHED_VARIABLE_NAME_8', 'MATCHED_VARIABLE_NAME_9', 'MATCHED_VARIABLE_NAME_10', 'MATCHED_VARIABLE_NAME_11', 'MATCHED_VARIABLE_NAME_12', 'MATCHED_VARIABLE_NAME_13', 'MATCHED_VARIABLE_NAME_14', 'MATCHED_VARIABLE_VALUE_0', 'MATCHED_VARIABLE_VALUE_1', 'MATCHED_VARIABLE_VALUE_2', 'MATCHED_VARIABLE_VALUE_3', 'MATCHED_VARIABLE_VALUE_4', 'MATCHED_VARIABLE_VALUE_5', 'MATCHED_VARIABLE_VALUE_6', 'MATCHED_VARIABLE_VALUE_7', 'MATCHED_VARIABLE_VALUE_8', 'MATCHED_VARIABLE_VALUE_9', 'MATCHED_VARIABLE_VALUE_10', 'MATCHED_VARIABLE_VALUE_11', 'MATCHED_VARIABLE_VALUE_12', 'MATCHED_VARIABLE_VALUE_13', 'MATCHED_VARIABLE_VALUE_14', 'MATCHED_VARIABLE_VALUE_15', 'MATCHED_VARIABLE_VALUE_16']\n",
      "11:45:01 INFO (extractor:148): The variance explained:\n",
      "[9.99939910e-01 6.83526079e-06 5.46928552e-06 4.78112511e-06\n",
      " 4.23215156e-06 4.13557842e-06 3.74143411e-06 3.15361088e-06\n",
      " 3.09268982e-06 2.89776230e-06 2.36191517e-06 2.17319013e-06\n",
      " 1.85188237e-06 1.66473535e-06 1.48196168e-06 1.37754981e-06\n",
      " 1.17692890e-06 1.04650746e-06 8.64048643e-07 8.29690853e-07\n",
      " 6.47612087e-07 6.27759063e-07 6.13225859e-07 5.78079238e-07\n",
      " 5.17160097e-07 4.90658585e-07 4.27941820e-07 3.69660072e-07\n",
      " 3.35844948e-07 3.18447537e-07 3.13586339e-07 2.66700044e-07\n",
      " 1.84507015e-07 1.74601588e-07 1.46928768e-07]\n"
     ]
    }
   ],
   "source": [
    "# Get the features additionally ignoring the CLIENT_IP, CLIENT_USERAGENT, IS_USERAGENT_VALID, and REQUEST_SIZE columns with Scaling and PCA the data\n",
    "extractor = FeatureExtractor(ignore_columns=['EVENT_ID', 'CLIENT_IP', 'CLIENT_USERAGENT', 'IS_USERAGENT_VALID', 'REQUEST_SIZE'])\n",
    "X = extractor.fit_transform(data_df)\n",
    "\n",
    "# Get the names of the features remaining after the PCA\n",
    "_ = extractor.get_feature_names_out()"
   ]
  },
  {
   "cell_type": "code",
   "execution_count": null,
   "id": "4e603efb-1b77-4928-a756-f435ac394c55",
   "metadata": {},
   "outputs": [],
   "source": []
  }
 ],
 "metadata": {
  "kernelspec": {
   "display_name": "tfm",
   "language": "python",
   "name": "tfm"
  },
  "language_info": {
   "codemirror_mode": {
    "name": "ipython",
    "version": 3
   },
   "file_extension": ".py",
   "mimetype": "text/x-python",
   "name": "python",
   "nbconvert_exporter": "python",
   "pygments_lexer": "ipython3",
   "version": "3.8.13"
  }
 },
 "nbformat": 4,
 "nbformat_minor": 5
}
