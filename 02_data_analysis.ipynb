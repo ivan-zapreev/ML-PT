{
 "cells": [
  {
   "cell_type": "code",
   "execution_count": 22,
   "id": "9d10dc36-39c2-44cb-9863-ed05f0f8b72d",
   "metadata": {},
   "outputs": [
    {
     "data": {
      "text/plain": [
       "'/Users/izapreev/Projects/ML-PT'"
      ]
     },
     "execution_count": 22,
     "metadata": {},
     "output_type": "execute_result"
    }
   ],
   "source": [
    "import os\n",
    "os.getcwd() "
   ]
  },
  {
   "cell_type": "code",
   "execution_count": 23,
   "id": "150aeeb4-4a21-4510-98b6-44627ba5dff7",
   "metadata": {},
   "outputs": [
    {
     "name": "stdout",
     "output_type": "stream",
     "text": [
      "The autoreload extension is already loaded. To reload it, use:\n",
      "  %reload_ext autoreload\n"
     ]
    }
   ],
   "source": [
    "# Make sure the source code auto reloads into the kernel\\n\n",
    "%load_ext autoreload\n",
    "%autoreload 2"
   ]
  },
  {
   "cell_type": "code",
   "execution_count": 24,
   "id": "cf248be7-ef24-4985-8c17-351b87cd1c3a",
   "metadata": {},
   "outputs": [],
   "source": [
    "import numpy as np\n",
    "import pandas as pd\n",
    "import sklearn as sk\n",
    "import matplotlib.pyplot as plt\n",
    "\n",
    "from src.utils.logger import logger"
   ]
  },
  {
   "cell_type": "code",
   "execution_count": 25,
   "id": "9bf638df-a0d3-4158-9ad4-87189490be85",
   "metadata": {},
   "outputs": [],
   "source": [
    "# Load the provided test data\n",
    "data_df = pd.read_csv('./data/part_10_wrangled.csv')"
   ]
  },
  {
   "cell_type": "code",
   "execution_count": 26,
   "id": "13d8acbc-4c43-4b3d-9500-c2ab3ceb34f0",
   "metadata": {},
   "outputs": [
    {
     "data": {
      "text/plain": [
       "EVENT_ID                     string\n",
       "CLIENT_IP                    string\n",
       "CLIENT_USERAGENT             string\n",
       "IS_USERAGENT_VALID          boolean\n",
       "REQUEST_SIZE                  Int64\n",
       "RESPONSE_CODE                 Int64\n",
       "MATCHED_VARIABLE_SRC         string\n",
       "MATCHED_VARIABLE_SRC_SEC     string\n",
       "MATCHED_VARIABLE_NAME        string\n",
       "MATCHED_VARIABLE_VALUE       string\n",
       "dtype: object"
      ]
     },
     "execution_count": 26,
     "metadata": {},
     "output_type": "execute_result"
    }
   ],
   "source": [
    "# The only na values are for strings - replace with empty\n",
    "data_df = data_df.fillna('')\n",
    "# Infer the best data types\n",
    "data_df = data_df.convert_dtypes()\n",
    "# Check on the column types\n",
    "data_df.dtypes"
   ]
  },
  {
   "cell_type": "code",
   "execution_count": 56,
   "id": "d477deb4-3e13-4b3d-8caa-3fb368f9be1d",
   "metadata": {},
   "outputs": [
    {
     "name": "stderr",
     "output_type": "stream",
     "text": [
      "11:11:30 INFO (extractor:64): Actual Non-Feature Columns: ['EVENT_ID']\n",
      "11:11:30 INFO (extractor:68): Actual Normalization flag: True\n",
      "11:11:30 INFO (extractor:76): Actual PCA arguments: {'n_components': 0.999999}, the PCA is: Enabled\n",
      "11:11:30 INFO (extractor:113): Start fitting the Feature Extraction model\n",
      "11:11:30 INFO (extractor:108): Considering feature columns: ['CLIENT_IP', 'CLIENT_USERAGENT', 'IS_USERAGENT_VALID', 'REQUEST_SIZE', 'RESPONSE_CODE', 'MATCHED_VARIABLE_SRC', 'MATCHED_VARIABLE_SRC_SEC', 'MATCHED_VARIABLE_NAME', 'MATCHED_VARIABLE_VALUE']\n",
      "11:11:30 INFO (extractor:118): Fitting the vectorizer for: \"CLIENT_USERAGENT\"\n",
      "11:11:31 INFO (extractor:118): Fitting the vectorizer for: \"MATCHED_VARIABLE_SRC\"\n",
      "11:11:31 INFO (extractor:118): Fitting the vectorizer for: \"MATCHED_VARIABLE_SRC_SEC\"\n",
      "11:11:31 INFO (extractor:118): Fitting the vectorizer for: \"MATCHED_VARIABLE_NAME\"\n",
      "11:11:31 INFO (extractor:118): Fitting the vectorizer for: \"MATCHED_VARIABLE_VALUE\"\n",
      "11:11:32 INFO (extractor:129): Start fitting the scaler\n",
      "11:11:32 INFO (extractor:134): Start fitting the PCA\n",
      "11:11:33 INFO (extractor:137): Fitting the Feature Extractor model is done!\n",
      "11:11:33 INFO (extractor:165): Start transforming the data with the Feature Extraction model\n",
      "11:11:34 INFO (extractor:172): Starting the scaler transform\n",
      "11:11:34 INFO (extractor:177): Starting the PCA transform, the initial X shape: (57729, 78)\n",
      "11:11:34 INFO (extractor:179): The X shape after the PCA transform: (57729, 9)\n",
      "11:11:34 INFO (extractor:181): Transforming with the Feature Extractor model is done!\n",
      "11:11:34 INFO (extractor:147): The feature names remaining after PCA:\n",
      "['CLIENT_IP_0', 'CLIENT_IP_1', 'CLIENT_IP_2', 'CLIENT_IP_3', 'CLIENT_IP_4', 'CLIENT_IP_5', 'CLIENT_IP_6', 'CLIENT_IP_7', 'CLIENT_USERAGENT_0']\n",
      "11:11:34 INFO (extractor:148): The variance explained:\n",
      "[9.53606314e-01 2.46938817e-02 2.09417498e-02 4.85816958e-04\n",
      " 1.50394316e-04 6.45124298e-05 3.06114516e-05 2.49536267e-05\n",
      " 1.05135781e-06]\n"
     ]
    }
   ],
   "source": [
    "from src.features.extractor import FeatureExtractor\n",
    "\n",
    "# Get the features for the data\n",
    "extractor = FeatureExtractor()\n",
    "X = extractor.fit_transform(data_df)\n",
    "\n",
    "# Get the names of the features remaining after the PCA\n",
    "_ = extractor.get_feature_names_out()"
   ]
  },
  {
   "cell_type": "code",
   "execution_count": 19,
   "id": "ac37dc40-6a21-4eb6-b941-f727a7e69234",
   "metadata": {},
   "outputs": [],
   "source": [
    "# TODO: Apply DBSCAN for clustering of the provided data (tune hyperparameters to find the optimal number of clusters)"
   ]
  },
  {
   "cell_type": "code",
   "execution_count": 20,
   "id": "19f869e3-1da0-4c8e-bc78-63a5fb6230e5",
   "metadata": {},
   "outputs": [],
   "source": [
    "# TODO: For each cluster compute the central point and the radius"
   ]
  },
  {
   "cell_type": "code",
   "execution_count": 21,
   "id": "2aa831be-39de-4cfc-8596-ecfc0226f5e9",
   "metadata": {},
   "outputs": [],
   "source": [
    "# TODO: Store the trained models (TfidfVectorizer, PCA and etc) along with the Classifier information: Class Id, Central point, Radius"
   ]
  }
 ],
 "metadata": {
  "kernelspec": {
   "display_name": "tfm",
   "language": "python",
   "name": "tfm"
  },
  "language_info": {
   "codemirror_mode": {
    "name": "ipython",
    "version": 3
   },
   "file_extension": ".py",
   "mimetype": "text/x-python",
   "name": "python",
   "nbconvert_exporter": "python",
   "pygments_lexer": "ipython3",
   "version": "3.8.13"
  }
 },
 "nbformat": 4,
 "nbformat_minor": 5
}
