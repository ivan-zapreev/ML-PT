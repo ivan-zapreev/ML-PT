{
 "cells": [
  {
   "cell_type": "code",
   "execution_count": 1,
   "id": "5049624e-a85e-47c6-a79d-797149e7c66f",
   "metadata": {},
   "outputs": [
    {
     "data": {
      "text/plain": [
       "'/Users/izapreev/Projects/ML-PT'"
      ]
     },
     "execution_count": 1,
     "metadata": {},
     "output_type": "execute_result"
    }
   ],
   "source": [
    "import os\n",
    "os.getcwd() "
   ]
  },
  {
   "cell_type": "code",
   "execution_count": 2,
   "id": "99408346-fc97-41d0-8b2d-1a8efbebb7a6",
   "metadata": {},
   "outputs": [],
   "source": [
    "# Make sure the source code auto reloads into the kernel\n",
    "%load_ext autoreload\n",
    "%autoreload 2"
   ]
  },
  {
   "cell_type": "code",
   "execution_count": 3,
   "id": "c85ec7e6-d3ef-417c-a946-5e82b37eea35",
   "metadata": {},
   "outputs": [],
   "source": [
    "import numpy as np\n",
    "\n",
    "from src.utils.logger import logger"
   ]
  },
  {
   "cell_type": "code",
   "execution_count": 4,
   "id": "daac9d6c-32e7-4738-9e28-00952f5dd149",
   "metadata": {},
   "outputs": [
    {
     "name": "stderr",
     "output_type": "stream",
     "text": [
      "15:40:01 INFO (file_utils:32): Loading compressed numpy z file from: ./data/X.npz\n",
      "15:40:01 INFO (file_utils:35): File loading and data extraction are done!\n"
     ]
    }
   ],
   "source": [
    "from src.utils.file_utils import load_numpy_zc\n",
    "\n",
    "# Load the features file for further use\n",
    "file_name = os.path.join('.', 'data', 'X.npz')\n",
    "X, = load_numpy_zc(file_name, ['X'])"
   ]
  },
  {
   "cell_type": "code",
   "execution_count": 5,
   "id": "04571874-5320-49ec-8334-e37b43fff61a",
   "metadata": {},
   "outputs": [
    {
     "name": "stderr",
     "output_type": "stream",
     "text": [
      "15:40:01 INFO (file_utils:32): Loading compressed numpy z file from: ./data/y.npz\n",
      "15:40:01 INFO (file_utils:35): File loading and data extraction are done!\n"
     ]
    }
   ],
   "source": [
    "# Load the classes file for further use\n",
    "file_name = os.path.join('.', 'data', 'y.npz')\n",
    "y, = load_numpy_zc(file_name, ['y'])"
   ]
  },
  {
   "cell_type": "code",
   "execution_count": 6,
   "id": "2f10eb9c-edd7-474d-974e-a3e660b33c64",
   "metadata": {},
   "outputs": [],
   "source": [
    "#########################################################################\n",
    "# 01 Perform initial hyperparameters tuning for Random Forest Classifier\n",
    "#"
   ]
  },
  {
   "cell_type": "code",
   "execution_count": 9,
   "id": "87e7d93e-81d8-4622-b94d-46d6c82afe55",
   "metadata": {},
   "outputs": [],
   "source": [
    "# Define the main hyperparameters to tune\n",
    "num_features = X.shape[1]\n",
    "num_classes  = len(np.unique(y))\n",
    "random_grid = {\n",
    "                'n_estimators' : [20, 30, 40, 50, 60, 70, 80],\n",
    "                'criterion' : ['gini', 'entropy', 'log_loss'],\n",
    "                'max_depth' : [None, 10, 20, 30, 40, 50],\n",
    "                'min_samples_leaf' : [1, 2, 4, 6],\n",
    "                'min_samples_split' : [2, 4, 6, 8],\n",
    "                'max_features' : list(range(1, num_features + 1)),\n",
    "                'max_leaf_nodes' : [None, num_classes, 2 * num_classes, 3 * num_classes]\n",
    "              }"
   ]
  },
  {
   "cell_type": "code",
   "execution_count": null,
   "id": "e91efda2-2249-4426-9ad1-a9f4a0a249fe",
   "metadata": {},
   "outputs": [
    {
     "name": "stderr",
     "output_type": "stream",
     "text": [
      "15:42:16 INFO (3191410847:10): Start the Random Grid model tuning\n"
     ]
    },
    {
     "name": "stdout",
     "output_type": "stream",
     "text": [
      "Fitting 3 folds for each of 100 candidates, totalling 300 fits\n"
     ]
    }
   ],
   "source": [
    "from sklearn.ensemble import RandomForestClassifier\n",
    "from sklearn.model_selection import RandomizedSearchCV\n",
    "\n",
    "# Random search of parameters, using 3 fold cross validation, \n",
    "# search across 100 different combinations, and use all available \n",
    "rf = RandomForestClassifier()\n",
    "rf_random = RandomizedSearchCV(estimator = rf, param_distributions = random_grid, n_iter = 100, cv = 3, verbose=2, n_jobs = -1)\n",
    "\n",
    "# Fit the random search model. NOTE: Here we use non-scaled/shifter inputs as for the RandomForestClassifier it is not necessary\n",
    "logger.info(f'Start the Random Grid model tuning')\n",
    "rf_random.fit(X, y)\n",
    "\n",
    "# Log the best parameters found\n",
    "logger.info(f'Found the best Random search parameters: {rf_random.best_params_}')"
   ]
  },
  {
   "cell_type": "code",
   "execution_count": null,
   "id": "8b3e498d-a5eb-43df-bcab-703beb588a80",
   "metadata": {},
   "outputs": [],
   "source": [
    "# TODO: Do the crude grid search"
   ]
  },
  {
   "cell_type": "code",
   "execution_count": null,
   "id": "fd48df90-f95e-40fc-8298-488f02225bef",
   "metadata": {},
   "outputs": [],
   "source": [
    "# TODO: Do the fine grid search"
   ]
  },
  {
   "cell_type": "code",
   "execution_count": null,
   "id": "74f8d11c-6ee7-4dfc-9107-75e0ec30b1d1",
   "metadata": {},
   "outputs": [],
   "source": [
    "# TODO: Train the resulting model"
   ]
  },
  {
   "cell_type": "code",
   "execution_count": null,
   "id": "dc8726cc-c007-4d00-8760-e8bfc3e51f9e",
   "metadata": {},
   "outputs": [],
   "source": [
    "# TODO: Store the trained classification model"
   ]
  }
 ],
 "metadata": {
  "kernelspec": {
   "display_name": "tfm",
   "language": "python",
   "name": "tfm"
  },
  "language_info": {
   "codemirror_mode": {
    "name": "ipython",
    "version": 3
   },
   "file_extension": ".py",
   "mimetype": "text/x-python",
   "name": "python",
   "nbconvert_exporter": "python",
   "pygments_lexer": "ipython3",
   "version": "3.8.13"
  }
 },
 "nbformat": 4,
 "nbformat_minor": 5
}
