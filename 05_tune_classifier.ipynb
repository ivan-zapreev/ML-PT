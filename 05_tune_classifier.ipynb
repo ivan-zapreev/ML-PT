{
 "cells": [
  {
   "cell_type": "code",
   "execution_count": 1,
   "id": "5049624e-a85e-47c6-a79d-797149e7c66f",
   "metadata": {},
   "outputs": [
    {
     "data": {
      "text/plain": [
       "'/Users/izapreev/Projects/ML-PT'"
      ]
     },
     "execution_count": 1,
     "metadata": {},
     "output_type": "execute_result"
    }
   ],
   "source": [
    "import os\n",
    "os.getcwd() "
   ]
  },
  {
   "cell_type": "code",
   "execution_count": 2,
   "id": "99408346-fc97-41d0-8b2d-1a8efbebb7a6",
   "metadata": {},
   "outputs": [],
   "source": [
    "# Make sure the source code auto reloads into the kernel\n",
    "%load_ext autoreload\n",
    "%autoreload 2"
   ]
  },
  {
   "cell_type": "code",
   "execution_count": 3,
   "id": "c85ec7e6-d3ef-417c-a946-5e82b37eea35",
   "metadata": {},
   "outputs": [],
   "source": [
    "import numpy as np\n",
    "\n",
    "from src.utils.logger import logger"
   ]
  },
  {
   "cell_type": "code",
   "execution_count": 4,
   "id": "daac9d6c-32e7-4738-9e28-00952f5dd149",
   "metadata": {},
   "outputs": [
    {
     "name": "stderr",
     "output_type": "stream",
     "text": [
      "16:57:05 INFO (file_utils:31): Loading compressed numpy z file from: ./data/X.npz\n",
      "16:57:05 INFO (file_utils:34): File loading and data extraction are done!\n"
     ]
    }
   ],
   "source": [
    "from src.utils.file_utils import load_numpy_zc\n",
    "\n",
    "# Load the features file for further use\n",
    "data_folder = os.path.join('.', 'data')\n",
    "file_name = os.path.join(data_folder, 'X.npz')\n",
    "X, = load_numpy_zc(file_name, ['X'])"
   ]
  },
  {
   "cell_type": "code",
   "execution_count": 5,
   "id": "04571874-5320-49ec-8334-e37b43fff61a",
   "metadata": {},
   "outputs": [
    {
     "name": "stderr",
     "output_type": "stream",
     "text": [
      "16:57:05 INFO (file_utils:31): Loading compressed numpy z file from: ./data/y.npz\n",
      "16:57:05 INFO (file_utils:34): File loading and data extraction are done!\n"
     ]
    }
   ],
   "source": [
    "# Load the classes file for further use\n",
    "file_name = os.path.join(data_folder, 'y.npz')\n",
    "y, = load_numpy_zc(file_name, ['y'])"
   ]
  },
  {
   "cell_type": "code",
   "execution_count": 6,
   "id": "7aec309c-f88e-400e-b4f4-8644d0747ae1",
   "metadata": {},
   "outputs": [],
   "source": [
    "#########################################################################\n",
    "# 01: Run the initial non-tuned classifier\n",
    "#"
   ]
  },
  {
   "cell_type": "code",
   "execution_count": 7,
   "id": "6bc4490d-fa7b-4581-8538-4de436d6b220",
   "metadata": {},
   "outputs": [
    {
     "data": {
      "application/vnd.jupyter.widget-view+json": {
       "model_id": "61680f17b7fd4a3c85223168c7eceab6",
       "version_major": 2,
       "version_minor": 0
      },
      "text/plain": [
       "\"Random Forest Classifier\" - repeated k-fold cross-validation: 0it [00:00, ?it/s]"
      ]
     },
     "metadata": {},
     "output_type": "display_data"
    },
    {
     "name": "stderr",
     "output_type": "stream",
     "text": [
      "17:01:08 INFO (models_try_out:125): The \"Random Forest Classifier\" model f1-score: 0.9924, accuracy: 0.9927, precision: 0.9927, recall: 0.9927, time: 7.859 sec.\n"
     ]
    }
   ],
   "source": [
    "from src.model.classifier.models_try_out import _CLASSIFIERS\n",
    "from src.model.classifier.models_try_out import train_test_single_model\n",
    "\n",
    "name = 'Random Forest Classifier'\n",
    "model_00 = _CLASSIFIERS[name]\n",
    "\n",
    "model_00_res = train_test_single_model(model_00, name, X, y)"
   ]
  },
  {
   "cell_type": "code",
   "execution_count": 8,
   "id": "2f10eb9c-edd7-474d-974e-a3e660b33c64",
   "metadata": {},
   "outputs": [],
   "source": [
    "#########################################################################\n",
    "# 01: Perform Random search hyperparameters tuning\n",
    "#"
   ]
  },
  {
   "cell_type": "code",
   "execution_count": 9,
   "id": "87e7d93e-81d8-4622-b94d-46d6c82afe55",
   "metadata": {},
   "outputs": [],
   "source": [
    "# Define the random search hyperparameters to tune\n",
    "num_features = X.shape[1]\n",
    "num_classes  = len(np.unique(y))\n",
    "random_grid = {\n",
    "                'n_estimators' : [20, 30, 40, 50, 60, 70, 80],\n",
    "                'criterion' : ['gini', 'entropy', 'log_loss'],\n",
    "                'max_depth' : [None, 10, 20, 30, 40, 50],\n",
    "                'min_samples_leaf' : [1, 2, 4, 6],\n",
    "                'min_samples_split' : [2, 4, 6, 8],\n",
    "                'max_features' : list(range(1, num_features + 1)),\n",
    "                'max_leaf_nodes' : [None, num_classes, 2 * num_classes, 3 * num_classes]\n",
    "              }"
   ]
  },
  {
   "cell_type": "code",
   "execution_count": 10,
   "id": "e91efda2-2249-4426-9ad1-a9f4a0a249fe",
   "metadata": {},
   "outputs": [
    {
     "name": "stderr",
     "output_type": "stream",
     "text": [
      "17:01:08 INFO (943375875:7): Start the Random Grid model tuning\n"
     ]
    },
    {
     "name": "stdout",
     "output_type": "stream",
     "text": [
      "Fitting 3 folds for each of 100 candidates, totalling 300 fits\n"
     ]
    },
    {
     "name": "stderr",
     "output_type": "stream",
     "text": [
      "17:04:48 INFO (943375875:11): Found the best Random search parameters: {'n_estimators': 40, 'min_samples_split': 4, 'min_samples_leaf': 1, 'max_leaf_nodes': None, 'max_features': 7, 'max_depth': 50, 'criterion': 'entropy'}\n"
     ]
    }
   ],
   "source": [
    "from sklearn.model_selection import RandomizedSearchCV\n",
    "\n",
    "# Random search of parameters, using 3 fold cross validation, search across 100 different combinations, and use all available \n",
    "rf_random = RandomizedSearchCV(estimator = model_00, param_distributions = random_grid, n_iter = 100, cv = 3, verbose=1, n_jobs = -1)\n",
    "\n",
    "# Fit the random search model.\n",
    "logger.info(f'Start the Random Grid model tuning')\n",
    "rf_random.fit(X, y)\n",
    "\n",
    "# Log the best parameters found\n",
    "logger.info(f'Found the best Random search parameters: {rf_random.best_params_}')"
   ]
  },
  {
   "cell_type": "code",
   "execution_count": 11,
   "id": "96ce5d11-e6d0-47a3-8752-f594e7c61fc5",
   "metadata": {},
   "outputs": [
    {
     "data": {
      "application/vnd.jupyter.widget-view+json": {
       "model_id": "44c715d8781d464c89a0081d13384772",
       "version_major": 2,
       "version_minor": 0
      },
      "text/plain": [
       "\"Random Forest Classifier\" - repeated k-fold cross-validation: 0it [00:00, ?it/s]"
      ]
     },
     "metadata": {},
     "output_type": "display_data"
    },
    {
     "name": "stderr",
     "output_type": "stream",
     "text": [
      "17:10:17 INFO (models_try_out:125): The \"Random Forest Classifier\" model f1-score: 0.9943, accuracy: 0.9944, precision: 0.9945, recall: 0.9944, time: 10.9637 sec.\n"
     ]
    }
   ],
   "source": [
    "from sklearn.ensemble import RandomForestClassifier\n",
    "\n",
    "# Evaluate the model on the found parameters\n",
    "model_01 = RandomForestClassifier(**rf_random.best_params_)\n",
    "model_01_res = train_test_single_model(model_01, name, X, y)"
   ]
  },
  {
   "cell_type": "code",
   "execution_count": 12,
   "id": "8b3e498d-a5eb-43df-bcab-703beb588a80",
   "metadata": {},
   "outputs": [],
   "source": [
    "#########################################################################\n",
    "# 02: Perform coarse Grid search hyperparameters tuning\n",
    "#"
   ]
  },
  {
   "cell_type": "code",
   "execution_count": 17,
   "id": "f22b3a64-224f-489a-9188-0208ebf3076a",
   "metadata": {},
   "outputs": [],
   "source": [
    "# Define the coarse grid search hyperparameters to tune\n",
    "coarse_grid = {\n",
    "                'n_estimators' : range(30, 50, 5),\n",
    "                'criterion' : ['entropy'],\n",
    "                'max_depth' : range(40, 60, 5),\n",
    "                'min_samples_leaf' : [1, 2, 3],\n",
    "                'min_samples_split' : [3, 4, 5],\n",
    "                'max_features' : [5, 6, 7, 8, 9],\n",
    "                'max_leaf_nodes' : [None]\n",
    "              }"
   ]
  },
  {
   "cell_type": "code",
   "execution_count": 18,
   "id": "973c0b72-1a15-4e4d-a8de-40efa06d540a",
   "metadata": {},
   "outputs": [
    {
     "name": "stderr",
     "output_type": "stream",
     "text": [
      "17:10:56 INFO (3178084993:7): Start the coarse Grid Grid model tuning\n"
     ]
    },
    {
     "name": "stdout",
     "output_type": "stream",
     "text": [
      "Fitting 3 folds for each of 720 candidates, totalling 2160 fits\n"
     ]
    },
    {
     "name": "stderr",
     "output_type": "stream",
     "text": [
      "17:41:14 INFO (3178084993:11): Found the best coarse Grid search parameters: {'criterion': 'entropy', 'max_depth': 50, 'max_features': 7, 'max_leaf_nodes': None, 'min_samples_leaf': 1, 'min_samples_split': 4, 'n_estimators': 30}\n"
     ]
    }
   ],
   "source": [
    "from sklearn.model_selection import GridSearchCV\n",
    "\n",
    "# Random search of parameters, using 3 fold cross validation\n",
    "rf_coarse = GridSearchCV(estimator = model_00, param_grid = coarse_grid, cv = 3, verbose=1, n_jobs = -1)\n",
    "\n",
    "# Fit the random search model.\n",
    "logger.info(f'Start the coarse Grid Grid model tuning')\n",
    "rf_coarse.fit(X, y)\n",
    "\n",
    "# Log the best parameters found\n",
    "logger.info(f'Found the best coarse Grid search parameters: {rf_coarse.best_params_}')"
   ]
  },
  {
   "cell_type": "code",
   "execution_count": 19,
   "id": "3d866afe-c7e2-409f-a881-ef55e88c72e7",
   "metadata": {},
   "outputs": [
    {
     "data": {
      "application/vnd.jupyter.widget-view+json": {
       "model_id": "5479f5b24d8047e9a4a14ff520c330d6",
       "version_major": 2,
       "version_minor": 0
      },
      "text/plain": [
       "\"Random Forest Classifier\" - repeated k-fold cross-validation: 0it [00:00, ?it/s]"
      ]
     },
     "metadata": {},
     "output_type": "display_data"
    },
    {
     "name": "stderr",
     "output_type": "stream",
     "text": [
      "17:45:21 INFO (models_try_out:125): The \"Random Forest Classifier\" model f1-score: 0.9942, accuracy: 0.9943, precision: 0.9944, recall: 0.9943, time: 8.2283 sec.\n"
     ]
    }
   ],
   "source": [
    "# Evaluate the model on the found parameters\n",
    "model_02 = RandomForestClassifier(**rf_coarse.best_params_)\n",
    "model_02_res = train_test_single_model(model_02, name, X, y)"
   ]
  },
  {
   "cell_type": "code",
   "execution_count": 21,
   "id": "fd48df90-f95e-40fc-8298-488f02225bef",
   "metadata": {},
   "outputs": [],
   "source": [
    "#########################################################################\n",
    "# 03: Perform fine Grid search hyperparameters tuning\n",
    "#"
   ]
  },
  {
   "cell_type": "code",
   "execution_count": 22,
   "id": "8d37fc6b-822d-414e-9e5e-a7ce84cbb18b",
   "metadata": {},
   "outputs": [],
   "source": [
    "# Define the coarse grid search hyperparameters to tune\n",
    "fine_grid = {\n",
    "                'n_estimators' : range(25, 36, 1),\n",
    "                'criterion' : ['entropy'],\n",
    "                'max_depth' : range(45, 56, 1),\n",
    "                'min_samples_leaf' : [1],\n",
    "                'min_samples_split' : [4],\n",
    "                'max_features' : [7],\n",
    "                'max_leaf_nodes' : [None]\n",
    "             }"
   ]
  },
  {
   "cell_type": "code",
   "execution_count": 23,
   "id": "137bd5f7-e8ba-4ec6-9226-2dde7590f829",
   "metadata": {},
   "outputs": [
    {
     "name": "stderr",
     "output_type": "stream",
     "text": [
      "17:45:34 INFO (1003720481:5): Start the coarse Grid Grid model tuning\n"
     ]
    },
    {
     "name": "stdout",
     "output_type": "stream",
     "text": [
      "Fitting 3 folds for each of 121 candidates, totalling 363 fits\n"
     ]
    },
    {
     "name": "stderr",
     "output_type": "stream",
     "text": [
      "17:49:51 INFO (1003720481:9): Found the best fine Grid search parameters: {'criterion': 'entropy', 'max_depth': 48, 'max_features': 7, 'max_leaf_nodes': None, 'min_samples_leaf': 1, 'min_samples_split': 4, 'n_estimators': 33}\n"
     ]
    }
   ],
   "source": [
    "# Random search of parameters, using 3 fold cross validation\n",
    "rf_fine = GridSearchCV(estimator = model_00, param_grid = fine_grid, cv = 3, verbose=1, n_jobs = -1)\n",
    "\n",
    "# Fit the random search model.\n",
    "logger.info(f'Start the coarse Grid Grid model tuning')\n",
    "rf_fine.fit(X, y)\n",
    "\n",
    "# Log the best parameters found\n",
    "logger.info(f'Found the best fine Grid search parameters: {rf_fine.best_params_}')"
   ]
  },
  {
   "cell_type": "code",
   "execution_count": 24,
   "id": "54be758e-dcc0-470d-a5ad-063a5402fa3d",
   "metadata": {},
   "outputs": [
    {
     "data": {
      "application/vnd.jupyter.widget-view+json": {
       "model_id": "4ef48745165e4d1691b8205edd8e7400",
       "version_major": 2,
       "version_minor": 0
      },
      "text/plain": [
       "\"Random Forest Classifier\" - repeated k-fold cross-validation: 0it [00:00, ?it/s]"
      ]
     },
     "metadata": {},
     "output_type": "display_data"
    },
    {
     "name": "stderr",
     "output_type": "stream",
     "text": [
      "17:54:23 INFO (models_try_out:125): The \"Random Forest Classifier\" model f1-score: 0.9942, accuracy: 0.9943, precision: 0.9944, recall: 0.9943, time: 9.072 sec.\n"
     ]
    }
   ],
   "source": [
    "# Evaluate the model on the found parameters\n",
    "model_03 = RandomForestClassifier(**rf_fine.best_params_)\n",
    "model_03_res = train_test_single_model(model_03, name, X, y)"
   ]
  },
  {
   "cell_type": "code",
   "execution_count": 28,
   "id": "09d61df6-1fff-43c8-b189-beb20c54efff",
   "metadata": {},
   "outputs": [
    {
     "name": "stderr",
     "output_type": "stream",
     "text": [
      "18:12:05 INFO (file_utils:10): Dumping pickle file into: ./data/classifier.pkl\n"
     ]
    }
   ],
   "source": [
    "from src.utils.file_utils import dump_pickle_data\n",
    "\n",
    "# Train the classifier with the selected best parameters\n",
    "model = RandomForestClassifier(**rf_fine.best_params_)\n",
    "model.fit(X, y)\n",
    "\n",
    "# Dump the classifier for future use\n",
    "dump_pickle_data(data_folder, 'classifier', model)"
   ]
  },
  {
   "cell_type": "code",
   "execution_count": 29,
   "id": "88b1c0c5-a83c-4a51-aca2-23b15432d8f5",
   "metadata": {},
   "outputs": [
    {
     "name": "stderr",
     "output_type": "stream",
     "text": [
      "18:12:07 INFO (models_try_out:76): \"Classifier\" model, F1-score: 0.9999, Accuracy (TP+TN): 0.9999, Precision (FP): 0.9999, Recall (FN): 0.9999\n"
     ]
    }
   ],
   "source": [
    "from src.model.classifier.models_try_out import report_model_metrics\n",
    "\n",
    "# Evaluate the trained classifier to later compare with the online classifier scored on the same data\n",
    "y_pred = model.predict(X)\n",
    "report_model_metrics(y, y_pred, 'Classifier')"
   ]
  },
  {
   "cell_type": "code",
   "execution_count": null,
   "id": "1a0a9f67-13e5-4c9e-93eb-3915edaf5d2f",
   "metadata": {},
   "outputs": [],
   "source": []
  }
 ],
 "metadata": {
  "kernelspec": {
   "display_name": "tfm",
   "language": "python",
   "name": "tfm"
  },
  "language_info": {
   "codemirror_mode": {
    "name": "ipython",
    "version": 3
   },
   "file_extension": ".py",
   "mimetype": "text/x-python",
   "name": "python",
   "nbconvert_exporter": "python",
   "pygments_lexer": "ipython3",
   "version": "3.8.13"
  }
 },
 "nbformat": 4,
 "nbformat_minor": 5
}
