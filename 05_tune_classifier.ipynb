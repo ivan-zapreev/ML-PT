{
 "cells": [
  {
   "cell_type": "code",
   "execution_count": 1,
   "id": "5049624e-a85e-47c6-a79d-797149e7c66f",
   "metadata": {},
   "outputs": [
    {
     "data": {
      "text/plain": [
       "'/Users/izapreev/Projects/ML-PT'"
      ]
     },
     "execution_count": 1,
     "metadata": {},
     "output_type": "execute_result"
    }
   ],
   "source": [
    "import os\n",
    "os.getcwd() "
   ]
  },
  {
   "cell_type": "code",
   "execution_count": 2,
   "id": "99408346-fc97-41d0-8b2d-1a8efbebb7a6",
   "metadata": {},
   "outputs": [],
   "source": [
    "# Make sure the source code auto reloads into the kernel\n",
    "%load_ext autoreload\n",
    "%autoreload 2"
   ]
  },
  {
   "cell_type": "code",
   "execution_count": 3,
   "id": "c85ec7e6-d3ef-417c-a946-5e82b37eea35",
   "metadata": {},
   "outputs": [],
   "source": [
    "import numpy as np\n",
    "\n",
    "from src.utils.logger import logger"
   ]
  },
  {
   "cell_type": "code",
   "execution_count": 4,
   "id": "daac9d6c-32e7-4738-9e28-00952f5dd149",
   "metadata": {},
   "outputs": [
    {
     "name": "stderr",
     "output_type": "stream",
     "text": [
      "16:09:26 INFO (file_utils:32): Loading compressed numpy z file from: ./data/X.npz\n",
      "16:09:26 INFO (file_utils:35): File loading and data extraction are done!\n"
     ]
    }
   ],
   "source": [
    "from src.utils.file_utils import load_numpy_zc\n",
    "\n",
    "# Load the features file for further use\n",
    "file_name = os.path.join('.', 'data', 'X.npz')\n",
    "X, = load_numpy_zc(file_name, ['X'])"
   ]
  },
  {
   "cell_type": "code",
   "execution_count": 5,
   "id": "04571874-5320-49ec-8334-e37b43fff61a",
   "metadata": {},
   "outputs": [
    {
     "name": "stderr",
     "output_type": "stream",
     "text": [
      "16:09:26 INFO (file_utils:32): Loading compressed numpy z file from: ./data/y.npz\n",
      "16:09:26 INFO (file_utils:35): File loading and data extraction are done!\n"
     ]
    }
   ],
   "source": [
    "# Load the classes file for further use\n",
    "file_name = os.path.join('.', 'data', 'y.npz')\n",
    "y, = load_numpy_zc(file_name, ['y'])"
   ]
  },
  {
   "cell_type": "code",
   "execution_count": 6,
   "id": "7aec309c-f88e-400e-b4f4-8644d0747ae1",
   "metadata": {},
   "outputs": [],
   "source": [
    "#########################################################################\n",
    "# 01: Run the initial non-tuned classifier\n",
    "#"
   ]
  },
  {
   "cell_type": "code",
   "execution_count": 7,
   "id": "6bc4490d-fa7b-4581-8538-4de436d6b220",
   "metadata": {},
   "outputs": [
    {
     "data": {
      "application/vnd.jupyter.widget-view+json": {
       "model_id": "6d1050d9805d43afa1a3a57d6d85f50a",
       "version_major": 2,
       "version_minor": 0
      },
      "text/plain": [
       "\"Random Forest Classifier\" - repeated k-fold cross-validation: 0it [00:00, ?it/s]"
      ]
     },
     "metadata": {},
     "output_type": "display_data"
    },
    {
     "name": "stderr",
     "output_type": "stream",
     "text": [
      "16:12:55 INFO (models_try_out:125): The \"Random Forest Classifier\" model f1-score: 0.9937, accuracy: 0.9939, precision: 0.9939, recall: 0.9939, time: 6.8717 sec.\n"
     ]
    }
   ],
   "source": [
    "from src.model.classifier.models_try_out import _CLASSIFIERS\n",
    "from src.model.classifier.models_try_out import train_test_single_model\n",
    "\n",
    "name = 'Random Forest Classifier'\n",
    "model_00 = _CLASSIFIERS[name]\n",
    "\n",
    "model_00_res = train_test_single_model(model_00, name, X, y)"
   ]
  },
  {
   "cell_type": "code",
   "execution_count": 8,
   "id": "2f10eb9c-edd7-474d-974e-a3e660b33c64",
   "metadata": {},
   "outputs": [],
   "source": [
    "#########################################################################\n",
    "# 01: Perform Random search hyperparameters tuning\n",
    "#"
   ]
  },
  {
   "cell_type": "code",
   "execution_count": 9,
   "id": "87e7d93e-81d8-4622-b94d-46d6c82afe55",
   "metadata": {},
   "outputs": [],
   "source": [
    "# Define the random search hyperparameters to tune\n",
    "num_features = X.shape[1]\n",
    "num_classes  = len(np.unique(y))\n",
    "random_grid = {\n",
    "                'n_estimators' : [20, 30, 40, 50, 60, 70, 80],\n",
    "                'criterion' : ['gini', 'entropy', 'log_loss'],\n",
    "                'max_depth' : [None, 10, 20, 30, 40, 50],\n",
    "                'min_samples_leaf' : [1, 2, 4, 6],\n",
    "                'min_samples_split' : [2, 4, 6, 8],\n",
    "                'max_features' : list(range(1, num_features + 1)),\n",
    "                'max_leaf_nodes' : [None, num_classes, 2 * num_classes, 3 * num_classes]\n",
    "              }"
   ]
  },
  {
   "cell_type": "code",
   "execution_count": 10,
   "id": "e91efda2-2249-4426-9ad1-a9f4a0a249fe",
   "metadata": {},
   "outputs": [
    {
     "name": "stderr",
     "output_type": "stream",
     "text": [
      "16:12:56 INFO (2524318397:10): Start the Random Grid model tuning\n"
     ]
    },
    {
     "name": "stdout",
     "output_type": "stream",
     "text": [
      "Fitting 3 folds for each of 100 candidates, totalling 300 fits\n"
     ]
    },
    {
     "name": "stderr",
     "output_type": "stream",
     "text": [
      "16:16:40 INFO (2524318397:14): Found the best Random search parameters: {'n_estimators': 50, 'min_samples_split': 6, 'min_samples_leaf': 1, 'max_leaf_nodes': None, 'max_features': 7, 'max_depth': None, 'criterion': 'entropy'}\n"
     ]
    }
   ],
   "source": [
    "from sklearn.model_selection import RandomizedSearchCV\n",
    "\n",
    "# Random search of parameters, using 3 fold cross validation, search across 100 different combinations, and use all available \n",
    "rf_random = RandomizedSearchCV(estimator = model_00, param_distributions = random_grid, n_iter = 100, cv = 3, verbose=1, n_jobs = -1)\n",
    "\n",
    "# Fit the random search model.\n",
    "logger.info(f'Start the Random Grid model tuning')\n",
    "rf_random.fit(X, y)\n",
    "\n",
    "# Log the best parameters found\n",
    "logger.info(f'Found the best Random search parameters: {rf_random.best_params_}')"
   ]
  },
  {
   "cell_type": "code",
   "execution_count": 11,
   "id": "96ce5d11-e6d0-47a3-8752-f594e7c61fc5",
   "metadata": {},
   "outputs": [
    {
     "data": {
      "application/vnd.jupyter.widget-view+json": {
       "model_id": "57a46d4cd167452194b80f6c85376b0d",
       "version_major": 2,
       "version_minor": 0
      },
      "text/plain": [
       "\"Random Forest Classifier\" - repeated k-fold cross-validation: 0it [00:00, ?it/s]"
      ]
     },
     "metadata": {},
     "output_type": "display_data"
    },
    {
     "name": "stderr",
     "output_type": "stream",
     "text": [
      "16:22:43 INFO (models_try_out:125): The \"Random Forest Classifier\" model f1-score: 0.9944, accuracy: 0.9945, precision: 0.9946, recall: 0.9945, time: 12.0893 sec.\n"
     ]
    }
   ],
   "source": [
    "# Evaluate the model on the found parameters\n",
    "model_01 = RandomForestClassifier(**rf_random.best_params_)\n",
    "model_01_res = train_test_single_model(model_01, name, X, y)"
   ]
  },
  {
   "cell_type": "code",
   "execution_count": 12,
   "id": "8b3e498d-a5eb-43df-bcab-703beb588a80",
   "metadata": {},
   "outputs": [],
   "source": [
    "#########################################################################\n",
    "# 02: Perform coarse Grid search hyperparameters tuning\n",
    "#"
   ]
  },
  {
   "cell_type": "code",
   "execution_count": 21,
   "id": "f22b3a64-224f-489a-9188-0208ebf3076a",
   "metadata": {},
   "outputs": [],
   "source": [
    "# Define the coarse grid search hyperparameters to tune\n",
    "coarse_grid = {\n",
    "                'n_estimators' : range(40, 60, 5),\n",
    "                'criterion' : ['entropy'],\n",
    "                'max_depth' : range(20, 40, 5),\n",
    "                'min_samples_leaf' : [1, 2, 3],\n",
    "                'min_samples_split' : [2, 3, 4],\n",
    "                'max_features' : [7, 8, 9],\n",
    "                'max_leaf_nodes' : [None]\n",
    "              }"
   ]
  },
  {
   "cell_type": "code",
   "execution_count": 22,
   "id": "973c0b72-1a15-4e4d-a8de-40efa06d540a",
   "metadata": {},
   "outputs": [
    {
     "name": "stderr",
     "output_type": "stream",
     "text": [
      "16:54:46 INFO (778038824:7): Start the coarse Grid Grid model tuning\n"
     ]
    },
    {
     "name": "stdout",
     "output_type": "stream",
     "text": [
      "Fitting 3 folds for each of 432 candidates, totalling 1296 fits\n"
     ]
    },
    {
     "name": "stderr",
     "output_type": "stream",
     "text": [
      "17:16:07 INFO (778038824:11): Found the best Random search parameters: {'criterion': 'entropy', 'max_depth': 30, 'max_features': 7, 'max_leaf_nodes': None, 'min_samples_leaf': 1, 'min_samples_split': 2, 'n_estimators': 55}\n"
     ]
    }
   ],
   "source": [
    "from sklearn.model_selection import GridSearchCV\n",
    "\n",
    "# Random search of parameters, using 3 fold cross validation\n",
    "rf_coarse = GridSearchCV(estimator = model_00, param_grid = coarse_grid, cv = 3, verbose=1, n_jobs = -1)\n",
    "\n",
    "# Fit the random search model.\n",
    "logger.info(f'Start the coarse Grid Grid model tuning')\n",
    "rf_coarse.fit(X, y)\n",
    "\n",
    "# Log the best parameters found\n",
    "logger.info(f'Found the best coarse Grid search parameters: {rf_coarse.best_params_}')"
   ]
  },
  {
   "cell_type": "code",
   "execution_count": 20,
   "id": "3d866afe-c7e2-409f-a881-ef55e88c72e7",
   "metadata": {},
   "outputs": [
    {
     "data": {
      "application/vnd.jupyter.widget-view+json": {
       "model_id": "dd9b2b038f9041afbf6be87f66c08f98",
       "version_major": 2,
       "version_minor": 0
      },
      "text/plain": [
       "\"Random Forest Classifier\" - repeated k-fold cross-validation: 0it [00:00, ?it/s]"
      ]
     },
     "metadata": {},
     "output_type": "display_data"
    },
    {
     "name": "stderr",
     "output_type": "stream",
     "text": [
      "16:54:46 INFO (models_try_out:125): The \"Random Forest Classifier\" model f1-score: 0.9947, accuracy: 0.9948, precision: 0.9949, recall: 0.9948, time: 13.1837 sec.\n"
     ]
    }
   ],
   "source": [
    "# Evaluate the model on the found parameters\n",
    "model_02 = RandomForestClassifier(**rf_coarse.best_params_)\n",
    "model_02_res = train_test_single_model(model_02, name, X, y)"
   ]
  },
  {
   "cell_type": "code",
   "execution_count": 26,
   "id": "fd48df90-f95e-40fc-8298-488f02225bef",
   "metadata": {},
   "outputs": [],
   "source": [
    "#########################################################################\n",
    "# 03: Perform fine Grid search hyperparameters tuning\n",
    "#"
   ]
  },
  {
   "cell_type": "code",
   "execution_count": 23,
   "id": "8d37fc6b-822d-414e-9e5e-a7ce84cbb18b",
   "metadata": {},
   "outputs": [],
   "source": [
    "# Define the coarse grid search hyperparameters to tune\n",
    "fine_grid = {\n",
    "                'n_estimators' : range(51, 60, 1),\n",
    "                'criterion' : ['entropy'],\n",
    "                'max_depth' : range(26, 35, 1),\n",
    "                'min_samples_leaf' : [1],\n",
    "                'min_samples_split' : [2],\n",
    "                'max_features' : [5, 7, 8],\n",
    "                'max_leaf_nodes' : [None]\n",
    "             }"
   ]
  },
  {
   "cell_type": "code",
   "execution_count": 24,
   "id": "137bd5f7-e8ba-4ec6-9226-2dde7590f829",
   "metadata": {},
   "outputs": [
    {
     "name": "stderr",
     "output_type": "stream",
     "text": [
      "17:19:18 INFO (1003720481:5): Start the coarse Grid Grid model tuning\n"
     ]
    },
    {
     "name": "stdout",
     "output_type": "stream",
     "text": [
      "Fitting 3 folds for each of 243 candidates, totalling 729 fits\n"
     ]
    },
    {
     "name": "stderr",
     "output_type": "stream",
     "text": [
      "17:31:11 INFO (1003720481:9): Found the best fine Grid search parameters: {'criterion': 'entropy', 'max_depth': 29, 'max_features': 7, 'max_leaf_nodes': None, 'min_samples_leaf': 1, 'min_samples_split': 2, 'n_estimators': 57}\n"
     ]
    }
   ],
   "source": [
    "# Random search of parameters, using 3 fold cross validation\n",
    "rf_fine = GridSearchCV(estimator = model_00, param_grid = fine_grid, cv = 3, verbose=1, n_jobs = -1)\n",
    "\n",
    "# Fit the random search model.\n",
    "logger.info(f'Start the coarse Grid Grid model tuning')\n",
    "rf_fine.fit(X, y)\n",
    "\n",
    "# Log the best parameters found\n",
    "logger.info(f'Found the best fine Grid search parameters: {rf_fine.best_params_}')"
   ]
  },
  {
   "cell_type": "code",
   "execution_count": 25,
   "id": "54be758e-dcc0-470d-a5ad-063a5402fa3d",
   "metadata": {},
   "outputs": [
    {
     "data": {
      "application/vnd.jupyter.widget-view+json": {
       "model_id": "5d7db5cc18ee43d9b6cc92e54f32fbef",
       "version_major": 2,
       "version_minor": 0
      },
      "text/plain": [
       "\"Random Forest Classifier\" - repeated k-fold cross-validation: 0it [00:00, ?it/s]"
      ]
     },
     "metadata": {},
     "output_type": "display_data"
    },
    {
     "name": "stderr",
     "output_type": "stream",
     "text": [
      "17:37:54 INFO (models_try_out:125): The \"Random Forest Classifier\" model f1-score: 0.9947, accuracy: 0.9948, precision: 0.9949, recall: 0.9948, time: 13.4273 sec.\n"
     ]
    }
   ],
   "source": [
    "# Evaluate the model on the found parameters\n",
    "model_03 = RandomForestClassifier(**rf_fine.best_params_)\n",
    "model_03_res = train_test_single_model(model_03, name, X, y)"
   ]
  },
  {
   "cell_type": "code",
   "execution_count": 31,
   "id": "dc8726cc-c007-4d00-8760-e8bfc3e51f9e",
   "metadata": {},
   "outputs": [
    {
     "name": "stderr",
     "output_type": "stream",
     "text": [
      "17:47:47 INFO (file_utils:13): Dumping compressed pickle file into: ./data/classifier_params.pbz2\n",
      "17:47:47 INFO (file_utils:16): File dumping is done!\n"
     ]
    }
   ],
   "source": [
    "from src.utils.file_utils import compressed_pickle\n",
    "\n",
    "# Store the best fit classification parameters\n",
    "output_folder = os.path.join('.', 'data')\n",
    "compressed_pickle(output_folder, 'classifier_params', rf_fine.best_params_)"
   ]
  },
  {
   "cell_type": "code",
   "execution_count": null,
   "id": "88b1c0c5-a83c-4a51-aca2-23b15432d8f5",
   "metadata": {},
   "outputs": [],
   "source": []
  }
 ],
 "metadata": {
  "kernelspec": {
   "display_name": "tfm",
   "language": "python",
   "name": "tfm"
  },
  "language_info": {
   "codemirror_mode": {
    "name": "ipython",
    "version": 3
   },
   "file_extension": ".py",
   "mimetype": "text/x-python",
   "name": "python",
   "nbconvert_exporter": "python",
   "pygments_lexer": "ipython3",
   "version": "3.8.13"
  }
 },
 "nbformat": 4,
 "nbformat_minor": 5
}
