{
 "cells": [
  {
   "cell_type": "code",
   "execution_count": 1,
   "id": "25993262-9c43-4b23-ad30-24e89c95ff02",
   "metadata": {},
   "outputs": [],
   "source": [
    "import regex as re\n",
    "import numpy as np\n",
    "import pandas as pd\n",
    "import sklearn as sk\n",
    "import matplotlib.pyplot as plt "
   ]
  },
  {
   "cell_type": "code",
   "execution_count": 2,
   "id": "68515ce0-0516-4cb5-94ba-2a7e2d32e5a1",
   "metadata": {},
   "outputs": [],
   "source": [
    "# Load the provided test data\n",
    "data_df = pd.read_csv('../data/part_10.csv')\n",
    "# Drop duplicate rows right away\n",
    "data_df.drop_duplicates(inplace=True)"
   ]
  },
  {
   "cell_type": "code",
   "execution_count": 3,
   "id": "f737b106-c901-4c3b-8afb-720307ee8f3e",
   "metadata": {},
   "outputs": [
    {
     "data": {
      "text/plain": [
       "Index(['CLIENT_IP', 'CLIENT_USERAGENT', 'REQUEST_SIZE', 'RESPONSE_CODE',\n",
       "       'MATCHED_VARIABLE_SRC', 'MATCHED_VARIABLE_NAME',\n",
       "       'MATCHED_VARIABLE_VALUE', 'EVENT_ID'],\n",
       "      dtype='object')"
      ]
     },
     "execution_count": 3,
     "metadata": {},
     "output_type": "execute_result"
    }
   ],
   "source": [
    "# Check on the data columns\n",
    "data_df.columns"
   ]
  },
  {
   "cell_type": "code",
   "execution_count": 4,
   "id": "00026bbd-b695-4d6b-806c-9c4b4527f8db",
   "metadata": {},
   "outputs": [
    {
     "data": {
      "text/html": [
       "<div>\n",
       "<style scoped>\n",
       "    .dataframe tbody tr th:only-of-type {\n",
       "        vertical-align: middle;\n",
       "    }\n",
       "\n",
       "    .dataframe tbody tr th {\n",
       "        vertical-align: top;\n",
       "    }\n",
       "\n",
       "    .dataframe thead th {\n",
       "        text-align: right;\n",
       "    }\n",
       "</style>\n",
       "<table border=\"1\" class=\"dataframe\">\n",
       "  <thead>\n",
       "    <tr style=\"text-align: right;\">\n",
       "      <th></th>\n",
       "      <th>CLIENT_IP</th>\n",
       "      <th>CLIENT_USERAGENT</th>\n",
       "      <th>REQUEST_SIZE</th>\n",
       "      <th>RESPONSE_CODE</th>\n",
       "      <th>MATCHED_VARIABLE_SRC</th>\n",
       "      <th>MATCHED_VARIABLE_NAME</th>\n",
       "      <th>MATCHED_VARIABLE_VALUE</th>\n",
       "      <th>EVENT_ID</th>\n",
       "    </tr>\n",
       "  </thead>\n",
       "  <tbody>\n",
       "    <tr>\n",
       "      <th>count</th>\n",
       "      <td>57832</td>\n",
       "      <td>57517</td>\n",
       "      <td>57794</td>\n",
       "      <td>57770</td>\n",
       "      <td>57730</td>\n",
       "      <td>53167</td>\n",
       "      <td>57683</td>\n",
       "      <td>57666</td>\n",
       "    </tr>\n",
       "    <tr>\n",
       "      <th>unique</th>\n",
       "      <td>24940</td>\n",
       "      <td>6992</td>\n",
       "      <td>5758</td>\n",
       "      <td>60</td>\n",
       "      <td>21</td>\n",
       "      <td>3209</td>\n",
       "      <td>57611</td>\n",
       "      <td>54410</td>\n",
       "    </tr>\n",
       "    <tr>\n",
       "      <th>top</th>\n",
       "      <td>217.175.140.69</td>\n",
       "      <td>Mozilla/5.0 (Windows NT 6.1; WOW64; Trident/7....</td>\n",
       "      <td>259</td>\n",
       "      <td>200</td>\n",
       "      <td>REQUEST_GET_ARGS</td>\n",
       "      <td>REQUEST_GET_ARGS._</td>\n",
       "      <td>{\\\"tags\\\":[{\\\"sizes\\\":[{\\\"width\\\":728,\\\"height...</td>\n",
       "      <td>cr1nJWQB5cBXmMW1hh_4</td>\n",
       "    </tr>\n",
       "    <tr>\n",
       "      <th>freq</th>\n",
       "      <td>11286</td>\n",
       "      <td>2117</td>\n",
       "      <td>261</td>\n",
       "      <td>25771</td>\n",
       "      <td>20812</td>\n",
       "      <td>11165</td>\n",
       "      <td>28</td>\n",
       "      <td>7</td>\n",
       "    </tr>\n",
       "    <tr>\n",
       "      <th>count NaN</th>\n",
       "      <td>1</td>\n",
       "      <td>316</td>\n",
       "      <td>39</td>\n",
       "      <td>63</td>\n",
       "      <td>103</td>\n",
       "      <td>4666</td>\n",
       "      <td>150</td>\n",
       "      <td>167</td>\n",
       "    </tr>\n",
       "  </tbody>\n",
       "</table>\n",
       "</div>"
      ],
      "text/plain": [
       "                CLIENT_IP                                   CLIENT_USERAGENT  \\\n",
       "count               57832                                              57517   \n",
       "unique              24940                                               6992   \n",
       "top        217.175.140.69  Mozilla/5.0 (Windows NT 6.1; WOW64; Trident/7....   \n",
       "freq                11286                                               2117   \n",
       "count NaN               1                                                316   \n",
       "\n",
       "          REQUEST_SIZE RESPONSE_CODE MATCHED_VARIABLE_SRC  \\\n",
       "count            57794         57770                57730   \n",
       "unique            5758            60                   21   \n",
       "top                259           200     REQUEST_GET_ARGS   \n",
       "freq               261         25771                20812   \n",
       "count NaN           39            63                  103   \n",
       "\n",
       "          MATCHED_VARIABLE_NAME  \\\n",
       "count                     53167   \n",
       "unique                     3209   \n",
       "top          REQUEST_GET_ARGS._   \n",
       "freq                      11165   \n",
       "count NaN                  4666   \n",
       "\n",
       "                                      MATCHED_VARIABLE_VALUE  \\\n",
       "count                                                  57683   \n",
       "unique                                                 57611   \n",
       "top        {\\\"tags\\\":[{\\\"sizes\\\":[{\\\"width\\\":728,\\\"height...   \n",
       "freq                                                      28   \n",
       "count NaN                                                150   \n",
       "\n",
       "                       EVENT_ID  \n",
       "count                     57666  \n",
       "unique                    54410  \n",
       "top        cr1nJWQB5cBXmMW1hh_4  \n",
       "freq                          7  \n",
       "count NaN                   167  "
      ]
     },
     "metadata": {},
     "output_type": "display_data"
    }
   ],
   "source": [
    "# Get the data description\n",
    "info_df = data_df.describe(include = 'all')\n",
    "info_df.loc['count NaN'] = data_df.isnull().sum()\n",
    "display(info_df)"
   ]
  },
  {
   "cell_type": "code",
   "execution_count": 5,
   "id": "c3b36b78-aa4e-4597-9d0b-bf0637e8558e",
   "metadata": {},
   "outputs": [
    {
     "data": {
      "text/plain": [
       "CLIENT_IP                 string\n",
       "CLIENT_USERAGENT          string\n",
       "REQUEST_SIZE              string\n",
       "RESPONSE_CODE             string\n",
       "MATCHED_VARIABLE_SRC      string\n",
       "MATCHED_VARIABLE_NAME     string\n",
       "MATCHED_VARIABLE_VALUE    string\n",
       "EVENT_ID                  string\n",
       "dtype: object"
      ]
     },
     "execution_count": 5,
     "metadata": {},
     "output_type": "execute_result"
    }
   ],
   "source": [
    "# Infer the best data types\n",
    "data_df = data_df.convert_dtypes()\n",
    "# Check on the column types\n",
    "data_df.dtypes"
   ]
  },
  {
   "cell_type": "code",
   "execution_count": 6,
   "id": "c55f63fe-e8a0-470f-a938-74437d8d0ad3",
   "metadata": {},
   "outputs": [
    {
     "name": "stdout",
     "output_type": "stream",
     "text": [
      "Converting column: \"REQUEST_SIZE\" values to float type\n",
      "Converting column: \"RESPONSE_CODE\" values to float type\n"
     ]
    },
    {
     "data": {
      "text/plain": [
       "CLIENT_IP                  string\n",
       "CLIENT_USERAGENT           string\n",
       "REQUEST_SIZE              float64\n",
       "RESPONSE_CODE             float64\n",
       "MATCHED_VARIABLE_SRC       string\n",
       "MATCHED_VARIABLE_NAME      string\n",
       "MATCHED_VARIABLE_VALUE     string\n",
       "EVENT_ID                   string\n",
       "dtype: object"
      ]
     },
     "execution_count": 6,
     "metadata": {},
     "output_type": "execute_result"
    }
   ],
   "source": [
    "# Adjust column types, convert the int columns into floats for now as there are NaN values\n",
    "INT_COLUMNS = ['REQUEST_SIZE', 'RESPONSE_CODE']\n",
    "\n",
    "# Do the safe conversion to float/nan make sure the values are integers\n",
    "# Note that, both int columns are not controlled by the client and thus\n",
    "# if we have invalid valus in them it is safe to put them to NaN as such\n",
    "# invalid values are a likely indicator of improperly collected data\n",
    "def float_converter(val):\n",
    "    try:\n",
    "        result = np.nan if pd.isna(val) else int(val)\n",
    "    except ValueError:\n",
    "        result = np.nan\n",
    "    return result\n",
    "\n",
    "for col_name in INT_COLUMNS:\n",
    "    print(f'Converting column: \"{col_name}\" values to float type')\n",
    "    data_df[col_name] = data_df[col_name].apply(float_converter)\n",
    "\n",
    "STRING_COLUMNS = ['CLIENT_IP', 'CLIENT_USERAGENT', 'MATCHED_VARIABLE_SRC', 'MATCHED_VARIABLE_NAME', 'MATCHED_VARIABLE_VALUE', 'EVENT_ID']\n",
    "for col_name in STRING_COLUMNS:\n",
    "    data_df[col_name] = data_df[col_name].astype('string')\n",
    "\n",
    "# Check on the column types\n",
    "data_df.dtypes"
   ]
  },
  {
   "cell_type": "code",
   "execution_count": 7,
   "id": "9566fa3c-5c46-4dfe-9ac9-c98e83af3ea9",
   "metadata": {},
   "outputs": [],
   "source": [
    "# Ignore the events with unset event id, it should be safe as that data is set by the server side\n",
    "data_df = data_df[data_df['EVENT_ID'].notna()]"
   ]
  },
  {
   "cell_type": "code",
   "execution_count": 8,
   "id": "edcfe008-433c-43b4-861d-f116aad8d491",
   "metadata": {},
   "outputs": [
    {
     "name": "stdout",
     "output_type": "stream",
     "text": [
      "Column \"REQUEST_SIZE\" min value is: 15, max values is: 10529650\n",
      "Column \"RESPONSE_CODE\" min value is: 0, max values is: 504\n"
     ]
    }
   ],
   "source": [
    "# Now convert the float columns into int and drop the NaN values,\n",
    "# it is safe since these columns data is filled by the server side\n",
    "for col_name in INT_COLUMNS:\n",
    "    data_df = data_df[data_df[col_name].notna()]\n",
    "    data_df[col_name] = data_df[col_name].astype('int')\n",
    "    print(f'Column \"{col_name}\" min value is: {data_df[col_name].min()}, max values is: {data_df[col_name].max()}')"
   ]
  },
  {
   "cell_type": "code",
   "execution_count": 9,
   "id": "396f0466-ce4a-47fd-992f-ef2103c03af3",
   "metadata": {},
   "outputs": [],
   "source": [
    "# Make sure there is no NaN values in string columns, make replacements\n",
    "data_df[STRING_COLUMNS] = data_df[STRING_COLUMNS].fillna(value='')"
   ]
  },
  {
   "cell_type": "code",
   "execution_count": 10,
   "id": "d9a53870-0a35-4a9c-a426-7211c27dae67",
   "metadata": {},
   "outputs": [
    {
     "data": {
      "text/plain": [
       "CLIENT_IP                 string\n",
       "CLIENT_USERAGENT          string\n",
       "REQUEST_SIZE               int64\n",
       "RESPONSE_CODE              int64\n",
       "MATCHED_VARIABLE_SRC      string\n",
       "MATCHED_VARIABLE_NAME     string\n",
       "MATCHED_VARIABLE_VALUE    string\n",
       "EVENT_ID                  string\n",
       "dtype: object"
      ]
     },
     "execution_count": 10,
     "metadata": {},
     "output_type": "execute_result"
    }
   ],
   "source": [
    "# Check on the column types\n",
    "data_df.dtypes"
   ]
  },
  {
   "cell_type": "code",
   "execution_count": 11,
   "id": "80641fb6-50e2-48b4-b4d3-93afd1c2bd34",
   "metadata": {},
   "outputs": [
    {
     "data": {
      "text/plain": [
       "CLIENT_IP                 0\n",
       "CLIENT_USERAGENT          0\n",
       "REQUEST_SIZE              0\n",
       "RESPONSE_CODE             0\n",
       "MATCHED_VARIABLE_SRC      0\n",
       "MATCHED_VARIABLE_NAME     0\n",
       "MATCHED_VARIABLE_VALUE    0\n",
       "EVENT_ID                  0\n",
       "dtype: int64"
      ]
     },
     "execution_count": 11,
     "metadata": {},
     "output_type": "execute_result"
    }
   ],
   "source": [
    "# Count the NaN values in the resulting df for sanity\n",
    "data_df.isnull().sum()"
   ]
  },
  {
   "cell_type": "code",
   "execution_count": 12,
   "id": "4ae6e077-9275-4121-b2eb-2e08b0abb947",
   "metadata": {},
   "outputs": [
    {
     "data": {
      "text/html": [
       "<div>\n",
       "<style scoped>\n",
       "    .dataframe tbody tr th:only-of-type {\n",
       "        vertical-align: middle;\n",
       "    }\n",
       "\n",
       "    .dataframe tbody tr th {\n",
       "        vertical-align: top;\n",
       "    }\n",
       "\n",
       "    .dataframe thead th {\n",
       "        text-align: right;\n",
       "    }\n",
       "</style>\n",
       "<table border=\"1\" class=\"dataframe\">\n",
       "  <thead>\n",
       "    <tr style=\"text-align: right;\">\n",
       "      <th></th>\n",
       "      <th>CLIENT_IP</th>\n",
       "      <th>CLIENT_USERAGENT</th>\n",
       "      <th>REQUEST_SIZE</th>\n",
       "      <th>RESPONSE_CODE</th>\n",
       "      <th>MATCHED_VARIABLE_SRC</th>\n",
       "      <th>MATCHED_VARIABLE_NAME</th>\n",
       "      <th>MATCHED_VARIABLE_VALUE</th>\n",
       "      <th>EVENT_ID</th>\n",
       "    </tr>\n",
       "  </thead>\n",
       "  <tbody>\n",
       "    <tr>\n",
       "      <th>0</th>\n",
       "      <td>188.138.92.55</td>\n",
       "      <td></td>\n",
       "      <td>166</td>\n",
       "      <td>404</td>\n",
       "      <td>REQUEST_URI</td>\n",
       "      <td></td>\n",
       "      <td>//tmp/20160925122692indo.php.vob</td>\n",
       "      <td>AVdhXFgVq1Ppo9zF5Fxu</td>\n",
       "    </tr>\n",
       "    <tr>\n",
       "      <th>1</th>\n",
       "      <td>93.158.215.131</td>\n",
       "      <td>Mozilla/5.0 (Windows NT 6.3; WOW64; rv:45.0) G...</td>\n",
       "      <td>431</td>\n",
       "      <td>302</td>\n",
       "      <td>REQUEST_GET_ARGS</td>\n",
       "      <td>url</td>\n",
       "      <td>http://www.galitsios.gr/?option=com_k2</td>\n",
       "      <td>AVdcJmIIq1Ppo9zF2YIp</td>\n",
       "    </tr>\n",
       "    <tr>\n",
       "      <th>2</th>\n",
       "      <td>176.123.240.64</td>\n",
       "      <td>Mozilla/5.0 (Windows NT 6.0; rv:34.0) Gecko/20...</td>\n",
       "      <td>395</td>\n",
       "      <td>403</td>\n",
       "      <td>REQUEST_PATH</td>\n",
       "      <td></td>\n",
       "      <td>/opinion/page1_3.php\\\" and \\\"\\\"x\\\"\\\"=\\\"\\\"x\\\"</td>\n",
       "      <td>iz7SN2YBrgKk_RFNZW_U</td>\n",
       "    </tr>\n",
       "    <tr>\n",
       "      <th>3</th>\n",
       "      <td>73.78.81.63</td>\n",
       "      <td>Mozilla/5.0 (Windows NT 6.3; WOW64; rv:45.0) G...</td>\n",
       "      <td>387</td>\n",
       "      <td>302</td>\n",
       "      <td>REQUEST_GET_ARGS</td>\n",
       "      <td>url</td>\n",
       "      <td>http://thereviewgroup.org/boss-capital/</td>\n",
       "      <td>AVdjekw4q1Ppo9zF6QT2</td>\n",
       "    </tr>\n",
       "    <tr>\n",
       "      <th>4</th>\n",
       "      <td>66.102.9.44</td>\n",
       "      <td>Mozilla/5.0 (Linux; Android 4.4.2; GT-N7100 Bu...</td>\n",
       "      <td>1733</td>\n",
       "      <td>404</td>\n",
       "      <td>REQUEST_GET_ARGS</td>\n",
       "      <td>REQUEST_GET_ARGS._</td>\n",
       "      <td>1516288084140</td>\n",
       "      <td>SqQGI2QB5cBXmMW1CDbp</td>\n",
       "    </tr>\n",
       "    <tr>\n",
       "      <th>5</th>\n",
       "      <td>79.183.87.247</td>\n",
       "      <td>Mozilla/5.0 (Linux; Android 6.0; LG-H815 Build...</td>\n",
       "      <td>682</td>\n",
       "      <td>404</td>\n",
       "      <td>REQUEST_HEADERS</td>\n",
       "      <td>REQUEST_HEADERS.User-Agent</td>\n",
       "      <td>Mozilla/5.0 (Linux; Android 6.0; LG-H815 Build...</td>\n",
       "      <td>nFzwHGQB5cBXmMW1y_TD</td>\n",
       "    </tr>\n",
       "    <tr>\n",
       "      <th>6</th>\n",
       "      <td>88.198.201.245</td>\n",
       "      <td>Mozilla/5.0 (Windows NT 6.1; WOW64) AppleWebKi...</td>\n",
       "      <td>1031</td>\n",
       "      <td>302</td>\n",
       "      <td>REQUEST_GET_ARGS</td>\n",
       "      <td>REQUEST_GET_ARGS.rid</td>\n",
       "      <td>3585221644</td>\n",
       "      <td>9KP-ImQB5cBXmMW1yeXY</td>\n",
       "    </tr>\n",
       "    <tr>\n",
       "      <th>7</th>\n",
       "      <td>77.72.142.170</td>\n",
       "      <td>Mozilla/5.0 (Windows NT 6.1) AppleWebKit/537.3...</td>\n",
       "      <td>763</td>\n",
       "      <td>404</td>\n",
       "      <td>REQUEST_GET_ARGS</td>\n",
       "      <td>REQUEST_GET_ARGS._</td>\n",
       "      <td>214296569</td>\n",
       "      <td>97JpJGQB5cBXmMW1WqBh</td>\n",
       "    </tr>\n",
       "    <tr>\n",
       "      <th>8</th>\n",
       "      <td>94.50.192.153</td>\n",
       "      <td>Mozilla/5.0 (Windows NT 10.0) AppleWebKit/537....</td>\n",
       "      <td>3786</td>\n",
       "      <td>404</td>\n",
       "      <td>REQUEST_METHOD\\';\\'REQUEST_CONTE</td>\n",
       "      <td></td>\n",
       "      <td>POST\\';\\'multipart/form-data; boundary=----Web...</td>\n",
       "      <td>irs7_mMBjksgoq1eoQ7a</td>\n",
       "    </tr>\n",
       "    <tr>\n",
       "      <th>9</th>\n",
       "      <td>83.246.141.54</td>\n",
       "      <td>Mozilla/5.0 (Windows NT 6.1; WOW64; Trident/7....</td>\n",
       "      <td>840</td>\n",
       "      <td>404</td>\n",
       "      <td>REQUEST_GET_ARGS</td>\n",
       "      <td>REQUEST_GET_ARGS._</td>\n",
       "      <td>51660445</td>\n",
       "      <td>g4RdIGQB5cBXmMW10nGg</td>\n",
       "    </tr>\n",
       "  </tbody>\n",
       "</table>\n",
       "</div>"
      ],
      "text/plain": [
       "        CLIENT_IP                                   CLIENT_USERAGENT  \\\n",
       "0   188.138.92.55                                                      \n",
       "1  93.158.215.131  Mozilla/5.0 (Windows NT 6.3; WOW64; rv:45.0) G...   \n",
       "2  176.123.240.64  Mozilla/5.0 (Windows NT 6.0; rv:34.0) Gecko/20...   \n",
       "3     73.78.81.63  Mozilla/5.0 (Windows NT 6.3; WOW64; rv:45.0) G...   \n",
       "4     66.102.9.44  Mozilla/5.0 (Linux; Android 4.4.2; GT-N7100 Bu...   \n",
       "5   79.183.87.247  Mozilla/5.0 (Linux; Android 6.0; LG-H815 Build...   \n",
       "6  88.198.201.245  Mozilla/5.0 (Windows NT 6.1; WOW64) AppleWebKi...   \n",
       "7   77.72.142.170  Mozilla/5.0 (Windows NT 6.1) AppleWebKit/537.3...   \n",
       "8   94.50.192.153  Mozilla/5.0 (Windows NT 10.0) AppleWebKit/537....   \n",
       "9   83.246.141.54  Mozilla/5.0 (Windows NT 6.1; WOW64; Trident/7....   \n",
       "\n",
       "   REQUEST_SIZE  RESPONSE_CODE              MATCHED_VARIABLE_SRC  \\\n",
       "0           166            404                       REQUEST_URI   \n",
       "1           431            302                  REQUEST_GET_ARGS   \n",
       "2           395            403                      REQUEST_PATH   \n",
       "3           387            302                  REQUEST_GET_ARGS   \n",
       "4          1733            404                  REQUEST_GET_ARGS   \n",
       "5           682            404                   REQUEST_HEADERS   \n",
       "6          1031            302                  REQUEST_GET_ARGS   \n",
       "7           763            404                  REQUEST_GET_ARGS   \n",
       "8          3786            404  REQUEST_METHOD\\';\\'REQUEST_CONTE   \n",
       "9           840            404                  REQUEST_GET_ARGS   \n",
       "\n",
       "        MATCHED_VARIABLE_NAME  \\\n",
       "0                               \n",
       "1                         url   \n",
       "2                               \n",
       "3                         url   \n",
       "4          REQUEST_GET_ARGS._   \n",
       "5  REQUEST_HEADERS.User-Agent   \n",
       "6        REQUEST_GET_ARGS.rid   \n",
       "7          REQUEST_GET_ARGS._   \n",
       "8                               \n",
       "9          REQUEST_GET_ARGS._   \n",
       "\n",
       "                              MATCHED_VARIABLE_VALUE              EVENT_ID  \n",
       "0                   //tmp/20160925122692indo.php.vob  AVdhXFgVq1Ppo9zF5Fxu  \n",
       "1             http://www.galitsios.gr/?option=com_k2  AVdcJmIIq1Ppo9zF2YIp  \n",
       "2       /opinion/page1_3.php\\\" and \\\"\\\"x\\\"\\\"=\\\"\\\"x\\\"  iz7SN2YBrgKk_RFNZW_U  \n",
       "3            http://thereviewgroup.org/boss-capital/  AVdjekw4q1Ppo9zF6QT2  \n",
       "4                                      1516288084140  SqQGI2QB5cBXmMW1CDbp  \n",
       "5  Mozilla/5.0 (Linux; Android 6.0; LG-H815 Build...  nFzwHGQB5cBXmMW1y_TD  \n",
       "6                                         3585221644  9KP-ImQB5cBXmMW1yeXY  \n",
       "7                                          214296569  97JpJGQB5cBXmMW1WqBh  \n",
       "8  POST\\';\\'multipart/form-data; boundary=----Web...  irs7_mMBjksgoq1eoQ7a  \n",
       "9                                           51660445  g4RdIGQB5cBXmMW10nGg  "
      ]
     },
     "execution_count": 12,
     "metadata": {},
     "output_type": "execute_result"
    }
   ],
   "source": [
    "# Check on the data head\n",
    "data_df.head(10)"
   ]
  },
  {
   "cell_type": "code",
   "execution_count": 13,
   "id": "4d8069ca-58e2-452c-bab3-02942cd3bb6a",
   "metadata": {},
   "outputs": [],
   "source": [
    "############################################################\n",
    "# Now let us look at the columns to figure out which ones\n",
    "# might be of use and if additional columns may be added\n",
    "############################################################"
   ]
  },
  {
   "cell_type": "code",
   "execution_count": 14,
   "id": "192d3c09-d5b3-4d36-8f67-a2ae76e8a7ce",
   "metadata": {},
   "outputs": [],
   "source": [
    "#----------------------------------------------------------\n",
    "# Consider the CLIENT_IP column"
   ]
  },
  {
   "cell_type": "code",
   "execution_count": 15,
   "id": "09099b70-9068-4702-b043-da5391485c80",
   "metadata": {},
   "outputs": [
    {
     "data": {
      "text/plain": [
       "217.175.140.69     11286\n",
       "37.46.129.136        771\n",
       "5.143.231.38         757\n",
       "192.168.100.63       748\n",
       "188.43.52.163        704\n",
       "185.26.112.50        687\n",
       "62.168.244.229       542\n",
       "103.208.220.130      303\n",
       "185.70.104.11        280\n",
       "178.236.141.227      214\n",
       "Name: CLIENT_IP, dtype: Int64"
      ]
     },
     "execution_count": 15,
     "metadata": {},
     "output_type": "execute_result"
    }
   ],
   "source": [
    "# Check on the IP addresses distribution\n",
    "ip_counts_df = data_df['CLIENT_IP'].value_counts()\n",
    "ip_counts_df.head(10)"
   ]
  },
  {
   "cell_type": "code",
   "execution_count": 16,
   "id": "48a6896a-2c23-407d-aa33-65d3133c918d",
   "metadata": {},
   "outputs": [
    {
     "data": {
      "text/plain": [
       "<AxesSubplot: >"
      ]
     },
     "execution_count": 16,
     "metadata": {},
     "output_type": "execute_result"
    },
    {
     "data": {
      "image/png": "[encoded data removed]",
      "text/plain": [
       "<Figure size 640x480 with 1 Axes>"
      ]
     },
     "metadata": {},
     "output_type": "display_data"
    }
   ],
   "source": [
    "# Plot the the IP counts other than for '217.175.140.69'\n",
    "MAX_COUNT_IP = ip_counts_df.index[0]\n",
    "ip_counts_df[ip_counts_df.index != '217.175.140.69'].plot.box()"
   ]
  },
  {
   "cell_type": "code",
   "execution_count": 17,
   "id": "710f8c37-a140-4083-886b-f7872c27836a",
   "metadata": {},
   "outputs": [
    {
     "data": {
      "image/png": "[encoded data removed]",
      "text/plain": [
       "<Figure size 1500x500 with 1 Axes>"
      ]
     },
     "metadata": {},
     "output_type": "display_data"
    }
   ],
   "source": [
    "# Show the distribution of request counts per IP address (x-axis)\n",
    "fig, ax = plt.subplots(figsize=(15, 5))\n",
    "_ = plt.hist(ip_counts_df, log=True, bins=1000)"
   ]
  },
  {
   "cell_type": "code",
   "execution_count": 18,
   "id": "2c4de55c-5893-4c91-9990-e454a5e5c8a4",
   "metadata": {},
   "outputs": [
    {
     "name": "stdout",
     "output_type": "stream",
     "text": [
      "About 19.57% (11286/57666) of all requests are done from IP: \"217.175.140.69\"\n"
     ]
    }
   ],
   "source": [
    "# The number of requests from the IP '217.175.140.69' is a clear outlier\n",
    "max_ip_count = ip_counts_df.loc[MAX_COUNT_IP]\n",
    "print(f'About {round(max_ip_count*100/len(data_df), 2)}% ({max_ip_count}/{len(data_df)}) of all requests are done from IP: \"{MAX_COUNT_IP}\"')"
   ]
  },
  {
   "cell_type": "code",
   "execution_count": 19,
   "id": "81f47bcd-2498-4c8b-a436-27cd5b0b3b41",
   "metadata": {},
   "outputs": [
    {
     "data": {
      "text/html": [
       "<div>\n",
       "<style scoped>\n",
       "    .dataframe tbody tr th:only-of-type {\n",
       "        vertical-align: middle;\n",
       "    }\n",
       "\n",
       "    .dataframe tbody tr th {\n",
       "        vertical-align: top;\n",
       "    }\n",
       "\n",
       "    .dataframe thead th {\n",
       "        text-align: right;\n",
       "    }\n",
       "</style>\n",
       "<table border=\"1\" class=\"dataframe\">\n",
       "  <thead>\n",
       "    <tr style=\"text-align: right;\">\n",
       "      <th></th>\n",
       "      <th>CLIENT_IP</th>\n",
       "      <th>CLIENT_USERAGENT</th>\n",
       "      <th>REQUEST_SIZE</th>\n",
       "      <th>RESPONSE_CODE</th>\n",
       "      <th>MATCHED_VARIABLE_SRC</th>\n",
       "      <th>MATCHED_VARIABLE_NAME</th>\n",
       "      <th>MATCHED_VARIABLE_VALUE</th>\n",
       "      <th>EVENT_ID</th>\n",
       "    </tr>\n",
       "  </thead>\n",
       "  <tbody>\n",
       "    <tr>\n",
       "      <th>11</th>\n",
       "      <td>217.175.140.69</td>\n",
       "      <td>Mozilla/5.0 (Windows NT 6.1) AppleWebKit/537.3...</td>\n",
       "      <td>735</td>\n",
       "      <td>302</td>\n",
       "      <td>REQUEST_COOKIES</td>\n",
       "      <td>REQUEST_COOKIES.user_id</td>\n",
       "      <td>4f1a4c5f-9636-4e6d-9713-b94a7e22cbb0</td>\n",
       "      <td>YXqIH2QB5cBXmMW1PQw-</td>\n",
       "    </tr>\n",
       "    <tr>\n",
       "      <th>15</th>\n",
       "      <td>217.175.140.69</td>\n",
       "      <td>Mozilla/5.0 (Windows NT 5.1) AppleWebKit/537.3...</td>\n",
       "      <td>551</td>\n",
       "      <td>304</td>\n",
       "      <td>REQUEST_HEADERS</td>\n",
       "      <td>REQUEST_HEADERS.If-Modified-Since</td>\n",
       "      <td>Thu, 25 Jan 2018 07:17:06 GMT</td>\n",
       "      <td>wm-kHmQB5cBXmMW1NATt</td>\n",
       "    </tr>\n",
       "    <tr>\n",
       "      <th>17</th>\n",
       "      <td>217.175.140.69</td>\n",
       "      <td>Mozilla/5.0 (Windows NT 6.1) AppleWebKit/537.3...</td>\n",
       "      <td>2277</td>\n",
       "      <td>200</td>\n",
       "      <td>REQUEST_GET_ARGS</td>\n",
       "      <td>REQUEST_GET_ARGS.callback_uid</td>\n",
       "      <td>2c42dc598cf3ff</td>\n",
       "      <td>mV0PHWQB5cBXmMW1Nuon</td>\n",
       "    </tr>\n",
       "    <tr>\n",
       "      <th>21</th>\n",
       "      <td>217.175.140.69</td>\n",
       "      <td>Mozilla/5.0 (Windows NT 6.1; WOW64; Trident/7....</td>\n",
       "      <td>680</td>\n",
       "      <td>302</td>\n",
       "      <td>REQUEST_GET_ARGS</td>\n",
       "      <td>REQUEST_GET_ARGS.r</td>\n",
       "      <td>//dmg.digitaltarget.ru/1/224/i/i?a=224&amp;e=5a65a...</td>\n",
       "      <td>Oq8KJGQB5cBXmMW1vQVL</td>\n",
       "    </tr>\n",
       "    <tr>\n",
       "      <th>27</th>\n",
       "      <td>217.175.140.69</td>\n",
       "      <td>Mozilla/5.0 (compatible; MSIE 9.0; Windows NT ...</td>\n",
       "      <td>4660</td>\n",
       "      <td>200</td>\n",
       "      <td>REQUEST_GET_ARGS</td>\n",
       "      <td>REQUEST_GET_ARGS.q</td>\n",
       "      <td>{\\\"tags\\\":[{\\\"sizes\\\":[{\\\"width\\\":728,\\\"height...</td>\n",
       "      <td>D759JWQB5cBXmMW1Lw0r</td>\n",
       "    </tr>\n",
       "    <tr>\n",
       "      <th>28</th>\n",
       "      <td>217.175.140.69</td>\n",
       "      <td>Mozilla/5.0 (Windows NT 6.1) AppleWebKit/537.3...</td>\n",
       "      <td>3007</td>\n",
       "      <td>502</td>\n",
       "      <td>REQUEST_GET_ARGS</td>\n",
       "      <td>REQUEST_GET_ARGS.callback_uid</td>\n",
       "      <td>1715ca8ec91592a</td>\n",
       "      <td>NbkMJWQB5cBXmMW1VVhF</td>\n",
       "    </tr>\n",
       "    <tr>\n",
       "      <th>39</th>\n",
       "      <td>217.175.140.69</td>\n",
       "      <td>Mozilla/5.0 (Windows NT 6.1; WOW64; Trident/7....</td>\n",
       "      <td>3795</td>\n",
       "      <td>307</td>\n",
       "      <td>REQUEST_COOKIES</td>\n",
       "      <td>REQUEST_COOKIES.rpx</td>\n",
       "      <td>31956=70895,0,1,,&amp;6286=70686,0,1,,&amp;106496=7085...</td>\n",
       "      <td>QIEmIGQB5cBXmMW1qsEs</td>\n",
       "    </tr>\n",
       "    <tr>\n",
       "      <th>41</th>\n",
       "      <td>217.175.140.69</td>\n",
       "      <td>*BgfBAAAA-EAAAEFBAAQLljjU6Vfh4i4fw0IhLFvB2RNU3...</td>\n",
       "      <td>218</td>\n",
       "      <td>200</td>\n",
       "      <td>REQUEST_PATH</td>\n",
       "      <td>REQUEST_PATH</td>\n",
       "      <td>/updates/kdb/i386/diffs/base087e.kdc.ply</td>\n",
       "      <td>_lPZG2QB5cBXmMW1csGr</td>\n",
       "    </tr>\n",
       "    <tr>\n",
       "      <th>43</th>\n",
       "      <td>217.175.140.69</td>\n",
       "      <td>Mozilla/5.0 (Windows NT 6.1; WOW64) AppleWebKi...</td>\n",
       "      <td>3002</td>\n",
       "      <td>302</td>\n",
       "      <td>REQUEST_COOKIES</td>\n",
       "      <td>REQUEST_COOKIES.KRTBCOOKIE_561</td>\n",
       "      <td>9455-uid:076313ed-38b6-47d3-9c7d-e7278703aaae</td>\n",
       "      <td>smO3HWQB5cBXmMW1V7UQ</td>\n",
       "    </tr>\n",
       "    <tr>\n",
       "      <th>53</th>\n",
       "      <td>217.175.140.69</td>\n",
       "      <td>Mozilla/5.0 (Windows NT 10.0; WOW64; Trident/7...</td>\n",
       "      <td>2831</td>\n",
       "      <td>200</td>\n",
       "      <td>REQUEST_COOKIES</td>\n",
       "      <td>REQUEST_COOKIES.icu</td>\n",
       "      <td>ChgI44kuEAoYFyAXKBcw-6fA0wU4F0AXSBcKGAjLpDMQCh...</td>\n",
       "      <td>OrfZJGQB5cBXmMW1kyE-</td>\n",
       "    </tr>\n",
       "  </tbody>\n",
       "</table>\n",
       "</div>"
      ],
      "text/plain": [
       "         CLIENT_IP                                   CLIENT_USERAGENT  \\\n",
       "11  217.175.140.69  Mozilla/5.0 (Windows NT 6.1) AppleWebKit/537.3...   \n",
       "15  217.175.140.69  Mozilla/5.0 (Windows NT 5.1) AppleWebKit/537.3...   \n",
       "17  217.175.140.69  Mozilla/5.0 (Windows NT 6.1) AppleWebKit/537.3...   \n",
       "21  217.175.140.69  Mozilla/5.0 (Windows NT 6.1; WOW64; Trident/7....   \n",
       "27  217.175.140.69  Mozilla/5.0 (compatible; MSIE 9.0; Windows NT ...   \n",
       "28  217.175.140.69  Mozilla/5.0 (Windows NT 6.1) AppleWebKit/537.3...   \n",
       "39  217.175.140.69  Mozilla/5.0 (Windows NT 6.1; WOW64; Trident/7....   \n",
       "41  217.175.140.69  *BgfBAAAA-EAAAEFBAAQLljjU6Vfh4i4fw0IhLFvB2RNU3...   \n",
       "43  217.175.140.69  Mozilla/5.0 (Windows NT 6.1; WOW64) AppleWebKi...   \n",
       "53  217.175.140.69  Mozilla/5.0 (Windows NT 10.0; WOW64; Trident/7...   \n",
       "\n",
       "    REQUEST_SIZE  RESPONSE_CODE MATCHED_VARIABLE_SRC  \\\n",
       "11           735            302      REQUEST_COOKIES   \n",
       "15           551            304      REQUEST_HEADERS   \n",
       "17          2277            200     REQUEST_GET_ARGS   \n",
       "21           680            302     REQUEST_GET_ARGS   \n",
       "27          4660            200     REQUEST_GET_ARGS   \n",
       "28          3007            502     REQUEST_GET_ARGS   \n",
       "39          3795            307      REQUEST_COOKIES   \n",
       "41           218            200         REQUEST_PATH   \n",
       "43          3002            302      REQUEST_COOKIES   \n",
       "53          2831            200      REQUEST_COOKIES   \n",
       "\n",
       "                MATCHED_VARIABLE_NAME  \\\n",
       "11            REQUEST_COOKIES.user_id   \n",
       "15  REQUEST_HEADERS.If-Modified-Since   \n",
       "17      REQUEST_GET_ARGS.callback_uid   \n",
       "21                 REQUEST_GET_ARGS.r   \n",
       "27                 REQUEST_GET_ARGS.q   \n",
       "28      REQUEST_GET_ARGS.callback_uid   \n",
       "39                REQUEST_COOKIES.rpx   \n",
       "41                       REQUEST_PATH   \n",
       "43     REQUEST_COOKIES.KRTBCOOKIE_561   \n",
       "53                REQUEST_COOKIES.icu   \n",
       "\n",
       "                               MATCHED_VARIABLE_VALUE              EVENT_ID  \n",
       "11               4f1a4c5f-9636-4e6d-9713-b94a7e22cbb0  YXqIH2QB5cBXmMW1PQw-  \n",
       "15                      Thu, 25 Jan 2018 07:17:06 GMT  wm-kHmQB5cBXmMW1NATt  \n",
       "17                                     2c42dc598cf3ff  mV0PHWQB5cBXmMW1Nuon  \n",
       "21  //dmg.digitaltarget.ru/1/224/i/i?a=224&e=5a65a...  Oq8KJGQB5cBXmMW1vQVL  \n",
       "27  {\\\"tags\\\":[{\\\"sizes\\\":[{\\\"width\\\":728,\\\"height...  D759JWQB5cBXmMW1Lw0r  \n",
       "28                                    1715ca8ec91592a  NbkMJWQB5cBXmMW1VVhF  \n",
       "39  31956=70895,0,1,,&6286=70686,0,1,,&106496=7085...  QIEmIGQB5cBXmMW1qsEs  \n",
       "41           /updates/kdb/i386/diffs/base087e.kdc.ply  _lPZG2QB5cBXmMW1csGr  \n",
       "43      9455-uid:076313ed-38b6-47d3-9c7d-e7278703aaae  smO3HWQB5cBXmMW1V7UQ  \n",
       "53  ChgI44kuEAoYFyAXKBcw-6fA0wU4F0AXSBcKGAjLpDMQCh...  OrfZJGQB5cBXmMW1kyE-  "
      ]
     },
     "execution_count": 19,
     "metadata": {},
     "output_type": "execute_result"
    }
   ],
   "source": [
    "# Check on the requests done from that IP\n",
    "max_count_ip_df = data_df[data_df['CLIENT_IP'] == MAX_COUNT_IP]\n",
    "max_count_ip_df.head(10)"
   ]
  },
  {
   "cell_type": "code",
   "execution_count": 20,
   "id": "ae8028a7-c41e-444f-acf0-f49e171ad2c1",
   "metadata": {},
   "outputs": [
    {
     "name": "stdout",
     "output_type": "stream",
     "text": [
      "There are: 24794 distinct GOOD IPv4 values present, which is 99.74 %!\n",
      "There are: 23 distinct GOOD IPv6 values present, which is 0.09 %!\n",
      "The unique malformed IP values are:\n",
      "['2001:4ba0:cafe:ace::1', '2a01:598:9902:df0c:8115:691e:c38', '2a01:4f8:171:3299::2', '2a02:750:5::9c5', '2a02:27aa::68b', '2a01:4f8:212:457::2', '2001:7d0:87e2:1480:e870:b625:397', '2a01:4f8:212:284c::2', '2a01:4f8:201:5009::2', '2a02:2168:13cb:4300:b5d0:78ec:8d', '2a01:4f8:212:45d::2', '2a00:1148:b0ba:2615:8b4:f98f:f56', '2001:730:3e18:6000::3f', '2a01:4f8:162:1129::2', '2a02:6b8:0:c2e::9', '2a01:4f8:c17:d8d::2', '2a02:2698:3c23:65d4:1839:9c8f:ef', '2a02:2698:7c25:f4dc:409e:83aa:61', '2a00:1370:812a:1379:3d16:a3b4:88', '2a03:6f00:1:1::bce1:1152', '2001:41d0:52:a00::2b', '2a02:2168:d84:ec00:54d3:8341:440', '2a02:c7d:1171:8300:2980:a4b7:4f9', '2a02:2698:7022:939a:c473:f721:9d', '2001:41d0:8:d744::1', '2a02:598:a::78:166', '2a01:4f8:212:451::2', '2001:41d0:a:6097::', '2a02:2168:817:621::2', '2a02:2168:f55:1b00:c589:6624:fb4', '2a00:1370:8120:29a1:e89b:bb06:6f', '2a00:1370:8120:29a1:f100:f51c:9a', '2a02:2698:4c27:6f12:2938:d5d9:3c', '2a02:2168:1b49:d900:71e7:9ac2:bf', '2a01:540:2001:ad53:204f:349b:d5a', '2001:5b0:216a:be90:280:aeff:fe21', '2a01:4f8:171:119c::2', '2a02:2168:e4e:2300:b6a:2db3:fc95', '2a00:1370:811e:814:b412:ad6a:eb6', '2a00:1370:8112:4467:a57c:479b:8e', '2a02:2698:4c27:37bd:846c:d5bd:49']\n"
     ]
    }
   ],
   "source": [
    "# Check on the IP address values as well, we expect IP4 and IP6 addresses\n",
    "unique_client_ips = data_df['CLIENT_IP'].unique()\n",
    "\n",
    "def check_ip_pattern(ip_values, reg_exp, version):\n",
    "    good_ip_values = {ip_val for ip_val in ip_values if reg_exp.match(ip_val.upper())}\n",
    "    print(f'There are: {len(good_ip_values)} distinct GOOD IPv{version} values present, which is {round(len(good_ip_values)*100/len(ip_values), 2)} %!')\n",
    "    return good_ip_values\n",
    "\n",
    "# Check on IPv4, reg-exp source from: \n",
    "#    https://www.oreilly.com/library/view/regular-expressions-cookbook/9780596802837/ch07s16.html\n",
    "ip_v4_reg_exp = re.compile(r'^(?:(?:25[0-5]|2[0-4][0-9]|[01]?[0-9][0-9]?)\\.){3}(?:25[0-5]|2[0-4][0-9]|[01]?[0-9][0-9]?)$')\n",
    "good_ip_v4 = check_ip_pattern(unique_client_ips, ip_v4_reg_exp, 4)\n",
    "\n",
    "# Check on IPv6, reg-exp source from:\n",
    "#    https://www.oreilly.com/library/view/regular-expressions-cookbook/9781449327453/ch08s17.html\n",
    "ip_v6_reg_exp = re.compile(r'^(?:[A-F0-9]{1,4}:){7}[A-F0-9]{1,4}$')\n",
    "good_ip_v6 = check_ip_pattern(unique_client_ips, ip_v6_reg_exp, 6)\n",
    "\n",
    "# Log the malformed unique IP values\n",
    "malformed_ips = [ip_val for ip_val in unique_client_ips if ip_val not in good_ip_v4 and ip_val not in good_ip_v6]\n",
    "print(f'The unique malformed IP values are:\\n{malformed_ips}')"
   ]
  },
  {
   "cell_type": "code",
   "execution_count": 21,
   "id": "561a260c-5160-42c4-bbb1-46b3c57024f6",
   "metadata": {},
   "outputs": [],
   "source": [
    "# Add a new distinct column indicating the validity of the IP address\n",
    "data_df['IS_CLIENT_IP_VALID'] = data_df['CLIENT_IP'].apply(lambda ip_value: ip_value in good_ip_v4 or ip_value in good_ip_v6)"
   ]
  },
  {
   "cell_type": "code",
   "execution_count": 22,
   "id": "42720864-cc37-4a7c-b30e-1408fb10a0f3",
   "metadata": {},
   "outputs": [],
   "source": [
    "# CLIENT_IP column conclusion:\n",
    "#    Is useful as too many requests from the same IP address can be\n",
    "#    a sign of an attack, also a malformed IP can be a sign of an attack\n",
    "#----------------------------------------------------------"
   ]
  },
  {
   "cell_type": "code",
   "execution_count": 23,
   "id": "4e782162-5a03-41bd-87b7-0a13708daea9",
   "metadata": {},
   "outputs": [],
   "source": [
    "#----------------------------------------------------------\n",
    "# Consider the CLIENT_USERAGENT column"
   ]
  },
  {
   "cell_type": "code",
   "execution_count": 24,
   "id": "fac6cc8d-54f7-4e08-bc8d-9d92a348abf7",
   "metadata": {},
   "outputs": [
    {
     "name": "stdout",
     "output_type": "stream",
     "text": [
      "There are 557 distinct user agent values for IP: \"217.175.140.69\", namely:\n",
      "<StringArray>\n",
      "[                                                                                                                                                                                                                                                                       'Mozilla/5.0 (Windows NT 6.1) AppleWebKit/537.36 (KHTML, like Gecko) Chrome/52.0.2743.116 Safari/537.36',\n",
      "                                                                                                                                                                                                                                                                        'Mozilla/5.0 (Windows NT 5.1) AppleWebKit/537.36 (KHTML, like Gecko) Chrome/49.0.2623.112 Safari/537.36',\n",
      "                                                                                                                                                                                                                                                                        'Mozilla/5.0 (Windows NT 6.1) AppleWebKit/537.36 (KHTML, like Gecko) Chrome/49.0.2623.112 Safari/537.36',\n",
      "                                                                                                                                                                                                                                                                                                          'Mozilla/5.0 (Windows NT 6.1; WOW64; Trident/7.0; rv:11.0) like Gecko',\n",
      "                                                                                                                                                                                                                                                                                                        'Mozilla/5.0 (compatible; MSIE 9.0; Windows NT 6.1; WOW64; Trident/5.0)',\n",
      "                                                                                                                                                                                                                                                                         'Mozilla/5.0 (Windows NT 6.1) AppleWebKit/537.36 (KHTML, like Gecko) Chrome/62.0.3202.94 Safari/537.36',\n",
      "                                                                                                                                                                                                                                                                                                                 '*BgfBAAAA-EAAAEFBAAQLljjU6Vfh4i4fw0IhLFvB2RNU3BPAByQBAIAAKAA=',\n",
      "                                                                                                                                                                                                                                                                  'Mozilla/5.0 (Windows NT 6.1; WOW64) AppleWebKit/537.36 (KHTML, like Gecko) Chrome/54.0.2840.99 Safari/537.36',\n",
      "                                                                                                                                                                                                                                                                                                         'Mozilla/5.0 (Windows NT 10.0; WOW64; Trident/7.0; rv:11.0) like Gecko',\n",
      "                                                                                                                                                                                                                                                                                                                                    'MICROSOFT_DEVICE_METADATA_RETRIEVAL_CLIENT',\n",
      " ...\n",
      "                                                                                                                                                                                                                                                                                                                 '*BcfBAAAA-EAAAEFBAAQLljjU6Vfh4i4fw0IhLFvB2RNU3pGAByQBAIAAKAA=',\n",
      "                                                                                                                                                                                                                                        'Mozilla/5.0 (Windows NT 6.2; WOW64) AppleWebKit/537.22 (KHTML, like Gecko) Chrome/25.0.1364.172 YaBrowser/1.7.1364.22076 Safari/537.22',\n",
      "                                                                                                                                                                                                                                               'Mozilla/5.0 (Windows NT 6.1) AppleWebKit/537.36 (KHTML, like Gecko) Chrome/44.0.2403.157 YaBrowser/15.9.2403.2966 Safari/537.36',\n",
      "                                                                                                                                                                                                                                                                                                     'Mozilla/5.0 (Windows NT 6.1; Win64; x64; Trident/7.0; rv:11.0) like Gecko',\n",
      "                                                                                                                                                                                                                                                                                                                 '*BcfBAAAA-EAAAEFBAAQLljjUQjrIENYJawZVGRZ5QtyLyhMAV6gBAIAAKAA=',\n",
      "                                                                                                                                                                                                                                                                                                                 '*BcfBAAAA-EAAAEFBAAQLljjU6Vfh4i4fw0IhLFvB2RNU3xLAByQBAIAAKAA=',\n",
      "                                                                                                                                                                                                                                                                                                                 '*BcfBAAAA-EAAAEFBAAQLljjU6Vfh4i4fw0IhLFvB2RNU39JAByQBAIAAKAA=',\n",
      "                                                                                                                                                                                                                                                                                                                 '*BcfBAAAA-EAAAEFBAAQLljjU3srEMoknMVoVMx8OfkxAy-NAV6gBAIAAKAA=',\n",
      "                                                                                                                                                                                                                                                                                                                 '*BcfBAAAA-EAAAEFBAAQLljjU6Vfh4i4fw0IhLFvB2RNU3dNAByQBAIAAKAA=',\n",
      " '@bMrWDiTknAUbmxaWClXIOYYcM98pHOZZ0G3EHdloMovbyPw2NgCBRmdM8YTbQcKkuS0D8Pe2OUCN0Iv1zaBh6TSMYhnM2q9hDq9kRwpc4LBQKnzcq95Iakt4JkZD1XXAxT3pqySFhQoH3-swQUD0LOlNspR5cxRibguAb5EFrK7gYeE60waNlhzA4gH64eSPsmwf4JLv4wx9qHnDIiN--XOW4A_8ibKD9PJScPhwWDYvZCMqMZP8yn40IRypzrrk34NjB91fl4jobkjF3LjtJ3WZs5f7X8ATRtuP2t6HUkWHK542SqFI9yrSaR4UzOvOfvjsIn6X_M4i5gC9fMnmXTFSP7bbaeuOFl5zAy64BiC=']\n",
      "Length: 557, dtype: string\n"
     ]
    }
   ],
   "source": [
    "# List the unique user agents used from the IP address from which the maximum number of requests came\n",
    "unique_agent_values_mci = max_count_ip_df['CLIENT_USERAGENT'].unique()\n",
    "print(f'There are {len(unique_agent_values_mci)} distinct user agent values for IP: \"{MAX_COUNT_IP}\", namely:\\n{unique_agent_values_mci}')"
   ]
  },
  {
   "cell_type": "code",
   "execution_count": 25,
   "id": "fe16299d-a8b6-419c-a17d-da4d54c5ee5a",
   "metadata": {},
   "outputs": [
    {
     "name": "stdout",
     "output_type": "stream",
     "text": [
      "There are 6949 distinct user agent values for All requests\n"
     ]
    }
   ],
   "source": [
    "# List the unique user agents used from All the IP addresses\n",
    "unique_agent_values_all = data_df['CLIENT_USERAGENT'].unique()\n",
    "print(f'There are {len(unique_agent_values_all)} distinct user agent values for All requests')"
   ]
  },
  {
   "cell_type": "code",
   "execution_count": 26,
   "id": "981c852a-965a-496b-af63-807c81626540",
   "metadata": {},
   "outputs": [
    {
     "name": "stdout",
     "output_type": "stream",
     "text": [
      "There are: 596 distinct malformed user agent values present, which is 8.58 %!\n"
     ]
    }
   ],
   "source": [
    "# According to:\n",
    "#    https://developer.mozilla.org/en-US/docs/Web/HTTP/Headers/User-Agent\n",
    "# The valid user agent value value shall be:\n",
    "#    User-Agent: <product> / <product-version> <comment>\n",
    "# Common format for web browsers:\n",
    "#    User-Agent: Mozilla/5.0 (<system-information>) <platform> (<platform-details>) <extensions>\n",
    "# Let us take the user agent regexp from:\n",
    "#    https://regex101.com/library/2McsiK\n",
    "user_agent_reg_exp = re.compile(r'\\((?<info>.*?)\\)(\\s|$)|(?<name>.*?)\\/(?<version>.*?)(\\s|$)')\n",
    "broken_agent_values_all = [user_agent for user_agent in unique_agent_values_all if not user_agent_reg_exp.match(user_agent)]\n",
    "print(f'There are: {len(broken_agent_values_all)} distinct malformed user agent values present, which is {round(len(broken_agent_values_all)*100/len(unique_agent_values_all), 2)} %!')"
   ]
  },
  {
   "cell_type": "code",
   "execution_count": 27,
   "id": "70576d0a-a744-4a4d-b7ff-c904466e1da6",
   "metadata": {},
   "outputs": [
    {
     "name": "stdout",
     "output_type": "stream",
     "text": [
      "There are: 337 distinct malformed user agent values for IP: \"217.175.140.69\" present, which is 60.5 %!\n"
     ]
    }
   ],
   "source": [
    "# Check on the percent of malformed user agent values for maximum count IP:\n",
    "broken_agent_values_mci = [user_agent for user_agent in unique_agent_values_mci if not user_agent_reg_exp.match(user_agent)]\n",
    "print(f'There are: {len(broken_agent_values_mci)} distinct malformed user agent values for IP: \"{MAX_COUNT_IP}\" present, which is {round(len(broken_agent_values_mci)*100/len(unique_agent_values_mci), 2)} %!')"
   ]
  },
  {
   "cell_type": "code",
   "execution_count": 28,
   "id": "3f82f95b-fba0-4340-b9e8-2f773237932c",
   "metadata": {},
   "outputs": [],
   "source": [
    "# Extend data with the validity flag for the user agent as it may be a good indicator of the attack\n",
    "# The percent of malformed user agent values is significantly higher for the IP from which most requests came\n",
    "data_df['IS_USERAGENT_VALID'] = data_df['CLIENT_USERAGENT'].apply(lambda user_agent: user_agent_reg_exp.match(user_agent))"
   ]
  },
  {
   "cell_type": "code",
   "execution_count": 29,
   "id": "1e9adb54-7830-4689-9cae-9f7b4eb85510",
   "metadata": {},
   "outputs": [],
   "source": [
    "# CLIENT_USERAGENT column conclusion:\n",
    "#    Is useful, as malformed user agents can be a sign of an attack\n",
    "#    Also, using multiple clients from the same IP address or a\n",
    "#    specific user agent type used.\n",
    "#----------------------------------------------------------"
   ]
  },
  {
   "cell_type": "code",
   "execution_count": 30,
   "id": "70067165-0fa6-46a3-9363-5730893201a1",
   "metadata": {},
   "outputs": [],
   "source": [
    "#----------------------------------------------------------\n",
    "# Consider the REQUEST_SIZE column"
   ]
  },
  {
   "cell_type": "code",
   "execution_count": 31,
   "id": "fb6af829-fa61-4d47-9efc-83dc26d653eb",
   "metadata": {},
   "outputs": [
    {
     "data": {
      "text/plain": [
       "<AxesSubplot: >"
      ]
     },
     "execution_count": 31,
     "metadata": {},
     "output_type": "execute_result"
    },
    {
     "data": {
      "image/png": "[encoded data removed]",
      "text/plain": [
       "<Figure size 640x480 with 1 Axes>"
      ]
     },
     "metadata": {},
     "output_type": "display_data"
    }
   ],
   "source": [
    "# Check on the distribution of the request sizes, there are clear outliers here\n",
    "# The request sizes go up to 10 megabytes which may be an indicator of an attack\n",
    "data_df['REQUEST_SIZE'].plot.box()"
   ]
  },
  {
   "cell_type": "code",
   "execution_count": 32,
   "id": "963051aa-75d1-44cb-b1a8-3d3e6d632cd5",
   "metadata": {},
   "outputs": [
    {
     "data": {
      "image/png": "[encoded data removed]",
      "text/plain": [
       "<Figure size 1500x500 with 1 Axes>"
      ]
     },
     "metadata": {},
     "output_type": "display_data"
    }
   ],
   "source": [
    "# Given most of the requests are small\n",
    "fig, ax = plt.subplots(figsize=(15, 5))\n",
    "_ = plt.hist(data_df['REQUEST_SIZE'], log=True, bins=500)"
   ]
  },
  {
   "cell_type": "code",
   "execution_count": 33,
   "id": "d6e9e3c0-b141-417c-abe3-bb12f962cb1a",
   "metadata": {},
   "outputs": [],
   "source": [
    "# REQUEST_SIZE column conclusion:\n",
    "#    Is useful, as too little or too much request data can be a sign of an attack.\n",
    "#---------------------------------------------------------"
   ]
  },
  {
   "cell_type": "code",
   "execution_count": null,
   "id": "d114eac7-5605-46e9-8e52-89897d9f4081",
   "metadata": {},
   "outputs": [],
   "source": [
    "#----------------------------------------------------------\n",
    "# Consider the RESPONSE_CODE column"
   ]
  },
  {
   "cell_type": "code",
   "execution_count": null,
   "id": "430a2d08-ead1-4427-8483-7cf1857d6295",
   "metadata": {},
   "outputs": [],
   "source": [
    "# RESPONSE_CODE column conclusion:\n",
    "#    Is ...\n",
    "#---------------------------------------------------------"
   ]
  },
  {
   "cell_type": "code",
   "execution_count": null,
   "id": "5979920b-a661-4a6f-8ca7-5a95a1b76147",
   "metadata": {},
   "outputs": [],
   "source": [
    "#----------------------------------------------------------\n",
    "# Consider the MATCHED_VARIABLE_SRC column"
   ]
  },
  {
   "cell_type": "code",
   "execution_count": null,
   "id": "7eef4801-3762-46ee-a625-ff8208e6c9be",
   "metadata": {},
   "outputs": [],
   "source": [
    "# MATCHED_VARIABLE_SRC column conclusion:\n",
    "#    Is ...\n",
    "#---------------------------------------------------------"
   ]
  },
  {
   "cell_type": "code",
   "execution_count": null,
   "id": "75cd8f5b-2825-4a5c-83ea-f89e75b2c6f5",
   "metadata": {},
   "outputs": [],
   "source": [
    "#----------------------------------------------------------\n",
    "# Consider the MATCHED_VARIABLE_NAME column"
   ]
  },
  {
   "cell_type": "code",
   "execution_count": null,
   "id": "778bc4ac-6b5f-4d0c-b004-60ceeabadaf9",
   "metadata": {},
   "outputs": [],
   "source": [
    "# MATCHED_VARIABLE_NAME column conclusion:\n",
    "#    Is ...\n",
    "#---------------------------------------------------------"
   ]
  },
  {
   "cell_type": "code",
   "execution_count": null,
   "id": "cd1ba4e8-f67e-4e1d-be9c-14c58633d14c",
   "metadata": {},
   "outputs": [],
   "source": [
    "#----------------------------------------------------------\n",
    "# Consider the MATCHED_VARIABLE_VALUE column\n",
    "#\n",
    "# MATCHED_VARIABLE_VALUE column conclusion:\n",
    "#    Is not useful as the actul value \n",
    "#---------------------------------------------------------"
   ]
  },
  {
   "cell_type": "code",
   "execution_count": null,
   "id": "48052b07-b45f-4897-93da-ec18661aa281",
   "metadata": {},
   "outputs": [],
   "source": [
    "#----------------------------------------------------------\n",
    "# Consider the EVENT_ID column"
   ]
  },
  {
   "cell_type": "code",
   "execution_count": 47,
   "id": "722faf0e-c2c2-4b99-a566-d623523bd758",
   "metadata": {},
   "outputs": [
    {
     "data": {
      "text/plain": [
       "cr1nJWQB5cBXmMW1hh_4    7\n",
       "XZ-bImQB5cBXmMW11ksX    6\n",
       "l1mUHGQB5cBXmMW1mdYm    6\n",
       "m1K7G2QB5cBXmMW1pcnY    6\n",
       "dqqPI2QB5cBXmMW1L9-m    5\n",
       "znQRH2QB5cBXmMW1_Hsj    5\n",
       "2pJ_IWQB5cBXmMW1IzTz    4\n",
       "f1vOHGQB5cBXmMW1FsSB    4\n",
       "tJ6JImQB5cBXmMW1mnrP    4\n",
       "7FzeHGQB5cBXmMW1M1VQ    4\n",
       "Name: EVENT_ID, dtype: Int64"
      ]
     },
     "execution_count": 47,
     "metadata": {},
     "output_type": "execute_result"
    }
   ],
   "source": [
    "# Check on the EVENT_ID distinct value counts, we see there are some duplicates\n",
    "event_id_df = data_df['EVENT_ID'].value_counts()\n",
    "event_id_df.head(10)"
   ]
  },
  {
   "cell_type": "code",
   "execution_count": 49,
   "id": "8f31b45f-60e3-4134-9b02-64fe5d58bad6",
   "metadata": {},
   "outputs": [
    {
     "data": {
      "image/png": "[encoded data removed]",
      "text/plain": [
       "<Figure size 1500x500 with 1 Axes>"
      ]
     },
     "metadata": {},
     "output_type": "display_data"
    }
   ],
   "source": [
    "# Most event ids are not duplicated\n",
    "fig, ax = plt.subplots(figsize=(15, 5))\n",
    "_ = plt.hist(event_id_df, bins=100)"
   ]
  },
  {
   "cell_type": "code",
   "execution_count": 57,
   "id": "1118cf17-bf24-4b6a-bafd-d2814d05637a",
   "metadata": {},
   "outputs": [
    {
     "data": {
      "image/png": "[encoded data removed]",
      "text/plain": [
       "<Figure size 1500x500 with 1 Axes>"
      ]
     },
     "metadata": {},
     "output_type": "display_data"
    }
   ],
   "source": [
    "# In the log scale we see some duplication, yet the event id values are\n",
    "# expected to be unique but as they seem to be constructed hashes values\n",
    "fig, ax = plt.subplots(figsize=(15, 5))\n",
    "_ = plt.hist(event_id_df, log=True, bins=100)"
   ]
  },
  {
   "cell_type": "code",
   "execution_count": 56,
   "id": "1be595d1-a9e7-4841-a901-2e8a83113970",
   "metadata": {},
   "outputs": [
    {
     "name": "stdout",
     "output_type": "stream",
     "text": [
      "There are 51512/57666 events with unique event ids\n",
      "There are 2898/54410 repeating event ids\n"
     ]
    }
   ],
   "source": [
    "# The following percent of event ids are not unique\n",
    "u_evt_id = np.sum(event_id_df == 1)\n",
    "print(f'There are {u_evt_id}/{len(data_df)} events with unique event ids')\n",
    "d_evt_id = np.sum(event_id_df > 1)\n",
    "print(f'There are {d_evt_id}/{len(event_id_df)} repeating event ids')"
   ]
  },
  {
   "cell_type": "code",
   "execution_count": null,
   "id": "270a395f-b419-48d4-a82a-b8dbf0b24fff",
   "metadata": {},
   "outputs": [],
   "source": [
    "# EVENT_ID column conclusion:\n",
    "#    Is not useful for the attack detection as it is supposed\n",
    "#    to be assigned uniquely for each individual event.\n",
    "#---------------------------------------------------------"
   ]
  }
 ],
 "metadata": {
  "kernelspec": {
   "display_name": "tfm",
   "language": "python",
   "name": "tfm"
  },
  "language_info": {
   "codemirror_mode": {
    "name": "ipython",
    "version": 3
   },
   "file_extension": ".py",
   "mimetype": "text/x-python",
   "name": "python",
   "nbconvert_exporter": "python",
   "pygments_lexer": "ipython3",
   "version": "3.8.13"
  }
 },
 "nbformat": 4,
 "nbformat_minor": 5
}
