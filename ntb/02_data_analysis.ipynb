{
 "cells": [
  {
   "cell_type": "code",
   "execution_count": 1,
   "id": "cf248be7-ef24-4985-8c17-351b87cd1c3a",
   "metadata": {},
   "outputs": [],
   "source": [
    "import numpy as np\n",
    "import pandas as pd\n",
    "import sklearn as sk\n",
    "import matplotlib.pyplot as plt"
   ]
  },
  {
   "cell_type": "code",
   "execution_count": 2,
   "id": "9bf638df-a0d3-4158-9ad4-87189490be85",
   "metadata": {},
   "outputs": [],
   "source": [
    "# Load the provided test data\n",
    "data_df = pd.read_csv('../data/part_10_wrangled.csv')"
   ]
  },
  {
   "cell_type": "code",
   "execution_count": 3,
   "id": "13d8acbc-4c43-4b3d-9500-c2ab3ceb34f0",
   "metadata": {},
   "outputs": [
    {
     "data": {
      "text/plain": [
       "EVENT_ID                     string\n",
       "CLIENT_IP                    string\n",
       "CLIENT_USERAGENT             string\n",
       "IS_USERAGENT_VALID          boolean\n",
       "REQUEST_SIZE                  Int64\n",
       "RESPONSE_CODE                 Int64\n",
       "MATCHED_VARIABLE_SRC         string\n",
       "MATCHED_VARIABLE_SRC_SEC     string\n",
       "MATCHED_VARIABLE_NAME        string\n",
       "MATCHED_VARIABLE_VALUE       string\n",
       "dtype: object"
      ]
     },
     "execution_count": 3,
     "metadata": {},
     "output_type": "execute_result"
    }
   ],
   "source": [
    "# Infer the best data types\n",
    "data_df = data_df.convert_dtypes()\n",
    "# Check on the column types\n",
    "data_df.dtypes"
   ]
  },
  {
   "cell_type": "code",
   "execution_count": 4,
   "id": "d477deb4-3e13-4b3d-8caa-3fb368f9be1d",
   "metadata": {},
   "outputs": [],
   "source": [
    "# Initialize the two dimensional numpy array to be used\n",
    "X = np.empty(shape=(len(data_df),0))"
   ]
  },
  {
   "cell_type": "code",
   "execution_count": 5,
   "id": "d9b45c5e-8447-47d1-92fb-78354cb66a8b",
   "metadata": {},
   "outputs": [],
   "source": [
    "# Register the feature\n",
    "input_features = []\n",
    "def register_features(name, data):\n",
    "    global input_features\n",
    "    number = data.shape[1]\n",
    "    for idx in range(number):\n",
    "        input_features.append(f'{name}_{idx}' if number > 1 else name)"
   ]
  },
  {
   "cell_type": "code",
   "execution_count": 6,
   "id": "e70f850e-b9cf-4508-a9fb-43e85645e0f8",
   "metadata": {},
   "outputs": [],
   "source": [
    "# Define the feature extraction common wrapper method\n",
    "def extract_column_features(data_df, data_extractor, col_name):\n",
    "    global X\n",
    "    col_data = data_extractor(data_df[col_name])\n",
    "    X = np.append(X, col_data, axis=1)\n",
    "    print(f'The resulting X shape is: {X.shape}')\n",
    "\n",
    "    # Register feature names\n",
    "    register_features(col_name, col_data)"
   ]
  },
  {
   "cell_type": "code",
   "execution_count": 7,
   "id": "d46a81f6-8a05-407e-a42f-5d80ddb9194d",
   "metadata": {},
   "outputs": [
    {
     "name": "stdout",
     "output_type": "stream",
     "text": [
      "The resulting X shape is: (57729, 8)\n"
     ]
    }
   ],
   "source": [
    "# Convert CLIENT_IP into 8 distinct IP int value feature columns\n",
    "ip_col_data_extractor = lambda col_data: np.stack(col_data.apply(lambda val: np.array([int(entry, 16) for entry in val.split(':')])).values)\n",
    "extract_column_features(data_df, ip_col_data_extractor, 'CLIENT_IP')"
   ]
  },
  {
   "cell_type": "code",
   "execution_count": 8,
   "id": "188ea54b-f0e6-4514-840c-0c6628e33073",
   "metadata": {},
   "outputs": [
    {
     "name": "stdout",
     "output_type": "stream",
     "text": [
      "The resulting X shape is: (57729, 9)\n"
     ]
    }
   ],
   "source": [
    "# Add the REQUEST_SIZE\n",
    "rs_col_data_extractor = lambda col_data: np.reshape(col_data.values, (-1, 1))\n",
    "extract_column_features(data_df, rs_col_data_extractor, 'REQUEST_SIZE')"
   ]
  },
  {
   "cell_type": "code",
   "execution_count": 9,
   "id": "a2a31622-4de2-499d-b423-384f0e1ead82",
   "metadata": {},
   "outputs": [
    {
     "name": "stdout",
     "output_type": "stream",
     "text": [
      "The resulting X shape is: (57729, 10)\n"
     ]
    }
   ],
   "source": [
    "# Add the RESPONSE_CODE\n",
    "rc_col_data_extractor = lambda col_data: np.reshape(col_data.values, (-1, 1))\n",
    "extract_column_features(data_df, rc_col_data_extractor, 'RESPONSE_CODE')"
   ]
  },
  {
   "cell_type": "code",
   "execution_count": 10,
   "id": "e39c8436-eb7b-437a-bb90-c7dee7ab3a9e",
   "metadata": {},
   "outputs": [],
   "source": [
    "# TODO: Encode labels from MATCHED_VARIABLE_SRC and MATCHED_VARIABLE_SRC_SEC"
   ]
  },
  {
   "cell_type": "code",
   "execution_count": 11,
   "id": "cbeb4d5a-5abd-4484-ab66-ad0df38fdbfd",
   "metadata": {},
   "outputs": [],
   "source": [
    "# TODO: Encode variable names from MATCHED_VARIABLE_NAME"
   ]
  },
  {
   "cell_type": "code",
   "execution_count": 12,
   "id": "a9cfe68d-3b41-4a8b-a00a-df608a3a1dc2",
   "metadata": {},
   "outputs": [],
   "source": [
    "# TODO: Encode values from MATCHED_VARIABLE_VALUE"
   ]
  },
  {
   "cell_type": "code",
   "execution_count": 13,
   "id": "a9f94fc5-8b37-4a2d-b3f9-8f7cf3a1f97d",
   "metadata": {},
   "outputs": [],
   "source": [
    "# TODO: Encode values from CLIENT_USERAGENT"
   ]
  },
  {
   "cell_type": "code",
   "execution_count": 14,
   "id": "6b18408f-07b6-4bbf-a96a-bb864caa4c56",
   "metadata": {},
   "outputs": [
    {
     "name": "stdout",
     "output_type": "stream",
     "text": [
      "The resulting X shape is: (57729, 11)\n"
     ]
    }
   ],
   "source": [
    "# Convert IS_USERAGENT_VALID into integers and add to X\n",
    "iuv_col_data_extractor = lambda col_data: np.reshape(col_data.astype('int').values, (-1, 1))\n",
    "extract_column_features(data_df, iuv_col_data_extractor, 'IS_USERAGENT_VALID')"
   ]
  },
  {
   "cell_type": "code",
   "execution_count": 15,
   "id": "e3296642-48fe-45ca-8454-c31ade1e646c",
   "metadata": {},
   "outputs": [],
   "source": [
    "from sklearn import preprocessing\n",
    "\n",
    "# Normalize the data\n",
    "scaler = preprocessing.StandardScaler().fit(X)\n",
    "X_norm = scaler.transform(X)"
   ]
  },
  {
   "cell_type": "code",
   "execution_count": 16,
   "id": "1c729ef4-3ad6-441b-b39f-a394588d0bb1",
   "metadata": {},
   "outputs": [
    {
     "name": "stdout",
     "output_type": "stream",
     "text": [
      "The variance explained:\n",
      "[0.26657768 0.11803594 0.11550613 0.09063994 0.08922088 0.08316607\n",
      " 0.07238139 0.06252017 0.04344444 0.03274857 0.02575877]\n",
      "The variance explained:\n",
      "['pca0' 'pca1' 'pca2' 'pca3' 'pca4' 'pca5' 'pca6' 'pca7' 'pca8' 'pca9'\n",
      " 'pca10']\n",
      "The initial X shape: (57729, 11)\n",
      "The X shape after PCA: (57729, 11)\n"
     ]
    }
   ],
   "source": [
    "from sklearn import decomposition\n",
    "\n",
    "# Run PCA analysis on the provided data keep the features to explain 99% of the data variance\n",
    "pca = decomposition.PCA(n_components=0.99)\n",
    "pca.fit(X_norm)\n",
    "print(f'The variance explained:\\n{pca.explained_variance_ratio_}')\n",
    "print(f'The variance explained:\\n{pca.get_feature_names_out(input_features)}')\n",
    "\n",
    "print(f'The initial X shape: {X.shape}')\n",
    "X_norm_pca = pca.transform(X_norm)\n",
    "print(f'The X shape after PCA: {X.shape}')"
   ]
  },
  {
   "cell_type": "code",
   "execution_count": 17,
   "id": "ac37dc40-6a21-4eb6-b941-f727a7e69234",
   "metadata": {},
   "outputs": [],
   "source": [
    "# TODO: Apply DBSCAN for clustering of the provided data (tune hyperparameters to find the optimal clusters)"
   ]
  },
  {
   "cell_type": "code",
   "execution_count": 18,
   "id": "19f869e3-1da0-4c8e-bc78-63a5fb6230e5",
   "metadata": {},
   "outputs": [],
   "source": [
    "# TODO: For each cluster compute the central point and the radius"
   ]
  },
  {
   "cell_type": "code",
   "execution_count": 19,
   "id": "2aa831be-39de-4cfc-8596-ecfc0226f5e9",
   "metadata": {},
   "outputs": [],
   "source": [
    "# TODO: Store the trained models (TfidfVectorizer, PCA and etc) along with the Classifier information: Class Id, Central point, Radius"
   ]
  }
 ],
 "metadata": {
  "kernelspec": {
   "display_name": "tfm",
   "language": "python",
   "name": "tfm"
  },
  "language_info": {
   "codemirror_mode": {
    "name": "ipython",
    "version": 3
   },
   "file_extension": ".py",
   "mimetype": "text/x-python",
   "name": "python",
   "nbconvert_exporter": "python",
   "pygments_lexer": "ipython3",
   "version": "3.8.13"
  }
 },
 "nbformat": 4,
 "nbformat_minor": 5
}
