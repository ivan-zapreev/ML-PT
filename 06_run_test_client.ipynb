{
 "cells": [
  {
   "cell_type": "code",
   "execution_count": 1,
   "id": "12b3a342-8eed-40ef-9eb7-5480d13f2a1b",
   "metadata": {},
   "outputs": [
    {
     "data": {
      "text/plain": [
       "'/Users/izapreev/Projects/ML-PT'"
      ]
     },
     "execution_count": 1,
     "metadata": {},
     "output_type": "execute_result"
    }
   ],
   "source": [
    "import os\n",
    "os.getcwd() "
   ]
  },
  {
   "cell_type": "code",
   "execution_count": 2,
   "id": "0e512a50-9dd8-4a14-ab6a-caeb4b0503f5",
   "metadata": {},
   "outputs": [],
   "source": [
    "# Make sure the source code auto reloads into the kernel\n",
    "%load_ext autoreload\n",
    "%autoreload 2"
   ]
  },
  {
   "cell_type": "code",
   "execution_count": 3,
   "id": "186140af-dbde-4d11-93ee-916dc676da23",
   "metadata": {},
   "outputs": [],
   "source": [
    "import numpy as np\n",
    "import pandas as pd\n",
    "\n",
    "from src.utils.logger import logger"
   ]
  },
  {
   "cell_type": "code",
   "execution_count": 4,
   "id": "6c317800-d771-4d11-81cd-f472521578d8",
   "metadata": {},
   "outputs": [],
   "source": [
    "# Load the provided test data\n",
    "data_folder = os.path.join('.', 'data')\n",
    "csv_file_name = os.path.join(data_folder, 'part_10_raw.csv')\n",
    "data_df = pd.read_csv(csv_file_name)\n",
    "\n",
    "# Drop duplicate rows right away\n",
    "data_df.drop_duplicates(inplace=True)"
   ]
  },
  {
   "cell_type": "code",
   "execution_count": 5,
   "id": "3bc8ac4f-c043-4fa7-a2b4-daae069994df",
   "metadata": {},
   "outputs": [
    {
     "name": "stderr",
     "output_type": "stream",
     "text": [
      "18:21:23 INFO (file_utils:31): Loading compressed numpy z file from: ./data/y.npz\n",
      "18:21:23 INFO (file_utils:34): File loading and data extraction are done!\n"
     ]
    }
   ],
   "source": [
    "from src.utils.file_utils import load_numpy_zc\n",
    "\n",
    "# Load the classes file for further use\n",
    "file_name = os.path.join(data_folder, 'y.npz')\n",
    "y, = load_numpy_zc(file_name, ['y'])"
   ]
  },
  {
   "cell_type": "code",
   "execution_count": 6,
   "id": "60d54389-0e1f-4991-ac70-557943d22083",
   "metadata": {},
   "outputs": [
    {
     "name": "stderr",
     "output_type": "stream",
     "text": [
      "18:21:23 INFO (3307725052:7): Number of raw events: 57833 == number of classified events: 57833\n"
     ]
    }
   ],
   "source": [
    "# Check that the number of events and classified values is the same\n",
    "num_raw = len(data_df)\n",
    "num_classified = y.shape[0]\n",
    "if num_raw != num_classified:\n",
    "    logger.error(f'Number of raw events: {num_raw} != number of classified events: {num_classified}')\n",
    "else:\n",
    "    logger.info(f'Number of raw events: {num_raw} == number of classified events: {num_classified}')"
   ]
  },
  {
   "cell_type": "code",
   "execution_count": 7,
   "id": "e858b935-e483-4d41-9d6b-29e877112ad5",
   "metadata": {},
   "outputs": [],
   "source": [
    "import json\n",
    "\n",
    "# Prepare the request data\n",
    "req_data = [ {'data' : json.dumps(event_data)} for event_data in data_df.to_dict('records') ]"
   ]
  },
  {
   "cell_type": "code",
   "execution_count": 8,
   "id": "0521c88b-acb2-400d-afb3-448e46f591ff",
   "metadata": {},
   "outputs": [],
   "source": [
    "import requests\n",
    "\n",
    "url = \"http://127.0.0.1:8080/predict\"\n",
    "resp_data = requests.post(url, json = req_data)"
   ]
  },
  {
   "cell_type": "code",
   "execution_count": 9,
   "id": "db376ae6-6715-430d-a55a-59f9d1f002f7",
   "metadata": {},
   "outputs": [],
   "source": [
    "# Obtain the json response data\n",
    "json_resp = resp_data.json()"
   ]
  },
  {
   "cell_type": "code",
   "execution_count": 10,
   "id": "4408e6e8-52c7-4fb2-99f6-151d5b6cd3cb",
   "metadata": {},
   "outputs": [],
   "source": [
    "# Get the event predictions\n",
    "y_pred = np.array([event_data['LABEL_PRED'] for event_data in json_resp])"
   ]
  },
  {
   "cell_type": "code",
   "execution_count": 11,
   "id": "1968c3b8-74ec-4ca9-bc21-983b29bd9359",
   "metadata": {},
   "outputs": [
    {
     "name": "stderr",
     "output_type": "stream",
     "text": [
      "18:21:30 INFO (models_try_out:76): \"Classifier\" model, F1-score: 0.9999, Accuracy (TP+TN): 0.9999, Precision (FP): 0.9999, Recall (FN): 0.9999\n"
     ]
    }
   ],
   "source": [
    "from src.model.classifier.models_try_out import report_model_metrics\n",
    "\n",
    "report_model_metrics(y, y_pred, 'Classifier')"
   ]
  }
 ],
 "metadata": {
  "kernelspec": {
   "display_name": "tfm",
   "language": "python",
   "name": "tfm"
  },
  "language_info": {
   "codemirror_mode": {
    "name": "ipython",
    "version": 3
   },
   "file_extension": ".py",
   "mimetype": "text/x-python",
   "name": "python",
   "nbconvert_exporter": "python",
   "pygments_lexer": "ipython3",
   "version": "3.8.13"
  }
 },
 "nbformat": 4,
 "nbformat_minor": 5
}
