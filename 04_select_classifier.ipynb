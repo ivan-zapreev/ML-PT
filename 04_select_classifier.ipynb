{
 "cells": [
  {
   "cell_type": "code",
   "execution_count": 1,
   "id": "0ab6213e-8525-4d63-b853-1f3a209a56a7",
   "metadata": {},
   "outputs": [
    {
     "data": {
      "text/plain": [
       "'/Users/izapreev/Projects/ML-PT'"
      ]
     },
     "execution_count": 1,
     "metadata": {},
     "output_type": "execute_result"
    }
   ],
   "source": [
    "import os\n",
    "os.getcwd() "
   ]
  },
  {
   "cell_type": "code",
   "execution_count": 2,
   "id": "f6f7db3f-4734-46b9-bfc9-d87515b83732",
   "metadata": {},
   "outputs": [],
   "source": [
    "# Make sure the source code auto reloads into the kernel\n",
    "%load_ext autoreload\n",
    "%autoreload 2"
   ]
  },
  {
   "cell_type": "code",
   "execution_count": 3,
   "id": "7547c6a1-9cc1-4154-83e8-b998289173df",
   "metadata": {},
   "outputs": [],
   "source": [
    "from src.utils.logger import logger"
   ]
  },
  {
   "cell_type": "code",
   "execution_count": 4,
   "id": "d3c891e0-06f9-4a83-ba83-e08e689047c9",
   "metadata": {},
   "outputs": [
    {
     "name": "stderr",
     "output_type": "stream",
     "text": [
      "15:56:55 INFO (file_utils:31): Loading compressed numpy z file from: ./data/X.npz\n",
      "15:56:55 INFO (file_utils:34): File loading and data extraction are done!\n"
     ]
    }
   ],
   "source": [
    "from src.utils.file_utils import load_numpy_zc\n",
    "\n",
    "# Load the features file for further use\n",
    "file_name = os.path.join('.', 'data', 'X.npz')\n",
    "X, = load_numpy_zc(file_name, ['X'])"
   ]
  },
  {
   "cell_type": "code",
   "execution_count": 5,
   "id": "d741e8dd-8a23-4a06-90e1-047fec2e34b9",
   "metadata": {},
   "outputs": [
    {
     "name": "stderr",
     "output_type": "stream",
     "text": [
      "15:56:55 INFO (file_utils:31): Loading compressed numpy z file from: ./data/y.npz\n",
      "15:56:55 INFO (file_utils:34): File loading and data extraction are done!\n"
     ]
    }
   ],
   "source": [
    "# Load the classes file for further use\n",
    "file_name = os.path.join('.', 'data', 'y.npz')\n",
    "y, = load_numpy_zc(file_name, ['y'])"
   ]
  },
  {
   "cell_type": "code",
   "execution_count": 6,
   "id": "970138ae-6f91-4e64-a517-b64e6a801c3d",
   "metadata": {},
   "outputs": [],
   "source": [
    "# Lift up the label value by 1 to make sure there are no negative labels, some models do not like those\n",
    "y_shifted = y + 1"
   ]
  },
  {
   "cell_type": "code",
   "execution_count": 7,
   "id": "7f0fdf80-b542-4220-adb2-fc0055ac193c",
   "metadata": {},
   "outputs": [],
   "source": [
    "from sklearn.preprocessing import MinMaxScaler\n",
    "\n",
    "# Re-scale the features to [0, 1] range as some models do not like negative X values\n",
    "mm_scaler = MinMaxScaler().fit(X)\n",
    "X_scaled = mm_scaler.transform(X)"
   ]
  },
  {
   "cell_type": "code",
   "execution_count": 8,
   "id": "a2583e43-35d9-4267-89a3-db4b869ab185",
   "metadata": {},
   "outputs": [
    {
     "name": "stderr",
     "output_type": "stream",
     "text": [
      "15:57:11 INFO (models_try_out:131): Going to use k-fold cross-validation with n_splits: 10, n_repeats: 3, random_state: 1\n"
     ]
    },
    {
     "data": {
      "application/vnd.jupyter.widget-view+json": {
       "model_id": "e405c029fcbc4c1880d4bc72fb73cdab",
       "version_major": 2,
       "version_minor": 0
      },
      "text/plain": [
       "Trying out classifiers:   0%|          | 0/13 [00:00<?, ?it/s]"
      ]
     },
     "metadata": {},
     "output_type": "display_data"
    },
    {
     "data": {
      "application/vnd.jupyter.widget-view+json": {
       "model_id": "6d32b7a91bf847d5ac88d0d2181bb8ad",
       "version_major": 2,
       "version_minor": 0
      },
      "text/plain": [
       "\"Gaussian NB Classifier\" - repeated k-fold cross-validation: 0it [00:00, ?it/s]"
      ]
     },
     "metadata": {},
     "output_type": "display_data"
    },
    {
     "name": "stderr",
     "output_type": "stream",
     "text": [
      "15:57:12 INFO (models_try_out:125): The \"Gaussian NB Classifier\" model f1-score: 0.8011, accuracy: 0.7848, precision: 0.8586, recall: 0.7848, time: 0.0207 sec.\n"
     ]
    },
    {
     "data": {
      "application/vnd.jupyter.widget-view+json": {
       "model_id": "51290e3514b24cd2884f05b4a2131871",
       "version_major": 2,
       "version_minor": 0
      },
      "text/plain": [
       "\"Bernoulli NB Classifier\" - repeated k-fold cross-validation: 0it [00:00, ?it/s]"
      ]
     },
     "metadata": {},
     "output_type": "display_data"
    },
    {
     "name": "stderr",
     "output_type": "stream",
     "text": [
      "15:57:13 INFO (models_try_out:125): The \"Bernoulli NB Classifier\" model f1-score: 0.1195, accuracy: 0.2753, precision: 0.0768, recall: 0.2753, time: 0.027 sec.\n"
     ]
    },
    {
     "data": {
      "application/vnd.jupyter.widget-view+json": {
       "model_id": "d97d951286954954ace4571c7ad40719",
       "version_major": 2,
       "version_minor": 0
      },
      "text/plain": [
       "\"Multinomial NB Classifier\" - repeated k-fold cross-validation: 0it [00:00, ?it/s]"
      ]
     },
     "metadata": {},
     "output_type": "display_data"
    },
    {
     "name": "stderr",
     "output_type": "stream",
     "text": [
      "15:57:14 INFO (models_try_out:125): The \"Multinomial NB Classifier\" model f1-score: 0.3076, accuracy: 0.4598, precision: 0.2437, recall: 0.4598, time: 0.026 sec.\n"
     ]
    },
    {
     "data": {
      "application/vnd.jupyter.widget-view+json": {
       "model_id": "8d148d0bd1a347678c9285ee7c22b0d1",
       "version_major": 2,
       "version_minor": 0
      },
      "text/plain": [
       "\"Logistic Regression\" - repeated k-fold cross-validation: 0it [00:00, ?it/s]"
      ]
     },
     "metadata": {},
     "output_type": "display_data"
    },
    {
     "name": "stderr",
     "output_type": "stream",
     "text": [
      "16:07:03 INFO (models_try_out:125): The \"Logistic Regression\" model f1-score: 0.7432, accuracy: 0.8128, precision: 0.717, recall: 0.8128, time: 19.632 sec.\n"
     ]
    },
    {
     "data": {
      "application/vnd.jupyter.widget-view+json": {
       "model_id": "0d4cbbc0b9494bb5be4dc7bf594653ed",
       "version_major": 2,
       "version_minor": 0
      },
      "text/plain": [
       "\"Random Forest Classifier\" - repeated k-fold cross-validation: 0it [00:00, ?it/s]"
      ]
     },
     "metadata": {},
     "output_type": "display_data"
    },
    {
     "name": "stderr",
     "output_type": "stream",
     "text": [
      "16:09:27 INFO (models_try_out:125): The \"Random Forest Classifier\" model f1-score: 0.9929, accuracy: 0.9932, precision: 0.9932, recall: 0.9932, time: 4.7953 sec.\n"
     ]
    },
    {
     "data": {
      "application/vnd.jupyter.widget-view+json": {
       "model_id": "253aa7aad33c46ee9ca5493465785547",
       "version_major": 2,
       "version_minor": 0
      },
      "text/plain": [
       "\"Ada Boost Classifier\" - repeated k-fold cross-validation: 0it [00:00, ?it/s]"
      ]
     },
     "metadata": {},
     "output_type": "display_data"
    },
    {
     "name": "stderr",
     "output_type": "stream",
     "text": [
      "16:11:17 INFO (models_try_out:125): The \"Ada Boost Classifier\" model f1-score: 0.3392, accuracy: 0.4864, precision: 0.2792, recall: 0.4864, time: 3.6447 sec.\n"
     ]
    },
    {
     "data": {
      "application/vnd.jupyter.widget-view+json": {
       "model_id": "8fe49413f13b4c1fbe40343b3b87e18c",
       "version_major": 2,
       "version_minor": 0
      },
      "text/plain": [
       "\"XGB Classifier\" - repeated k-fold cross-validation: 0it [00:00, ?it/s]"
      ]
     },
     "metadata": {},
     "output_type": "display_data"
    },
    {
     "name": "stderr",
     "output_type": "stream",
     "text": [
      "16:27:09 INFO (models_try_out:125): The \"XGB Classifier\" model f1-score: 0.9923, accuracy: 0.9926, precision: 0.9925, recall: 0.9926, time: 31.727 sec.\n"
     ]
    },
    {
     "data": {
      "application/vnd.jupyter.widget-view+json": {
       "model_id": "635b5a7bf2a14fc29435fa4591c4b1ad",
       "version_major": 2,
       "version_minor": 0
      },
      "text/plain": [
       "\"KNeighbors Classifier\" - repeated k-fold cross-validation: 0it [00:00, ?it/s]"
      ]
     },
     "metadata": {},
     "output_type": "display_data"
    },
    {
     "name": "stderr",
     "output_type": "stream",
     "text": [
      "16:27:13 INFO (models_try_out:125): The \"KNeighbors Classifier\" model f1-score: 0.9904, accuracy: 0.9908, precision: 0.991, recall: 0.9908, time: 0.1093 sec.\n"
     ]
    },
    {
     "data": {
      "application/vnd.jupyter.widget-view+json": {
       "model_id": "61d2203d1cc04e959db4e0f2c72c259b",
       "version_major": 2,
       "version_minor": 0
      },
      "text/plain": [
       "\"Extra Trees Classifier\" - repeated k-fold cross-validation: 0it [00:00, ?it/s]"
      ]
     },
     "metadata": {},
     "output_type": "display_data"
    },
    {
     "name": "stderr",
     "output_type": "stream",
     "text": [
      "16:27:40 INFO (models_try_out:125): The \"Extra Trees Classifier\" model f1-score: 0.992, accuracy: 0.9923, precision: 0.9923, recall: 0.9923, time: 0.923 sec.\n"
     ]
    },
    {
     "data": {
      "application/vnd.jupyter.widget-view+json": {
       "model_id": "1130a634fe32433a8fe09a5aac8f869b",
       "version_major": 2,
       "version_minor": 0
      },
      "text/plain": [
       "\"Gradient Boosting Classifier\" - repeated k-fold cross-validation: 0it [00:00, ?it/s]"
      ]
     },
     "metadata": {},
     "output_type": "display_data"
    },
    {
     "name": "stderr",
     "output_type": "stream",
     "text": [
      "19:18:00 INFO (models_try_out:125): The \"Gradient Boosting Classifier\" model f1-score: 0.8799, accuracy: 0.8725, precision: 0.9037, recall: 0.8725, time: 340.6417 sec.\n"
     ]
    },
    {
     "data": {
      "application/vnd.jupyter.widget-view+json": {
       "model_id": "75c702ea67f4488aa9fa1eb7451d08df",
       "version_major": 2,
       "version_minor": 0
      },
      "text/plain": [
       "\"SVC Classifier\" - repeated k-fold cross-validation: 0it [00:00, ?it/s]"
      ]
     },
     "metadata": {},
     "output_type": "display_data"
    },
    {
     "name": "stderr",
     "output_type": "stream",
     "text": [
      "19:34:02 INFO (models_try_out:125): The \"SVC Classifier\" model f1-score: 0.5853, accuracy: 0.673, precision: 0.542, recall: 0.673, time: 32.0617 sec.\n"
     ]
    },
    {
     "data": {
      "application/vnd.jupyter.widget-view+json": {
       "model_id": "8072016a85614776b93821a23415768d",
       "version_major": 2,
       "version_minor": 0
      },
      "text/plain": [
       "\"Bagging Classifier\" - repeated k-fold cross-validation: 0it [00:00, ?it/s]"
      ]
     },
     "metadata": {},
     "output_type": "display_data"
    },
    {
     "name": "stderr",
     "output_type": "stream",
     "text": [
      "19:40:42 INFO (models_try_out:125): The \"Bagging Classifier\" model f1-score: 0.9931, accuracy: 0.9932, precision: 0.9933, recall: 0.9932, time: 13.332 sec.\n"
     ]
    },
    {
     "data": {
      "application/vnd.jupyter.widget-view+json": {
       "model_id": "5291d94c82304b73a4ee0a8964f0bc3e",
       "version_major": 2,
       "version_minor": 0
      },
      "text/plain": [
       "\"Decision Tree Classifier\" - repeated k-fold cross-validation: 0it [00:00, ?it/s]"
      ]
     },
     "metadata": {},
     "output_type": "display_data"
    },
    {
     "name": "stderr",
     "output_type": "stream",
     "text": [
      "19:40:52 INFO (models_try_out:125): The \"Decision Tree Classifier\" model f1-score: 0.9342, accuracy: 0.9436, precision: 0.9353, recall: 0.9436, time: 0.3103 sec.\n"
     ]
    }
   ],
   "source": [
    "from src.model.classifier.models_try_out import train_test_on_models\n",
    "\n",
    "# Train various available classigication models to choose the onses that perform best\n",
    "results = train_test_on_models(X_scaled, y_shifted)"
   ]
  },
  {
   "cell_type": "code",
   "execution_count": 9,
   "id": "0b65a117-1b1d-4ea7-8b00-2008bdb3d987",
   "metadata": {},
   "outputs": [
    {
     "name": "stderr",
     "output_type": "stream",
     "text": [
      "19:40:52 INFO (3242853190:5): Model: \"Bagging Classifier\", F1-score: 0.9931, Accuracy (TP+TN): 0.9932, Precision (FP): 0.9933, Recall (FN): 0.9932, Time: 13.332 sec.\n",
      "19:40:52 INFO (3242853190:5): Model: \"Random Forest Classifier\", F1-score: 0.9929, Accuracy (TP+TN): 0.9932, Precision (FP): 0.9932, Recall (FN): 0.9932, Time: 4.7953 sec.\n",
      "19:40:52 INFO (3242853190:5): Model: \"XGB Classifier\", F1-score: 0.9923, Accuracy (TP+TN): 0.9926, Precision (FP): 0.9925, Recall (FN): 0.9926, Time: 31.727 sec.\n",
      "19:40:52 INFO (3242853190:5): Model: \"Extra Trees Classifier\", F1-score: 0.992, Accuracy (TP+TN): 0.9923, Precision (FP): 0.9923, Recall (FN): 0.9923, Time: 0.923 sec.\n",
      "19:40:52 INFO (3242853190:5): Model: \"KNeighbors Classifier\", F1-score: 0.9904, Accuracy (TP+TN): 0.9908, Precision (FP): 0.991, Recall (FN): 0.9908, Time: 0.1093 sec.\n",
      "19:40:52 INFO (3242853190:5): Model: \"Decision Tree Classifier\", F1-score: 0.9342, Accuracy (TP+TN): 0.9436, Precision (FP): 0.9353, Recall (FN): 0.9436, Time: 0.3103 sec.\n",
      "19:40:52 INFO (3242853190:5): Model: \"Gradient Boosting Classifier\", F1-score: 0.8799, Accuracy (TP+TN): 0.8725, Precision (FP): 0.9037, Recall (FN): 0.8725, Time: 340.6417 sec.\n",
      "19:40:52 INFO (3242853190:5): Model: \"Gaussian NB Classifier\", F1-score: 0.8011, Accuracy (TP+TN): 0.7848, Precision (FP): 0.8586, Recall (FN): 0.7848, Time: 0.0207 sec.\n",
      "19:40:52 INFO (3242853190:5): Model: \"Logistic Regression\", F1-score: 0.7432, Accuracy (TP+TN): 0.8128, Precision (FP): 0.717, Recall (FN): 0.8128, Time: 19.632 sec.\n",
      "19:40:52 INFO (3242853190:5): Model: \"SVC Classifier\", F1-score: 0.5853, Accuracy (TP+TN): 0.673, Precision (FP): 0.542, Recall (FN): 0.673, Time: 32.0617 sec.\n",
      "19:40:52 INFO (3242853190:5): Model: \"Ada Boost Classifier\", F1-score: 0.3392, Accuracy (TP+TN): 0.4864, Precision (FP): 0.2792, Recall (FN): 0.4864, Time: 3.6447 sec.\n",
      "19:40:52 INFO (3242853190:5): Model: \"Multinomial NB Classifier\", F1-score: 0.3076, Accuracy (TP+TN): 0.4598, Precision (FP): 0.2437, Recall (FN): 0.4598, Time: 0.026 sec.\n",
      "19:40:52 INFO (3242853190:5): Model: \"Bernoulli NB Classifier\", F1-score: 0.1195, Accuracy (TP+TN): 0.2753, Precision (FP): 0.0768, Recall (FN): 0.2753, Time: 0.027 sec.\n"
     ]
    }
   ],
   "source": [
    "from src.model.classifier.models_try_out import round_val\n",
    "\n",
    "# Log the model's average fitness values in a sorted manner with f1 score leading\n",
    "for result in results:\n",
    "    logger.info(f'Model: \"{result[5]}\", F1-score: {round_val(result[0])}, Accuracy (TP+TN): {round_val(result[1])}, ' \\\n",
    "                f'Precision (FP): {round_val(result[2])}, Recall (FN): {round_val(result[3])}, Time: {round_val(result[4])} sec.')"
   ]
  },
  {
   "cell_type": "code",
   "execution_count": 10,
   "id": "e6235137-a4fd-46d8-8b34-96a9019b5806",
   "metadata": {},
   "outputs": [],
   "source": [
    "#############################################################################\n",
    "# Summary of observations:\n",
    "#     We have tried a number of classifiers with mostly default parameters\n",
    "#     to make an initial selection of the most suitable classifiers.\n",
    "#\n",
    "#     Observation 1: The main value to pay attention to is the F1 score as the combination of Precision and Recall\n",
    "#\n",
    "#     Observation 2: The provided values are computed as an average of 30 repeated k-fold cross-validation for each model\n",
    "#\n",
    "#     Observation 3: The clear best performing model, F1 score in combination with time spent is \"Random Forest Classifier\" \n",
    "#\n",
    "#     Observation 4: Training of the \"Random Forest Classifier\" is reasonable, abuot 4 seconds on average, some\n",
    "#                    classifier take much longer to tain see e.g. \"Gradient Boosting Classifier\"\n",
    "#\n",
    "# Conclusion:\n",
    "#     We need to use \"Random Forest Classifier\" perhaps with better tuned hyper parameters\n",
    "#        \n",
    "#############################################################################"
   ]
  }
 ],
 "metadata": {
  "kernelspec": {
   "display_name": "tfm",
   "language": "python",
   "name": "tfm"
  },
  "language_info": {
   "codemirror_mode": {
    "name": "ipython",
    "version": 3
   },
   "file_extension": ".py",
   "mimetype": "text/x-python",
   "name": "python",
   "nbconvert_exporter": "python",
   "pygments_lexer": "ipython3",
   "version": "3.8.13"
  }
 },
 "nbformat": 4,
 "nbformat_minor": 5
}
