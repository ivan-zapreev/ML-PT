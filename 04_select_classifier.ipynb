{
 "cells": [
  {
   "cell_type": "code",
   "execution_count": 1,
   "id": "0ab6213e-8525-4d63-b853-1f3a209a56a7",
   "metadata": {},
   "outputs": [
    {
     "data": {
      "text/plain": [
       "'/Users/izapreev/Projects/ML-PT'"
      ]
     },
     "execution_count": 1,
     "metadata": {},
     "output_type": "execute_result"
    }
   ],
   "source": [
    "import os\n",
    "os.getcwd() "
   ]
  },
  {
   "cell_type": "code",
   "execution_count": 2,
   "id": "f6f7db3f-4734-46b9-bfc9-d87515b83732",
   "metadata": {},
   "outputs": [],
   "source": [
    "# Make sure the source code auto reloads into the kernel\n",
    "%load_ext autoreload\n",
    "%autoreload 2"
   ]
  },
  {
   "cell_type": "code",
   "execution_count": 3,
   "id": "7547c6a1-9cc1-4154-83e8-b998289173df",
   "metadata": {},
   "outputs": [],
   "source": [
    "from src.utils.logger import logger"
   ]
  },
  {
   "cell_type": "code",
   "execution_count": 4,
   "id": "d3c891e0-06f9-4a83-ba83-e08e689047c9",
   "metadata": {},
   "outputs": [
    {
     "name": "stderr",
     "output_type": "stream",
     "text": [
      "18:51:48 INFO (file_utils:32): Loading compressed numpy z file from: ./data/X.npz\n",
      "18:51:48 INFO (file_utils:35): File loading and data extraction are done!\n"
     ]
    }
   ],
   "source": [
    "from src.utils.file_utils import load_numpy_zc\n",
    "\n",
    "# Load the features file for further use\n",
    "file_name = os.path.join('.', 'data', 'X.npz')\n",
    "X, = load_numpy_zc(file_name, ['X'])"
   ]
  },
  {
   "cell_type": "code",
   "execution_count": 5,
   "id": "d741e8dd-8a23-4a06-90e1-047fec2e34b9",
   "metadata": {},
   "outputs": [
    {
     "name": "stderr",
     "output_type": "stream",
     "text": [
      "18:51:48 INFO (file_utils:32): Loading compressed numpy z file from: ./data/y.npz\n",
      "18:51:48 INFO (file_utils:35): File loading and data extraction are done!\n"
     ]
    }
   ],
   "source": [
    "# Load the classes file for further use\n",
    "file_name = os.path.join('.', 'data', 'y.npz')\n",
    "y, = load_numpy_zc(file_name, ['y'])"
   ]
  },
  {
   "cell_type": "code",
   "execution_count": 6,
   "id": "970138ae-6f91-4e64-a517-b64e6a801c3d",
   "metadata": {},
   "outputs": [],
   "source": [
    "# Lift up the label value by 1 to make sure there are no negative labels, some models do not like those\n",
    "y_shifted = y + 1"
   ]
  },
  {
   "cell_type": "code",
   "execution_count": 7,
   "id": "7f0fdf80-b542-4220-adb2-fc0055ac193c",
   "metadata": {},
   "outputs": [],
   "source": [
    "from sklearn.preprocessing import MinMaxScaler\n",
    "\n",
    "# Re-scale the features to [0, 1] range as some models do not like negative X values\n",
    "mm_scaler = MinMaxScaler().fit(X)\n",
    "X_scaled = mm_scaler.transform(X)"
   ]
  },
  {
   "cell_type": "code",
   "execution_count": 8,
   "id": "a2583e43-35d9-4267-89a3-db4b869ab185",
   "metadata": {},
   "outputs": [
    {
     "name": "stderr",
     "output_type": "stream",
     "text": [
      "18:51:55 INFO (models_try_out:131): Going to use k-fold cross-validation with n_splits: 10, n_repeats: 3, random_state: 1\n"
     ]
    },
    {
     "data": {
      "application/vnd.jupyter.widget-view+json": {
       "model_id": "6bbbe96321e74387a9d9b8f56a1f8082",
       "version_major": 2,
       "version_minor": 0
      },
      "text/plain": [
       "Trying out classifiers:   0%|          | 0/13 [00:00<?, ?it/s]"
      ]
     },
     "metadata": {},
     "output_type": "display_data"
    },
    {
     "data": {
      "application/vnd.jupyter.widget-view+json": {
       "model_id": "7a48d13c52444c39ad403a6f2d835dfe",
       "version_major": 2,
       "version_minor": 0
      },
      "text/plain": [
       "\"Gaussian NB Classifier\" - repeated k-fold cross-validation: 0it [00:00, ?it/s]"
      ]
     },
     "metadata": {},
     "output_type": "display_data"
    },
    {
     "name": "stderr",
     "output_type": "stream",
     "text": [
      "18:51:55 INFO (models_try_out:125): The \"Gaussian NB Classifier\" model f1-score: 0.761, accuracy: 0.7418, precision: 0.829, recall: 0.7418, time: 0.02 sec.\n"
     ]
    },
    {
     "data": {
      "application/vnd.jupyter.widget-view+json": {
       "model_id": "673f16500d754595a3545926da7bc76f",
       "version_major": 2,
       "version_minor": 0
      },
      "text/plain": [
       "\"Bernoulli NB Classifier\" - repeated k-fold cross-validation: 0it [00:00, ?it/s]"
      ]
     },
     "metadata": {},
     "output_type": "display_data"
    },
    {
     "name": "stderr",
     "output_type": "stream",
     "text": [
      "18:51:56 INFO (models_try_out:125): The \"Bernoulli NB Classifier\" model f1-score: 0.1182, accuracy: 0.2744, precision: 0.0753, recall: 0.2744, time: 0.0237 sec.\n"
     ]
    },
    {
     "data": {
      "application/vnd.jupyter.widget-view+json": {
       "model_id": "78cfff82c33c40d293297adca2c22a8e",
       "version_major": 2,
       "version_minor": 0
      },
      "text/plain": [
       "\"Multinomial NB Classifier\" - repeated k-fold cross-validation: 0it [00:00, ?it/s]"
      ]
     },
     "metadata": {},
     "output_type": "display_data"
    },
    {
     "name": "stderr",
     "output_type": "stream",
     "text": [
      "18:51:57 INFO (models_try_out:125): The \"Multinomial NB Classifier\" model f1-score: 0.3645, accuracy: 0.5272, precision: 0.3012, recall: 0.5272, time: 0.0217 sec.\n"
     ]
    },
    {
     "data": {
      "application/vnd.jupyter.widget-view+json": {
       "model_id": "b876e120556d4ecd84712fc1db277e55",
       "version_major": 2,
       "version_minor": 0
      },
      "text/plain": [
       "\"Logistic Regression\" - repeated k-fold cross-validation: 0it [00:00, ?it/s]"
      ]
     },
     "metadata": {},
     "output_type": "display_data"
    },
    {
     "name": "stderr",
     "output_type": "stream",
     "text": [
      "19:00:11 INFO (models_try_out:125): The \"Logistic Regression\" model f1-score: 0.8251, accuracy: 0.8761, precision: 0.7988, recall: 0.8761, time: 16.4523 sec.\n"
     ]
    },
    {
     "data": {
      "application/vnd.jupyter.widget-view+json": {
       "model_id": "3f2330cc038d43cdb2bf72e68cc1e3a5",
       "version_major": 2,
       "version_minor": 0
      },
      "text/plain": [
       "\"Random Forest Classifier\" - repeated k-fold cross-validation: 0it [00:00, ?it/s]"
      ]
     },
     "metadata": {},
     "output_type": "display_data"
    },
    {
     "name": "stderr",
     "output_type": "stream",
     "text": [
      "19:02:15 INFO (models_try_out:125): The \"Random Forest Classifier\" model f1-score: 0.9941, accuracy: 0.9943, precision: 0.9943, recall: 0.9943, time: 4.1143 sec.\n"
     ]
    },
    {
     "data": {
      "application/vnd.jupyter.widget-view+json": {
       "model_id": "fe7ae17cf9564151a8cb82a3f2ad6317",
       "version_major": 2,
       "version_minor": 0
      },
      "text/plain": [
       "\"Ada Boost Classifier\" - repeated k-fold cross-validation: 0it [00:00, ?it/s]"
      ]
     },
     "metadata": {},
     "output_type": "display_data"
    },
    {
     "name": "stderr",
     "output_type": "stream",
     "text": [
      "19:03:44 INFO (models_try_out:125): The \"Ada Boost Classifier\" model f1-score: 0.2987, accuracy: 0.4246, precision: 0.3387, recall: 0.4246, time: 2.9713 sec.\n"
     ]
    },
    {
     "data": {
      "application/vnd.jupyter.widget-view+json": {
       "model_id": "421c6ecc745b4f139687a7100cfc45de",
       "version_major": 2,
       "version_minor": 0
      },
      "text/plain": [
       "\"XGB Classifier\" - repeated k-fold cross-validation: 0it [00:00, ?it/s]"
      ]
     },
     "metadata": {},
     "output_type": "display_data"
    },
    {
     "name": "stderr",
     "output_type": "stream",
     "text": [
      "19:11:49 INFO (models_try_out:125): The \"XGB Classifier\" model f1-score: 0.994, accuracy: 0.9942, precision: 0.9941, recall: 0.9942, time: 16.1567 sec.\n"
     ]
    },
    {
     "data": {
      "application/vnd.jupyter.widget-view+json": {
       "model_id": "bff28469fd884d19adbd829edc7685ff",
       "version_major": 2,
       "version_minor": 0
      },
      "text/plain": [
       "\"KNeighbors Classifier\" - repeated k-fold cross-validation: 0it [00:00, ?it/s]"
      ]
     },
     "metadata": {},
     "output_type": "display_data"
    },
    {
     "name": "stderr",
     "output_type": "stream",
     "text": [
      "19:11:53 INFO (models_try_out:125): The \"KNeighbors Classifier\" model f1-score: 0.9897, accuracy: 0.9903, precision: 0.9904, recall: 0.9903, time: 0.114 sec.\n"
     ]
    },
    {
     "data": {
      "application/vnd.jupyter.widget-view+json": {
       "model_id": "6dadbf5130ef4c0b81c7b8309bebbb01",
       "version_major": 2,
       "version_minor": 0
      },
      "text/plain": [
       "\"Extra Trees Classifier\" - repeated k-fold cross-validation: 0it [00:00, ?it/s]"
      ]
     },
     "metadata": {},
     "output_type": "display_data"
    },
    {
     "name": "stderr",
     "output_type": "stream",
     "text": [
      "19:12:19 INFO (models_try_out:125): The \"Extra Trees Classifier\" model f1-score: 0.9934, accuracy: 0.9937, precision: 0.9937, recall: 0.9937, time: 0.8567 sec.\n"
     ]
    },
    {
     "data": {
      "application/vnd.jupyter.widget-view+json": {
       "model_id": "6983272f118141c1aa57def538e6df83",
       "version_major": 2,
       "version_minor": 0
      },
      "text/plain": [
       "\"Gradient Boosting Classifier\" - repeated k-fold cross-validation: 0it [00:00, ?it/s]"
      ]
     },
     "metadata": {},
     "output_type": "display_data"
    },
    {
     "name": "stderr",
     "output_type": "stream",
     "text": [
      "20:58:07 INFO (models_try_out:125): The \"Gradient Boosting Classifier\" model f1-score: 0.5808, accuracy: 0.566, precision: 0.661, recall: 0.566, time: 211.5977 sec.\n"
     ]
    },
    {
     "data": {
      "application/vnd.jupyter.widget-view+json": {
       "model_id": "328c37a204254f41a7af7383e7f1f2db",
       "version_major": 2,
       "version_minor": 0
      },
      "text/plain": [
       "\"SVC Classifier\" - repeated k-fold cross-validation: 0it [00:00, ?it/s]"
      ]
     },
     "metadata": {},
     "output_type": "display_data"
    },
    {
     "name": "stderr",
     "output_type": "stream",
     "text": [
      "21:16:36 INFO (models_try_out:125): The \"SVC Classifier\" model f1-score: 0.6141, accuracy: 0.6791, precision: 0.5692, recall: 0.6791, time: 36.963 sec.\n"
     ]
    },
    {
     "data": {
      "application/vnd.jupyter.widget-view+json": {
       "model_id": "f8a93107cd5f44c5a9c7c6ccf47e26a4",
       "version_major": 2,
       "version_minor": 0
      },
      "text/plain": [
       "\"Bagging Classifier\" - repeated k-fold cross-validation: 0it [00:00, ?it/s]"
      ]
     },
     "metadata": {},
     "output_type": "display_data"
    },
    {
     "name": "stderr",
     "output_type": "stream",
     "text": [
      "21:22:56 INFO (models_try_out:125): The \"Bagging Classifier\" model f1-score: 0.994, accuracy: 0.9941, precision: 0.9942, recall: 0.9941, time: 12.6577 sec.\n"
     ]
    },
    {
     "data": {
      "application/vnd.jupyter.widget-view+json": {
       "model_id": "daa4161b31d94f9b9b5be73557a360e2",
       "version_major": 2,
       "version_minor": 0
      },
      "text/plain": [
       "\"Decision Tree Classifier\" - repeated k-fold cross-validation: 0it [00:00, ?it/s]"
      ]
     },
     "metadata": {},
     "output_type": "display_data"
    },
    {
     "name": "stderr",
     "output_type": "stream",
     "text": [
      "21:23:07 INFO (models_try_out:125): The \"Decision Tree Classifier\" model f1-score: 0.9724, accuracy: 0.9746, precision: 0.9717, recall: 0.9746, time: 0.3417 sec.\n"
     ]
    }
   ],
   "source": [
    "from src.model.classifier.models_try_out import train_test_on_models\n",
    "\n",
    "# Train various available classigication models to choose the onses that perform best\n",
    "results = train_test_on_models(X_scaled, y_shifted)"
   ]
  },
  {
   "cell_type": "code",
   "execution_count": 9,
   "id": "0b65a117-1b1d-4ea7-8b00-2008bdb3d987",
   "metadata": {},
   "outputs": [
    {
     "name": "stderr",
     "output_type": "stream",
     "text": [
      "21:23:07 INFO (3242853190:5): Model: \"Random Forest Classifier\", F1-score: 0.9941, Accuracy (TP+TN): 0.9943, Precision (FP): 0.9943, Recall (FN): 0.9943, Time: 4.1143 sec.\n",
      "21:23:07 INFO (3242853190:5): Model: \"Bagging Classifier\", F1-score: 0.994, Accuracy (TP+TN): 0.9941, Precision (FP): 0.9942, Recall (FN): 0.9941, Time: 12.6577 sec.\n",
      "21:23:07 INFO (3242853190:5): Model: \"XGB Classifier\", F1-score: 0.994, Accuracy (TP+TN): 0.9942, Precision (FP): 0.9941, Recall (FN): 0.9942, Time: 16.1567 sec.\n",
      "21:23:07 INFO (3242853190:5): Model: \"Extra Trees Classifier\", F1-score: 0.9934, Accuracy (TP+TN): 0.9937, Precision (FP): 0.9937, Recall (FN): 0.9937, Time: 0.8567 sec.\n",
      "21:23:07 INFO (3242853190:5): Model: \"KNeighbors Classifier\", F1-score: 0.9897, Accuracy (TP+TN): 0.9903, Precision (FP): 0.9904, Recall (FN): 0.9903, Time: 0.114 sec.\n",
      "21:23:07 INFO (3242853190:5): Model: \"Decision Tree Classifier\", F1-score: 0.9724, Accuracy (TP+TN): 0.9746, Precision (FP): 0.9717, Recall (FN): 0.9746, Time: 0.3417 sec.\n",
      "21:23:07 INFO (3242853190:5): Model: \"Logistic Regression\", F1-score: 0.8251, Accuracy (TP+TN): 0.8761, Precision (FP): 0.7988, Recall (FN): 0.8761, Time: 16.4523 sec.\n",
      "21:23:07 INFO (3242853190:5): Model: \"Gaussian NB Classifier\", F1-score: 0.761, Accuracy (TP+TN): 0.7418, Precision (FP): 0.829, Recall (FN): 0.7418, Time: 0.02 sec.\n",
      "21:23:07 INFO (3242853190:5): Model: \"SVC Classifier\", F1-score: 0.6141, Accuracy (TP+TN): 0.6791, Precision (FP): 0.5692, Recall (FN): 0.6791, Time: 36.963 sec.\n",
      "21:23:07 INFO (3242853190:5): Model: \"Gradient Boosting Classifier\", F1-score: 0.5808, Accuracy (TP+TN): 0.566, Precision (FP): 0.661, Recall (FN): 0.566, Time: 211.5977 sec.\n",
      "21:23:07 INFO (3242853190:5): Model: \"Multinomial NB Classifier\", F1-score: 0.3645, Accuracy (TP+TN): 0.5272, Precision (FP): 0.3012, Recall (FN): 0.5272, Time: 0.0217 sec.\n",
      "21:23:07 INFO (3242853190:5): Model: \"Ada Boost Classifier\", F1-score: 0.2987, Accuracy (TP+TN): 0.4246, Precision (FP): 0.3387, Recall (FN): 0.4246, Time: 2.9713 sec.\n",
      "21:23:07 INFO (3242853190:5): Model: \"Bernoulli NB Classifier\", F1-score: 0.1182, Accuracy (TP+TN): 0.2744, Precision (FP): 0.0753, Recall (FN): 0.2744, Time: 0.0237 sec.\n"
     ]
    }
   ],
   "source": [
    "from src.model.classifier.models_try_out import round_val\n",
    "\n",
    "# Log the model's average fitness values in a sorted manner with f1 score leading\n",
    "for result in results:\n",
    "    logger.info(f'Model: \"{result[5]}\", F1-score: {round_val(result[0])}, Accuracy (TP+TN): {round_val(result[1])}, ' \\\n",
    "                f'Precision (FP): {round_val(result[2])}, Recall (FN): {round_val(result[3])}, Time: {round_val(result[4])} sec.')"
   ]
  },
  {
   "cell_type": "code",
   "execution_count": 10,
   "id": "e6235137-a4fd-46d8-8b34-96a9019b5806",
   "metadata": {},
   "outputs": [],
   "source": [
    "#############################################################################\n",
    "# Summary of observations:\n",
    "#     We have tried a number of classifiers with mostly default parameters\n",
    "#     to make an initial selection of the most suitable classifiers.\n",
    "#\n",
    "#     Observation 1: The main value to pay attention to is the F1 score as the combination of Precision and Recall\n",
    "#\n",
    "#     Observation 2: The provided values are computed as an average of 30 repeated k-fold cross-validation for each model\n",
    "#\n",
    "#     Observation 3: The clear best berforming model is \"Random Forest Classifier\"\n",
    "#\n",
    "#     Observation 4: Training of the \"Random Forest Classifier\" is reasonable, abuot 4 seconds on average, some\n",
    "#                    classifier take much longer to tain see e.g. \"Gradient Boosting Classifier\"\n",
    "#\n",
    "# Conclusion:\n",
    "#     We need to use \"Random Forest Classifier\" perhaps with better tuned hyper parameters, although it is\n",
    "#        \n",
    "#############################################################################"
   ]
  },
  {
   "cell_type": "code",
   "execution_count": 11,
   "id": "edb97727-9644-4490-b2a6-56fc2d4214a0",
   "metadata": {},
   "outputs": [],
   "source": [
    "# TODO: Further explore the DNN possibility for a model, the initial model is primitive \n",
    "#       and results in very low recall values compared to the classifiers above, however\n",
    "#       it could be worthwhile exploring it further"
   ]
  },
  {
   "cell_type": "code",
   "execution_count": null,
   "id": "04a90aaf-8159-41c3-af03-947713ca5ae6",
   "metadata": {},
   "outputs": [],
   "source": [
    "from src.model.classifier.models_try_out import train_test_dnn_model\n",
    "\n",
    "# Train the model\n",
    "accuracy, precision, recall, time = train_test_dnn_model(X_scaled, y_shifted)"
   ]
  }
 ],
 "metadata": {
  "kernelspec": {
   "display_name": "tfm",
   "language": "python",
   "name": "tfm"
  },
  "language_info": {
   "codemirror_mode": {
    "name": "ipython",
    "version": 3
   },
   "file_extension": ".py",
   "mimetype": "text/x-python",
   "name": "python",
   "nbconvert_exporter": "python",
   "pygments_lexer": "ipython3",
   "version": "3.8.13"
  }
 },
 "nbformat": 4,
 "nbformat_minor": 5
}
