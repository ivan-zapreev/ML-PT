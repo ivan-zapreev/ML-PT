{
 "cells": [
  {
   "cell_type": "code",
   "execution_count": null,
   "id": "171af9a4-ccea-4f96-8bae-2ba37af671ca",
   "metadata": {},
   "outputs": [],
   "source": [
    "import os\n",
    "os.getcwd() "
   ]
  },
  {
   "cell_type": "code",
   "execution_count": null,
   "id": "b11d67dd-ca84-4bde-b859-200c81cb95a7",
   "metadata": {},
   "outputs": [],
   "source": [
    "# Make sure the source code auto reloads into the kernel\\n\n",
    "%load_ext autoreload\n",
    "%autoreload 2"
   ]
  },
  {
   "cell_type": "code",
   "execution_count": null,
   "id": "8dcb1f9e-bd4c-4027-9166-2b2ff2214643",
   "metadata": {},
   "outputs": [],
   "source": [
    "from src.utils.logger import logger"
   ]
  },
  {
   "cell_type": "code",
   "execution_count": null,
   "id": "6e3aaff0-4803-43aa-926d-94da771f04c7",
   "metadata": {},
   "outputs": [],
   "source": [
    "# TODO: Apply DBSCAN for clustering of the provided data (tune hyperparameters to find the optimal number of clusters)"
   ]
  },
  {
   "cell_type": "code",
   "execution_count": null,
   "id": "f03d739f-c0ae-4a43-b2c1-48d03e4c80de",
   "metadata": {},
   "outputs": [],
   "source": [
    "# TODO: For each cluster compute the central point and the radius"
   ]
  },
  {
   "cell_type": "code",
   "execution_count": null,
   "id": "81f94269-19e5-4b9f-99ef-e34361392a66",
   "metadata": {},
   "outputs": [],
   "source": [
    "# TODO: Store the trained models (TfidfVectorizer, PCA and etc) along with the Classifier information: Class Id, Central point, Radius"
   ]
  }
 ],
 "metadata": {
  "kernelspec": {
   "display_name": "tfm",
   "language": "python",
   "name": "tfm"
  },
  "language_info": {
   "codemirror_mode": {
    "name": "ipython",
    "version": 3
   },
   "file_extension": ".py",
   "mimetype": "text/x-python",
   "name": "python",
   "nbconvert_exporter": "python",
   "pygments_lexer": "ipython3",
   "version": "3.8.13"
  }
 },
 "nbformat": 4,
 "nbformat_minor": 5
}
