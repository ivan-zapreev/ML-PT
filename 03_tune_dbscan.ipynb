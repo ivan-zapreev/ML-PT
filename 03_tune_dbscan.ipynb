{
 "cells": [
  {
   "cell_type": "code",
   "execution_count": 1,
   "id": "171af9a4-ccea-4f96-8bae-2ba37af671ca",
   "metadata": {},
   "outputs": [
    {
     "data": {
      "text/plain": [
       "'/Users/izapreev/Projects/ML-PT'"
      ]
     },
     "execution_count": 1,
     "metadata": {},
     "output_type": "execute_result"
    }
   ],
   "source": [
    "import os\n",
    "os.getcwd() "
   ]
  },
  {
   "cell_type": "code",
   "execution_count": 2,
   "id": "b11d67dd-ca84-4bde-b859-200c81cb95a7",
   "metadata": {},
   "outputs": [],
   "source": [
    "# Make sure the source code auto reloads into the kernel\\n\n",
    "%load_ext autoreload\n",
    "%autoreload 2"
   ]
  },
  {
   "cell_type": "code",
   "execution_count": 3,
   "id": "8dcb1f9e-bd4c-4027-9166-2b2ff2214643",
   "metadata": {},
   "outputs": [],
   "source": [
    "from src.utils.logger import logger"
   ]
  },
  {
   "cell_type": "code",
   "execution_count": 6,
   "id": "538bd32e-600d-42c9-b27b-f6c116c81523",
   "metadata": {},
   "outputs": [
    {
     "name": "stderr",
     "output_type": "stream",
     "text": [
      "15:26:55 INFO (file_utils:32): Loading compressed numpy z file from: ./data/X.npz\n",
      "15:26:55 INFO (file_utils:35): File loading and data extraction are done!\n"
     ]
    }
   ],
   "source": [
    "from src.utils.file_utils import load_numpy_zc\n",
    "\n",
    "# Load the features file for further use\n",
    "file_name = os.path.join('.', 'data', 'X.npz')\n",
    "X = load_numpy_zc(file_name, ['X'])"
   ]
  },
  {
   "cell_type": "code",
   "execution_count": null,
   "id": "6e3aaff0-4803-43aa-926d-94da771f04c7",
   "metadata": {},
   "outputs": [],
   "source": [
    "# TODO: Apply DBSCAN for clustering of the provided data (tune hyperparameters to find the optimal number of clusters)"
   ]
  },
  {
   "cell_type": "code",
   "execution_count": null,
   "id": "f03d739f-c0ae-4a43-b2c1-48d03e4c80de",
   "metadata": {},
   "outputs": [],
   "source": [
    "# TODO: For each cluster compute the central point and the radius"
   ]
  },
  {
   "cell_type": "code",
   "execution_count": null,
   "id": "81f94269-19e5-4b9f-99ef-e34361392a66",
   "metadata": {},
   "outputs": [],
   "source": [
    "# TODO: Store the trained models (TfidfVectorizer, PCA and etc) along with the Classifier information: Class Id, Central point, Radius"
   ]
  }
 ],
 "metadata": {
  "kernelspec": {
   "display_name": "tfm",
   "language": "python",
   "name": "tfm"
  },
  "language_info": {
   "codemirror_mode": {
    "name": "ipython",
    "version": 3
   },
   "file_extension": ".py",
   "mimetype": "text/x-python",
   "name": "python",
   "nbconvert_exporter": "python",
   "pygments_lexer": "ipython3",
   "version": "3.8.13"
  }
 },
 "nbformat": 4,
 "nbformat_minor": 5
}
