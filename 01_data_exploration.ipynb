{
 "cells": [
  {
   "cell_type": "code",
   "execution_count": 1,
   "id": "233abf72-6ec2-4de9-93cc-63bca5d6ac1c",
   "metadata": {},
   "outputs": [
    {
     "data": {
      "text/plain": [
       "'/Users/izapreev/Projects/ML-PT'"
      ]
     },
     "execution_count": 1,
     "metadata": {},
     "output_type": "execute_result"
    }
   ],
   "source": [
    "import os\n",
    "os.getcwd() "
   ]
  },
  {
   "cell_type": "code",
   "execution_count": 2,
   "id": "f886b4ff-84c9-468f-a9f2-5f06b06ec115",
   "metadata": {},
   "outputs": [],
   "source": [
    "# Make sure the source code auto reloads into the kernel\n",
    "%load_ext autoreload\n",
    "%autoreload 2"
   ]
  },
  {
   "cell_type": "code",
   "execution_count": 3,
   "id": "25993262-9c43-4b23-ad30-24e89c95ff02",
   "metadata": {},
   "outputs": [],
   "source": [
    "\n",
    "import numpy as np\n",
    "import pandas as pd\n",
    "import sklearn as sk\n",
    "import matplotlib.pyplot as plt \n",
    "\n",
    "from functools import partial\n",
    "from src.utils.logger import logger"
   ]
  },
  {
   "cell_type": "code",
   "execution_count": 4,
   "id": "68515ce0-0516-4cb5-94ba-2a7e2d32e5a1",
   "metadata": {},
   "outputs": [
    {
     "name": "stderr",
     "output_type": "stream",
     "text": [
      "16:16:48 INFO (3164755576:4): Initial number of events: 57845\n",
      "16:16:48 INFO (3164755576:8): Number events after dropping duplicates: 57833\n"
     ]
    }
   ],
   "source": [
    "# Load the provided test data\n",
    "csv_file_name = os.path.join('.', 'data', 'part_10_raw.csv')\n",
    "data_df = pd.read_csv(csv_file_name)\n",
    "logger.info(f'Initial number of events: {len(data_df)}')\n",
    "\n",
    "# Drop duplicate rows right away\n",
    "data_df.drop_duplicates(inplace=True)\n",
    "logger.info(f'Number events after dropping duplicates: {len(data_df)}')"
   ]
  },
  {
   "cell_type": "code",
   "execution_count": 5,
   "id": "f737b106-c901-4c3b-8afb-720307ee8f3e",
   "metadata": {},
   "outputs": [
    {
     "data": {
      "text/plain": [
       "Index(['CLIENT_IP', 'CLIENT_USERAGENT', 'REQUEST_SIZE', 'RESPONSE_CODE',\n",
       "       'MATCHED_VARIABLE_SRC', 'MATCHED_VARIABLE_NAME',\n",
       "       'MATCHED_VARIABLE_VALUE', 'EVENT_ID'],\n",
       "      dtype='object')"
      ]
     },
     "execution_count": 5,
     "metadata": {},
     "output_type": "execute_result"
    }
   ],
   "source": [
    "# Check on the data columns\n",
    "data_df.columns"
   ]
  },
  {
   "cell_type": "code",
   "execution_count": 6,
   "id": "00026bbd-b695-4d6b-806c-9c4b4527f8db",
   "metadata": {},
   "outputs": [
    {
     "data": {
      "text/html": [
       "<div>\n",
       "<style scoped>\n",
       "    .dataframe tbody tr th:only-of-type {\n",
       "        vertical-align: middle;\n",
       "    }\n",
       "\n",
       "    .dataframe tbody tr th {\n",
       "        vertical-align: top;\n",
       "    }\n",
       "\n",
       "    .dataframe thead th {\n",
       "        text-align: right;\n",
       "    }\n",
       "</style>\n",
       "<table border=\"1\" class=\"dataframe\">\n",
       "  <thead>\n",
       "    <tr style=\"text-align: right;\">\n",
       "      <th></th>\n",
       "      <th>CLIENT_IP</th>\n",
       "      <th>CLIENT_USERAGENT</th>\n",
       "      <th>REQUEST_SIZE</th>\n",
       "      <th>RESPONSE_CODE</th>\n",
       "      <th>MATCHED_VARIABLE_SRC</th>\n",
       "      <th>MATCHED_VARIABLE_NAME</th>\n",
       "      <th>MATCHED_VARIABLE_VALUE</th>\n",
       "      <th>EVENT_ID</th>\n",
       "    </tr>\n",
       "  </thead>\n",
       "  <tbody>\n",
       "    <tr>\n",
       "      <th>count</th>\n",
       "      <td>57832</td>\n",
       "      <td>57517</td>\n",
       "      <td>57794</td>\n",
       "      <td>57770</td>\n",
       "      <td>57730</td>\n",
       "      <td>53167</td>\n",
       "      <td>57683</td>\n",
       "      <td>57666</td>\n",
       "    </tr>\n",
       "    <tr>\n",
       "      <th>unique</th>\n",
       "      <td>24940</td>\n",
       "      <td>6992</td>\n",
       "      <td>5758</td>\n",
       "      <td>60</td>\n",
       "      <td>21</td>\n",
       "      <td>3209</td>\n",
       "      <td>57611</td>\n",
       "      <td>54410</td>\n",
       "    </tr>\n",
       "    <tr>\n",
       "      <th>top</th>\n",
       "      <td>217.175.140.69</td>\n",
       "      <td>Mozilla/5.0 (Windows NT 6.1; WOW64; Trident/7....</td>\n",
       "      <td>259</td>\n",
       "      <td>200</td>\n",
       "      <td>REQUEST_GET_ARGS</td>\n",
       "      <td>REQUEST_GET_ARGS._</td>\n",
       "      <td>{\\\"tags\\\":[{\\\"sizes\\\":[{\\\"width\\\":728,\\\"height...</td>\n",
       "      <td>cr1nJWQB5cBXmMW1hh_4</td>\n",
       "    </tr>\n",
       "    <tr>\n",
       "      <th>freq</th>\n",
       "      <td>11286</td>\n",
       "      <td>2117</td>\n",
       "      <td>261</td>\n",
       "      <td>25771</td>\n",
       "      <td>20812</td>\n",
       "      <td>11165</td>\n",
       "      <td>28</td>\n",
       "      <td>7</td>\n",
       "    </tr>\n",
       "    <tr>\n",
       "      <th>count NaN</th>\n",
       "      <td>1</td>\n",
       "      <td>316</td>\n",
       "      <td>39</td>\n",
       "      <td>63</td>\n",
       "      <td>103</td>\n",
       "      <td>4666</td>\n",
       "      <td>150</td>\n",
       "      <td>167</td>\n",
       "    </tr>\n",
       "  </tbody>\n",
       "</table>\n",
       "</div>"
      ],
      "text/plain": [
       "                CLIENT_IP                                   CLIENT_USERAGENT  \\\n",
       "count               57832                                              57517   \n",
       "unique              24940                                               6992   \n",
       "top        217.175.140.69  Mozilla/5.0 (Windows NT 6.1; WOW64; Trident/7....   \n",
       "freq                11286                                               2117   \n",
       "count NaN               1                                                316   \n",
       "\n",
       "          REQUEST_SIZE RESPONSE_CODE MATCHED_VARIABLE_SRC  \\\n",
       "count            57794         57770                57730   \n",
       "unique            5758            60                   21   \n",
       "top                259           200     REQUEST_GET_ARGS   \n",
       "freq               261         25771                20812   \n",
       "count NaN           39            63                  103   \n",
       "\n",
       "          MATCHED_VARIABLE_NAME  \\\n",
       "count                     53167   \n",
       "unique                     3209   \n",
       "top          REQUEST_GET_ARGS._   \n",
       "freq                      11165   \n",
       "count NaN                  4666   \n",
       "\n",
       "                                      MATCHED_VARIABLE_VALUE  \\\n",
       "count                                                  57683   \n",
       "unique                                                 57611   \n",
       "top        {\\\"tags\\\":[{\\\"sizes\\\":[{\\\"width\\\":728,\\\"height...   \n",
       "freq                                                      28   \n",
       "count NaN                                                150   \n",
       "\n",
       "                       EVENT_ID  \n",
       "count                     57666  \n",
       "unique                    54410  \n",
       "top        cr1nJWQB5cBXmMW1hh_4  \n",
       "freq                          7  \n",
       "count NaN                   167  "
      ]
     },
     "metadata": {},
     "output_type": "display_data"
    }
   ],
   "source": [
    "# Get the data description\n",
    "info_df = data_df.describe(include = 'all')\n",
    "info_df.loc['count NaN'] = data_df.isnull().sum()\n",
    "display(info_df)"
   ]
  },
  {
   "cell_type": "code",
   "execution_count": 7,
   "id": "c3b36b78-aa4e-4597-9d0b-bf0637e8558e",
   "metadata": {},
   "outputs": [
    {
     "data": {
      "text/plain": [
       "CLIENT_IP                 string\n",
       "CLIENT_USERAGENT          string\n",
       "REQUEST_SIZE              string\n",
       "RESPONSE_CODE             string\n",
       "MATCHED_VARIABLE_SRC      string\n",
       "MATCHED_VARIABLE_NAME     string\n",
       "MATCHED_VARIABLE_VALUE    string\n",
       "EVENT_ID                  string\n",
       "dtype: object"
      ]
     },
     "execution_count": 7,
     "metadata": {},
     "output_type": "execute_result"
    }
   ],
   "source": [
    "# Infer the best data types\n",
    "data_df = data_df.convert_dtypes()\n",
    "# Check on the column types\n",
    "data_df.dtypes"
   ]
  },
  {
   "cell_type": "code",
   "execution_count": 8,
   "id": "c55f63fe-e8a0-470f-a938-74437d8d0ad3",
   "metadata": {},
   "outputs": [
    {
     "name": "stderr",
     "output_type": "stream",
     "text": [
      "14:38:29 INFO (utils:137): Handle int values columns (dict_keys(['REQUEST_SIZE', 'RESPONSE_CODE']))\n",
      "14:38:29 INFO (utils:141): Converting column: \"REQUEST_SIZE\" values to float type, with limits: {'vmin': 0, 'vmax': None, 'def_val': -1}\n",
      "14:38:29 INFO (utils:141): Converting column: \"RESPONSE_CODE\" values to float type, with limits: {'vmin': 100, 'vmax': 599, 'def_val': 418}\n",
      "14:38:29 INFO (utils:153): Column \"REQUEST_SIZE\" min value is: -1, max values is: 10529650\n",
      "14:38:29 INFO (utils:153): Column \"RESPONSE_CODE\" min value is: 200, max values is: 504\n",
      "14:38:29 INFO (utils:155): Assign missing string column values to empty strings, namely for:\n",
      "['CLIENT_IP', 'CLIENT_USERAGENT', 'MATCHED_VARIABLE_SRC', 'MATCHED_VARIABLE_NAME', 'MATCHED_VARIABLE_VALUE', 'EVENT_ID']\n"
     ]
    },
    {
     "data": {
      "text/plain": [
       "CLIENT_IP                 string\n",
       "CLIENT_USERAGENT          string\n",
       "REQUEST_SIZE               int64\n",
       "RESPONSE_CODE              int64\n",
       "MATCHED_VARIABLE_SRC      string\n",
       "MATCHED_VARIABLE_NAME     string\n",
       "MATCHED_VARIABLE_VALUE    string\n",
       "EVENT_ID                  string\n",
       "dtype: object"
      ]
     },
     "execution_count": 8,
     "metadata": {},
     "output_type": "execute_result"
    }
   ],
   "source": [
    "from src.wrangler.utils import adjust_column_types\n",
    "\n",
    "data_df = adjust_column_types(data_df)\n",
    "\n",
    "# Check on the column types\n",
    "data_df.dtypes"
   ]
  },
  {
   "cell_type": "code",
   "execution_count": 9,
   "id": "80641fb6-50e2-48b4-b4d3-93afd1c2bd34",
   "metadata": {},
   "outputs": [
    {
     "data": {
      "text/plain": [
       "CLIENT_IP                 0\n",
       "CLIENT_USERAGENT          0\n",
       "REQUEST_SIZE              0\n",
       "RESPONSE_CODE             0\n",
       "MATCHED_VARIABLE_SRC      0\n",
       "MATCHED_VARIABLE_NAME     0\n",
       "MATCHED_VARIABLE_VALUE    0\n",
       "EVENT_ID                  0\n",
       "dtype: int64"
      ]
     },
     "execution_count": 9,
     "metadata": {},
     "output_type": "execute_result"
    }
   ],
   "source": [
    "# Count the NaN values in the resulting df for sanity\n",
    "data_df.isnull().sum()"
   ]
  },
  {
   "cell_type": "code",
   "execution_count": 10,
   "id": "4ae6e077-9275-4121-b2eb-2e08b0abb947",
   "metadata": {},
   "outputs": [
    {
     "data": {
      "text/html": [
       "<div>\n",
       "<style scoped>\n",
       "    .dataframe tbody tr th:only-of-type {\n",
       "        vertical-align: middle;\n",
       "    }\n",
       "\n",
       "    .dataframe tbody tr th {\n",
       "        vertical-align: top;\n",
       "    }\n",
       "\n",
       "    .dataframe thead th {\n",
       "        text-align: right;\n",
       "    }\n",
       "</style>\n",
       "<table border=\"1\" class=\"dataframe\">\n",
       "  <thead>\n",
       "    <tr style=\"text-align: right;\">\n",
       "      <th></th>\n",
       "      <th>CLIENT_IP</th>\n",
       "      <th>CLIENT_USERAGENT</th>\n",
       "      <th>REQUEST_SIZE</th>\n",
       "      <th>RESPONSE_CODE</th>\n",
       "      <th>MATCHED_VARIABLE_SRC</th>\n",
       "      <th>MATCHED_VARIABLE_NAME</th>\n",
       "      <th>MATCHED_VARIABLE_VALUE</th>\n",
       "      <th>EVENT_ID</th>\n",
       "    </tr>\n",
       "  </thead>\n",
       "  <tbody>\n",
       "    <tr>\n",
       "      <th>0</th>\n",
       "      <td>188.138.92.55</td>\n",
       "      <td></td>\n",
       "      <td>166</td>\n",
       "      <td>404</td>\n",
       "      <td>REQUEST_URI</td>\n",
       "      <td></td>\n",
       "      <td>//tmp/20160925122692indo.php.vob</td>\n",
       "      <td>AVdhXFgVq1Ppo9zF5Fxu</td>\n",
       "    </tr>\n",
       "    <tr>\n",
       "      <th>1</th>\n",
       "      <td>93.158.215.131</td>\n",
       "      <td>Mozilla/5.0 (Windows NT 6.3; WOW64; rv:45.0) G...</td>\n",
       "      <td>431</td>\n",
       "      <td>302</td>\n",
       "      <td>REQUEST_GET_ARGS</td>\n",
       "      <td>url</td>\n",
       "      <td>http://www.galitsios.gr/?option=com_k2</td>\n",
       "      <td>AVdcJmIIq1Ppo9zF2YIp</td>\n",
       "    </tr>\n",
       "    <tr>\n",
       "      <th>2</th>\n",
       "      <td>176.123.240.64</td>\n",
       "      <td>Mozilla/5.0 (Windows NT 6.0; rv:34.0) Gecko/20...</td>\n",
       "      <td>395</td>\n",
       "      <td>403</td>\n",
       "      <td>REQUEST_PATH</td>\n",
       "      <td></td>\n",
       "      <td>/opinion/page1_3.php\\\" and \\\"\\\"x\\\"\\\"=\\\"\\\"x\\\"</td>\n",
       "      <td>iz7SN2YBrgKk_RFNZW_U</td>\n",
       "    </tr>\n",
       "    <tr>\n",
       "      <th>3</th>\n",
       "      <td>73.78.81.63</td>\n",
       "      <td>Mozilla/5.0 (Windows NT 6.3; WOW64; rv:45.0) G...</td>\n",
       "      <td>387</td>\n",
       "      <td>302</td>\n",
       "      <td>REQUEST_GET_ARGS</td>\n",
       "      <td>url</td>\n",
       "      <td>http://thereviewgroup.org/boss-capital/</td>\n",
       "      <td>AVdjekw4q1Ppo9zF6QT2</td>\n",
       "    </tr>\n",
       "    <tr>\n",
       "      <th>4</th>\n",
       "      <td>66.102.9.44</td>\n",
       "      <td>Mozilla/5.0 (Linux; Android 4.4.2; GT-N7100 Bu...</td>\n",
       "      <td>1733</td>\n",
       "      <td>404</td>\n",
       "      <td>REQUEST_GET_ARGS</td>\n",
       "      <td>REQUEST_GET_ARGS._</td>\n",
       "      <td>1516288084140</td>\n",
       "      <td>SqQGI2QB5cBXmMW1CDbp</td>\n",
       "    </tr>\n",
       "    <tr>\n",
       "      <th>5</th>\n",
       "      <td>79.183.87.247</td>\n",
       "      <td>Mozilla/5.0 (Linux; Android 6.0; LG-H815 Build...</td>\n",
       "      <td>682</td>\n",
       "      <td>404</td>\n",
       "      <td>REQUEST_HEADERS</td>\n",
       "      <td>REQUEST_HEADERS.User-Agent</td>\n",
       "      <td>Mozilla/5.0 (Linux; Android 6.0; LG-H815 Build...</td>\n",
       "      <td>nFzwHGQB5cBXmMW1y_TD</td>\n",
       "    </tr>\n",
       "    <tr>\n",
       "      <th>6</th>\n",
       "      <td>88.198.201.245</td>\n",
       "      <td>Mozilla/5.0 (Windows NT 6.1; WOW64) AppleWebKi...</td>\n",
       "      <td>1031</td>\n",
       "      <td>302</td>\n",
       "      <td>REQUEST_GET_ARGS</td>\n",
       "      <td>REQUEST_GET_ARGS.rid</td>\n",
       "      <td>3585221644</td>\n",
       "      <td>9KP-ImQB5cBXmMW1yeXY</td>\n",
       "    </tr>\n",
       "    <tr>\n",
       "      <th>7</th>\n",
       "      <td>77.72.142.170</td>\n",
       "      <td>Mozilla/5.0 (Windows NT 6.1) AppleWebKit/537.3...</td>\n",
       "      <td>763</td>\n",
       "      <td>404</td>\n",
       "      <td>REQUEST_GET_ARGS</td>\n",
       "      <td>REQUEST_GET_ARGS._</td>\n",
       "      <td>214296569</td>\n",
       "      <td>97JpJGQB5cBXmMW1WqBh</td>\n",
       "    </tr>\n",
       "    <tr>\n",
       "      <th>8</th>\n",
       "      <td>94.50.192.153</td>\n",
       "      <td>Mozilla/5.0 (Windows NT 10.0) AppleWebKit/537....</td>\n",
       "      <td>3786</td>\n",
       "      <td>404</td>\n",
       "      <td>REQUEST_METHOD\\';\\'REQUEST_CONTE</td>\n",
       "      <td></td>\n",
       "      <td>POST\\';\\'multipart/form-data; boundary=----Web...</td>\n",
       "      <td>irs7_mMBjksgoq1eoQ7a</td>\n",
       "    </tr>\n",
       "    <tr>\n",
       "      <th>9</th>\n",
       "      <td>83.246.141.54</td>\n",
       "      <td>Mozilla/5.0 (Windows NT 6.1; WOW64; Trident/7....</td>\n",
       "      <td>840</td>\n",
       "      <td>404</td>\n",
       "      <td>REQUEST_GET_ARGS</td>\n",
       "      <td>REQUEST_GET_ARGS._</td>\n",
       "      <td>51660445</td>\n",
       "      <td>g4RdIGQB5cBXmMW10nGg</td>\n",
       "    </tr>\n",
       "  </tbody>\n",
       "</table>\n",
       "</div>"
      ],
      "text/plain": [
       "        CLIENT_IP                                   CLIENT_USERAGENT  \\\n",
       "0   188.138.92.55                                                      \n",
       "1  93.158.215.131  Mozilla/5.0 (Windows NT 6.3; WOW64; rv:45.0) G...   \n",
       "2  176.123.240.64  Mozilla/5.0 (Windows NT 6.0; rv:34.0) Gecko/20...   \n",
       "3     73.78.81.63  Mozilla/5.0 (Windows NT 6.3; WOW64; rv:45.0) G...   \n",
       "4     66.102.9.44  Mozilla/5.0 (Linux; Android 4.4.2; GT-N7100 Bu...   \n",
       "5   79.183.87.247  Mozilla/5.0 (Linux; Android 6.0; LG-H815 Build...   \n",
       "6  88.198.201.245  Mozilla/5.0 (Windows NT 6.1; WOW64) AppleWebKi...   \n",
       "7   77.72.142.170  Mozilla/5.0 (Windows NT 6.1) AppleWebKit/537.3...   \n",
       "8   94.50.192.153  Mozilla/5.0 (Windows NT 10.0) AppleWebKit/537....   \n",
       "9   83.246.141.54  Mozilla/5.0 (Windows NT 6.1; WOW64; Trident/7....   \n",
       "\n",
       "   REQUEST_SIZE  RESPONSE_CODE              MATCHED_VARIABLE_SRC  \\\n",
       "0           166            404                       REQUEST_URI   \n",
       "1           431            302                  REQUEST_GET_ARGS   \n",
       "2           395            403                      REQUEST_PATH   \n",
       "3           387            302                  REQUEST_GET_ARGS   \n",
       "4          1733            404                  REQUEST_GET_ARGS   \n",
       "5           682            404                   REQUEST_HEADERS   \n",
       "6          1031            302                  REQUEST_GET_ARGS   \n",
       "7           763            404                  REQUEST_GET_ARGS   \n",
       "8          3786            404  REQUEST_METHOD\\';\\'REQUEST_CONTE   \n",
       "9           840            404                  REQUEST_GET_ARGS   \n",
       "\n",
       "        MATCHED_VARIABLE_NAME  \\\n",
       "0                               \n",
       "1                         url   \n",
       "2                               \n",
       "3                         url   \n",
       "4          REQUEST_GET_ARGS._   \n",
       "5  REQUEST_HEADERS.User-Agent   \n",
       "6        REQUEST_GET_ARGS.rid   \n",
       "7          REQUEST_GET_ARGS._   \n",
       "8                               \n",
       "9          REQUEST_GET_ARGS._   \n",
       "\n",
       "                              MATCHED_VARIABLE_VALUE              EVENT_ID  \n",
       "0                   //tmp/20160925122692indo.php.vob  AVdhXFgVq1Ppo9zF5Fxu  \n",
       "1             http://www.galitsios.gr/?option=com_k2  AVdcJmIIq1Ppo9zF2YIp  \n",
       "2       /opinion/page1_3.php\\\" and \\\"\\\"x\\\"\\\"=\\\"\\\"x\\\"  iz7SN2YBrgKk_RFNZW_U  \n",
       "3            http://thereviewgroup.org/boss-capital/  AVdjekw4q1Ppo9zF6QT2  \n",
       "4                                      1516288084140  SqQGI2QB5cBXmMW1CDbp  \n",
       "5  Mozilla/5.0 (Linux; Android 6.0; LG-H815 Build...  nFzwHGQB5cBXmMW1y_TD  \n",
       "6                                         3585221644  9KP-ImQB5cBXmMW1yeXY  \n",
       "7                                          214296569  97JpJGQB5cBXmMW1WqBh  \n",
       "8  POST\\';\\'multipart/form-data; boundary=----Web...  irs7_mMBjksgoq1eoQ7a  \n",
       "9                                           51660445  g4RdIGQB5cBXmMW10nGg  "
      ]
     },
     "execution_count": 10,
     "metadata": {},
     "output_type": "execute_result"
    }
   ],
   "source": [
    "# Check on the data head\n",
    "data_df.head(10)"
   ]
  },
  {
   "cell_type": "code",
   "execution_count": 11,
   "id": "4d8069ca-58e2-452c-bab3-02942cd3bb6a",
   "metadata": {},
   "outputs": [],
   "source": [
    "############################################################\n",
    "# Now let us look at the columns to figure out which ones\n",
    "# might be of use and if additional columns may be added\n",
    "############################################################"
   ]
  },
  {
   "cell_type": "code",
   "execution_count": 12,
   "id": "192d3c09-d5b3-4d36-8f67-a2ae76e8a7ce",
   "metadata": {},
   "outputs": [],
   "source": [
    "#----------------------------------------------------------\n",
    "# Consider the CLIENT_IP column"
   ]
  },
  {
   "cell_type": "code",
   "execution_count": 13,
   "id": "09099b70-9068-4702-b043-da5391485c80",
   "metadata": {},
   "outputs": [
    {
     "data": {
      "text/plain": [
       "217.175.140.69     11286\n",
       "37.46.129.136        771\n",
       "188.43.52.163        767\n",
       "5.143.231.38         757\n",
       "192.168.100.63       748\n",
       "185.26.112.50        687\n",
       "62.168.244.229       542\n",
       "103.208.220.130      303\n",
       "185.70.104.11        280\n",
       "178.236.141.227      214\n",
       "Name: CLIENT_IP, dtype: Int64"
      ]
     },
     "execution_count": 13,
     "metadata": {},
     "output_type": "execute_result"
    }
   ],
   "source": [
    "# Check on the IP addresses distribution\n",
    "ip_counts_df = data_df['CLIENT_IP'].value_counts()\n",
    "ip_counts_df.head(10)"
   ]
  },
  {
   "cell_type": "code",
   "execution_count": 14,
   "id": "48a6896a-2c23-407d-aa33-65d3133c918d",
   "metadata": {},
   "outputs": [
    {
     "data": {
      "text/plain": [
       "<AxesSubplot: >"
      ]
     },
     "execution_count": 14,
     "metadata": {},
     "output_type": "execute_result"
    },
    {
     "data": {
      "image/png": "[encoded data removed]",
      "text/plain": [
       "<Figure size 640x480 with 1 Axes>"
      ]
     },
     "metadata": {},
     "output_type": "display_data"
    }
   ],
   "source": [
    "# Plot the the IP counts other than for '217.175.140.69'\n",
    "MAX_COUNT_IP = ip_counts_df.index[0]\n",
    "ip_counts_df[ip_counts_df.index != '217.175.140.69'].plot.box()"
   ]
  },
  {
   "cell_type": "code",
   "execution_count": 15,
   "id": "710f8c37-a140-4083-886b-f7872c27836a",
   "metadata": {},
   "outputs": [
    {
     "data": {
      "image/png": "[encoded data removed]",
      "text/plain": [
       "<Figure size 1500x500 with 1 Axes>"
      ]
     },
     "metadata": {},
     "output_type": "display_data"
    }
   ],
   "source": [
    "# Show the distribution of request counts per IP address (x-axis)\n",
    "fig, ax = plt.subplots(figsize=(15, 5))\n",
    "_ = plt.hist(ip_counts_df, log=True, bins=1000)"
   ]
  },
  {
   "cell_type": "code",
   "execution_count": 16,
   "id": "2c4de55c-5893-4c91-9990-e454a5e5c8a4",
   "metadata": {},
   "outputs": [
    {
     "name": "stderr",
     "output_type": "stream",
     "text": [
      "14:38:30 INFO (1032629450:3): About 19.51% (11286/57833) of all requests are done from IP: \"217.175.140.69\"\n"
     ]
    }
   ],
   "source": [
    "# The number of requests from the IP '217.175.140.69' is a clear outlier\n",
    "max_ip_count = ip_counts_df.loc[MAX_COUNT_IP]\n",
    "logger.info(f'About {round(max_ip_count*100/len(data_df), 2)}% ({max_ip_count}/{len(data_df)}) of all requests are done from IP: \"{MAX_COUNT_IP}\"')"
   ]
  },
  {
   "cell_type": "code",
   "execution_count": 17,
   "id": "81f47bcd-2498-4c8b-a436-27cd5b0b3b41",
   "metadata": {},
   "outputs": [
    {
     "data": {
      "text/html": [
       "<div>\n",
       "<style scoped>\n",
       "    .dataframe tbody tr th:only-of-type {\n",
       "        vertical-align: middle;\n",
       "    }\n",
       "\n",
       "    .dataframe tbody tr th {\n",
       "        vertical-align: top;\n",
       "    }\n",
       "\n",
       "    .dataframe thead th {\n",
       "        text-align: right;\n",
       "    }\n",
       "</style>\n",
       "<table border=\"1\" class=\"dataframe\">\n",
       "  <thead>\n",
       "    <tr style=\"text-align: right;\">\n",
       "      <th></th>\n",
       "      <th>CLIENT_IP</th>\n",
       "      <th>CLIENT_USERAGENT</th>\n",
       "      <th>REQUEST_SIZE</th>\n",
       "      <th>RESPONSE_CODE</th>\n",
       "      <th>MATCHED_VARIABLE_SRC</th>\n",
       "      <th>MATCHED_VARIABLE_NAME</th>\n",
       "      <th>MATCHED_VARIABLE_VALUE</th>\n",
       "      <th>EVENT_ID</th>\n",
       "    </tr>\n",
       "  </thead>\n",
       "  <tbody>\n",
       "    <tr>\n",
       "      <th>11</th>\n",
       "      <td>217.175.140.69</td>\n",
       "      <td>Mozilla/5.0 (Windows NT 6.1) AppleWebKit/537.3...</td>\n",
       "      <td>735</td>\n",
       "      <td>302</td>\n",
       "      <td>REQUEST_COOKIES</td>\n",
       "      <td>REQUEST_COOKIES.user_id</td>\n",
       "      <td>4f1a4c5f-9636-4e6d-9713-b94a7e22cbb0</td>\n",
       "      <td>YXqIH2QB5cBXmMW1PQw-</td>\n",
       "    </tr>\n",
       "    <tr>\n",
       "      <th>15</th>\n",
       "      <td>217.175.140.69</td>\n",
       "      <td>Mozilla/5.0 (Windows NT 5.1) AppleWebKit/537.3...</td>\n",
       "      <td>551</td>\n",
       "      <td>304</td>\n",
       "      <td>REQUEST_HEADERS</td>\n",
       "      <td>REQUEST_HEADERS.If-Modified-Since</td>\n",
       "      <td>Thu, 25 Jan 2018 07:17:06 GMT</td>\n",
       "      <td>wm-kHmQB5cBXmMW1NATt</td>\n",
       "    </tr>\n",
       "    <tr>\n",
       "      <th>17</th>\n",
       "      <td>217.175.140.69</td>\n",
       "      <td>Mozilla/5.0 (Windows NT 6.1) AppleWebKit/537.3...</td>\n",
       "      <td>2277</td>\n",
       "      <td>200</td>\n",
       "      <td>REQUEST_GET_ARGS</td>\n",
       "      <td>REQUEST_GET_ARGS.callback_uid</td>\n",
       "      <td>2c42dc598cf3ff</td>\n",
       "      <td>mV0PHWQB5cBXmMW1Nuon</td>\n",
       "    </tr>\n",
       "    <tr>\n",
       "      <th>21</th>\n",
       "      <td>217.175.140.69</td>\n",
       "      <td>Mozilla/5.0 (Windows NT 6.1; WOW64; Trident/7....</td>\n",
       "      <td>680</td>\n",
       "      <td>302</td>\n",
       "      <td>REQUEST_GET_ARGS</td>\n",
       "      <td>REQUEST_GET_ARGS.r</td>\n",
       "      <td>//dmg.digitaltarget.ru/1/224/i/i?a=224&amp;e=5a65a...</td>\n",
       "      <td>Oq8KJGQB5cBXmMW1vQVL</td>\n",
       "    </tr>\n",
       "    <tr>\n",
       "      <th>27</th>\n",
       "      <td>217.175.140.69</td>\n",
       "      <td>Mozilla/5.0 (compatible; MSIE 9.0; Windows NT ...</td>\n",
       "      <td>4660</td>\n",
       "      <td>200</td>\n",
       "      <td>REQUEST_GET_ARGS</td>\n",
       "      <td>REQUEST_GET_ARGS.q</td>\n",
       "      <td>{\\\"tags\\\":[{\\\"sizes\\\":[{\\\"width\\\":728,\\\"height...</td>\n",
       "      <td>D759JWQB5cBXmMW1Lw0r</td>\n",
       "    </tr>\n",
       "    <tr>\n",
       "      <th>28</th>\n",
       "      <td>217.175.140.69</td>\n",
       "      <td>Mozilla/5.0 (Windows NT 6.1) AppleWebKit/537.3...</td>\n",
       "      <td>3007</td>\n",
       "      <td>502</td>\n",
       "      <td>REQUEST_GET_ARGS</td>\n",
       "      <td>REQUEST_GET_ARGS.callback_uid</td>\n",
       "      <td>1715ca8ec91592a</td>\n",
       "      <td>NbkMJWQB5cBXmMW1VVhF</td>\n",
       "    </tr>\n",
       "    <tr>\n",
       "      <th>39</th>\n",
       "      <td>217.175.140.69</td>\n",
       "      <td>Mozilla/5.0 (Windows NT 6.1; WOW64; Trident/7....</td>\n",
       "      <td>3795</td>\n",
       "      <td>307</td>\n",
       "      <td>REQUEST_COOKIES</td>\n",
       "      <td>REQUEST_COOKIES.rpx</td>\n",
       "      <td>31956=70895,0,1,,&amp;6286=70686,0,1,,&amp;106496=7085...</td>\n",
       "      <td>QIEmIGQB5cBXmMW1qsEs</td>\n",
       "    </tr>\n",
       "    <tr>\n",
       "      <th>41</th>\n",
       "      <td>217.175.140.69</td>\n",
       "      <td>*BgfBAAAA-EAAAEFBAAQLljjU6Vfh4i4fw0IhLFvB2RNU3...</td>\n",
       "      <td>218</td>\n",
       "      <td>200</td>\n",
       "      <td>REQUEST_PATH</td>\n",
       "      <td>REQUEST_PATH</td>\n",
       "      <td>/updates/kdb/i386/diffs/base087e.kdc.ply</td>\n",
       "      <td>_lPZG2QB5cBXmMW1csGr</td>\n",
       "    </tr>\n",
       "    <tr>\n",
       "      <th>43</th>\n",
       "      <td>217.175.140.69</td>\n",
       "      <td>Mozilla/5.0 (Windows NT 6.1; WOW64) AppleWebKi...</td>\n",
       "      <td>3002</td>\n",
       "      <td>302</td>\n",
       "      <td>REQUEST_COOKIES</td>\n",
       "      <td>REQUEST_COOKIES.KRTBCOOKIE_561</td>\n",
       "      <td>9455-uid:076313ed-38b6-47d3-9c7d-e7278703aaae</td>\n",
       "      <td>smO3HWQB5cBXmMW1V7UQ</td>\n",
       "    </tr>\n",
       "    <tr>\n",
       "      <th>53</th>\n",
       "      <td>217.175.140.69</td>\n",
       "      <td>Mozilla/5.0 (Windows NT 10.0; WOW64; Trident/7...</td>\n",
       "      <td>2831</td>\n",
       "      <td>200</td>\n",
       "      <td>REQUEST_COOKIES</td>\n",
       "      <td>REQUEST_COOKIES.icu</td>\n",
       "      <td>ChgI44kuEAoYFyAXKBcw-6fA0wU4F0AXSBcKGAjLpDMQCh...</td>\n",
       "      <td>OrfZJGQB5cBXmMW1kyE-</td>\n",
       "    </tr>\n",
       "  </tbody>\n",
       "</table>\n",
       "</div>"
      ],
      "text/plain": [
       "         CLIENT_IP                                   CLIENT_USERAGENT  \\\n",
       "11  217.175.140.69  Mozilla/5.0 (Windows NT 6.1) AppleWebKit/537.3...   \n",
       "15  217.175.140.69  Mozilla/5.0 (Windows NT 5.1) AppleWebKit/537.3...   \n",
       "17  217.175.140.69  Mozilla/5.0 (Windows NT 6.1) AppleWebKit/537.3...   \n",
       "21  217.175.140.69  Mozilla/5.0 (Windows NT 6.1; WOW64; Trident/7....   \n",
       "27  217.175.140.69  Mozilla/5.0 (compatible; MSIE 9.0; Windows NT ...   \n",
       "28  217.175.140.69  Mozilla/5.0 (Windows NT 6.1) AppleWebKit/537.3...   \n",
       "39  217.175.140.69  Mozilla/5.0 (Windows NT 6.1; WOW64; Trident/7....   \n",
       "41  217.175.140.69  *BgfBAAAA-EAAAEFBAAQLljjU6Vfh4i4fw0IhLFvB2RNU3...   \n",
       "43  217.175.140.69  Mozilla/5.0 (Windows NT 6.1; WOW64) AppleWebKi...   \n",
       "53  217.175.140.69  Mozilla/5.0 (Windows NT 10.0; WOW64; Trident/7...   \n",
       "\n",
       "    REQUEST_SIZE  RESPONSE_CODE MATCHED_VARIABLE_SRC  \\\n",
       "11           735            302      REQUEST_COOKIES   \n",
       "15           551            304      REQUEST_HEADERS   \n",
       "17          2277            200     REQUEST_GET_ARGS   \n",
       "21           680            302     REQUEST_GET_ARGS   \n",
       "27          4660            200     REQUEST_GET_ARGS   \n",
       "28          3007            502     REQUEST_GET_ARGS   \n",
       "39          3795            307      REQUEST_COOKIES   \n",
       "41           218            200         REQUEST_PATH   \n",
       "43          3002            302      REQUEST_COOKIES   \n",
       "53          2831            200      REQUEST_COOKIES   \n",
       "\n",
       "                MATCHED_VARIABLE_NAME  \\\n",
       "11            REQUEST_COOKIES.user_id   \n",
       "15  REQUEST_HEADERS.If-Modified-Since   \n",
       "17      REQUEST_GET_ARGS.callback_uid   \n",
       "21                 REQUEST_GET_ARGS.r   \n",
       "27                 REQUEST_GET_ARGS.q   \n",
       "28      REQUEST_GET_ARGS.callback_uid   \n",
       "39                REQUEST_COOKIES.rpx   \n",
       "41                       REQUEST_PATH   \n",
       "43     REQUEST_COOKIES.KRTBCOOKIE_561   \n",
       "53                REQUEST_COOKIES.icu   \n",
       "\n",
       "                               MATCHED_VARIABLE_VALUE              EVENT_ID  \n",
       "11               4f1a4c5f-9636-4e6d-9713-b94a7e22cbb0  YXqIH2QB5cBXmMW1PQw-  \n",
       "15                      Thu, 25 Jan 2018 07:17:06 GMT  wm-kHmQB5cBXmMW1NATt  \n",
       "17                                     2c42dc598cf3ff  mV0PHWQB5cBXmMW1Nuon  \n",
       "21  //dmg.digitaltarget.ru/1/224/i/i?a=224&e=5a65a...  Oq8KJGQB5cBXmMW1vQVL  \n",
       "27  {\\\"tags\\\":[{\\\"sizes\\\":[{\\\"width\\\":728,\\\"height...  D759JWQB5cBXmMW1Lw0r  \n",
       "28                                    1715ca8ec91592a  NbkMJWQB5cBXmMW1VVhF  \n",
       "39  31956=70895,0,1,,&6286=70686,0,1,,&106496=7085...  QIEmIGQB5cBXmMW1qsEs  \n",
       "41           /updates/kdb/i386/diffs/base087e.kdc.ply  _lPZG2QB5cBXmMW1csGr  \n",
       "43      9455-uid:076313ed-38b6-47d3-9c7d-e7278703aaae  smO3HWQB5cBXmMW1V7UQ  \n",
       "53  ChgI44kuEAoYFyAXKBcw-6fA0wU4F0AXSBcKGAjLpDMQCh...  OrfZJGQB5cBXmMW1kyE-  "
      ]
     },
     "execution_count": 17,
     "metadata": {},
     "output_type": "execute_result"
    }
   ],
   "source": [
    "# Check on the requests done from that IP\n",
    "max_count_ip_df = data_df[data_df['CLIENT_IP'] == MAX_COUNT_IP]\n",
    "max_count_ip_df.head(10)"
   ]
  },
  {
   "cell_type": "code",
   "execution_count": 18,
   "id": "e7eb7e87-76a0-407d-995a-9b68259c3645",
   "metadata": {},
   "outputs": [],
   "source": [
    "from src.wrangler.utils import convert_ipv4_to_ipv6\n",
    "\n",
    "# Convert all the addresses to the uniform IPv6 variant\n",
    "data_df['CLIENT_IP'] = data_df['CLIENT_IP'].apply(convert_ipv4_to_ipv6)"
   ]
  },
  {
   "cell_type": "code",
   "execution_count": 19,
   "id": "ae2c677f-e7e5-4ba2-9ebf-27a02e107771",
   "metadata": {},
   "outputs": [
    {
     "name": "stderr",
     "output_type": "stream",
     "text": [
      "14:38:31 INFO (utils:101): Found 103 invalid IP addresses:\n",
      "['> -gOxT\"O<Ghè\\x19e]Ø\\x1d\\x81È8\\xa0G\\x88\\x87`\\x08\\x07\\x83Qf¾\\x86ñ\\x1e\\x93}\\x7fy\\x1c\\x96ðù\\x88!T\\'|kó\\x07s\\x8c;©èE\\x1e \\x8dáÐìcqµѭцAÃ,\\x0e\\x08ÈÈëéO`>y¢¾\\x96Ô,®/ô=>;tó\\x1c-³\\x91¹Wå\\x10\\x11\\x9c¹QԊñ©´-NÝK½«àrJ\\x94|\\x0f\\\\#1¦3\\x8eÎjA^õ¡ÿ', 'Remote Code Execution', '2a01:598:9902:df0c:8115:691e:c38', '~@.*\")ۅ', '\\x9eÄ}jSL\\xa0\\x060', 'ր\\x08ÿ', '2001:7d0:87e2:1480:e870:b625:397', 'M{5¯ۯ\\x1aXµ\\x0b\\x08#\\x80©نFî>R\\x03·8çp\\x0b\\x8cQÌû¿¼G̓X¿', '\\x9d\\x9b¸#ØÓ ', '\\x89f~|°ØÀ\\x01¶\\x0cg8%ú·P:V\\x96\\x9b\\xad', \"\\n¨Àç۷\\xad|Ó\\r¼Ł\\x88;\\x90z¢±Ç×\\x15íVë¨'2yKï#r\\x7fï\\x92yúÔX»\\x9aR薲s\\x13´'°Îåü\\x8f?\\xady¬ÚMå©g\\x03ÍCՐä\\x9fr:״\\x89cUùòþ¸\\x1bT{\\x82øÿ\", 'ß9oöqÎ', '2a02:2168:13cb:4300:b5d0:78ec:8d', '2a00:1148:b0ba:2615:8b4:f98f:f56', '¾\\x8d\\x13_ı-\\x86\\x94#\\x87\\x03zÌb\\x8dϰ\\x02lôîÙ$õ\\x15Áø¦ÎÚÞæÖP\\x9b\\x16mÞh\\x8c\\x01\\x9d\\x85r@鸆ý(»î\\x07\\x99\\x1dJì\\x80<ޜ\\x0f\\x95?ø\\x9a\\x06¥v\\x01\\x1eo', 'SQL Injection', 'Uû齗$\\x81\\x9cíç¨ùN', '\\x80¿Jw\\x91þ\\x87!\\x12 á\\x96FÁ霯N£\\x93֬¼ERÚ3\\x8f\\x95¤9ÏDb\\x08üù¦Cû©ʱF\\x0c6ÿ', ')vÕê\\x04x¥Å>\\x97\\x15W!¡´´üS©ó²l3\\x14¸©qK\\x8aÙNâ±\\x1e)ø§⟊»\\x81\\x16)qRâ\\x97\\x14®\\x048©1Râ¤Ån\\x99$\\x18£\\x15g\\x14¸«\\x11_\\x14üTø§â¬D8¥ÅXÅ.*\\x89!Å.*Î(Å;\\x81_\\x14b¬â\\x97\\x14��\\x8a\\x93\\x15g\\x15', '2a02:2698:3c23:65d4:1839:9c8f:ef', '«e;½@õÍs\\x9d\\x1eßë\\x0fþ\\x8b5â±]ÜÀ', '¿\\x89b_', 'I·`)ó>ïï\\x0b#��é=\\x7fAþ\\x14yÒzþ\\x83ü ë\\x03\\x04V\\x9aEݴG>E¼É!õ\\x90ý¿=Àûg\\x15Áè\\x7fò', 'r÷\\x8cÑÎÛN7 ÏÓ\\x18ÇéZ(ó)Eý¥c6uóƍóm\\x04°#p', 'Ƭ\\x8eÕîz\\x1fü\\x805\\x1fûyÿ', \"\\x94j\\x17JA\\x12r9\\x1f*\\x7fñ5ÝhF#¨Îa\\x0c±\\x98\\x98¨n\\xa0oN8'§ֶà·\\x163^ßÜ\", '> -gOxT\"O<Ghè\\x19e]Ø\\x1d\\x81È8¦\\x07\\x87n4íÇ־\\x82ñ\\x1e\\x93}\\x7fy\\x1c\\x96ðù\\x88!T\\'|kó\\x07s\\x8c;©èE\\x1e \\x8dáÐìcqµѭцAÃ,\\x0e\\x08ÈÈëéSd3笓M¯¥õ\\x0b \\x8bý\\x0fO\\x8eÝ<Ç\\x0blänUùD\\x04g.Tu\"¼jm\\x0bS·Rïjø\\x1c\\x92¥\\x1f\\x03×\\x08Ìj\\x80ãh¯\\x7fÐÿ', 'ihõ¥m@u\\x14\\x94SµÀZZJZ6$JZJZ.\\x02ÒÒRU', 'õt\\x04\\x102\\x06AbÅX\\x12;àúT~\\x14\\x88Á_¥\\x11äÆñ§â¦Qý*ù¥ÝýáeØð϶Ü\\x15Ûæ|¾\\x9bWü*\\x0f´ːwtö_ð¯v¸´_\\x9dzÆu\\x1f$ñ¥Æ\\x7fë\\x9aä\\x7f$üëCÅR\\tt»y\\x07G\\x9e6\\x1fF\\x8aB?J9¥ÝýáeÙ\\x1f?}²|\\x83¿§û_þ\\x14¢òqü\\x7føê\\x1fæµî\\x1aSM', '2a02:2698:7c25:f4dc:409e:83aa:61', \" 0\\x15V9\\x18ó´z\\x01AXGT\\x90þ8þ\\x95tÎ6íDÇëþ\\x15T³µP\\x02\\x18\\x11\\x83,'#ûÌHϯ5i\\ue77dª\\x96ٻ¡üóFÙ;ÆؠBnîjUËt«\\x0b\\x10ᛁޭåGÝé@\\x15ö\\x1f\\\\}*\\x02̃\\x19©\\x89Ü1ó\\n¤É\\x17����\\x01R\\x9e\\x05?\\x8a·\\x84í\\x83õ¢ÛzÜe}µ \", 'O÷Æ\\x18\\x03XL\\x1a\\x1c²tþïùïZ±̒.Aç¸î :©¸·{òë£×Ì\\x0cÙ-Êò9\\x15\\x9f\\x8aëC\\x81YòA\\x9eWò©\\x84ù¯Îöw»ÒÀsæ\\x99V\\x18\\x15Îj\\x1aîzy맠\\x87S)ôÊk°\\tE\\x14QÔ\\x05¢\\x8a(\\x7fsï¸\\tKL§VIÛ\\x7fø', '2a00:1370:812a:1379:3d16:a3b4:88', 'N)^I$ ;\\x16\\x08¡W=\\x80íþy¨T\\x82A\\x1d\\x8eh\\x07¯֧ï\\x10â ®Ñ\\x17þ', 'f#þY©ü\\tþ´ü\\x979Ú\\x17éUÅʎÕy%Y:T{Ñû6\\x01ûE7njLÓ3Y^ZYÚàgËò\\x829äc\\x8aãn\\x1a8Y`B\\u07fc8fëÇaÿ', '±4)L\\x1aUԫ\\x82cy\\\\g¦V\\x14#8Ç\\x14\\x01ó¥\\x15ôޏ¬\\\\j\\x17', '©å\\x92>\\x9dj\\x83J[½!\\x17\\x9e@\\x06\\x14b²\\x8b\\x13Më֒«a\\x85%-\\x14Ê>®©*\\x1a3^B>t³EC\\x9a\\\\օ\\x93Sª\\x1au1\\x92RÓ)Ô\\x01-I\\x9a\\x82\\x9d@Ë\\x14ꭚ\\x934Ê%Í.j*J\\x94\\x05\\x9cՂAè*\\x90©³V2J)¹¤ÍIW$¢\\x99IH¢LÓh¤¦1MBM<\\x9a\\x86¨ç\\x9b\\x1bKM©��a\\x1dÆóKÍIIPzHm\\x14Þi´\\x8dC', '> -gOxT\"O<Ghè\\x19e]Ø\\x1d\\x81È8¤\\x07\\x87d\\x8a\\x7f\\x98\\u07bfʾ\\x81ñ\\x1e\\x93}\\x7fy\\x1c\\x96ðù\\x88!T\\'|kó\\x07s\\x8c;©èE\\x1e \\x8dáÐìcqµѭцAÃ,\\x0e\\x08ÈÈëé@\\x1f=\\x12M6¾\\x97Ô,®/ô=>;tó\\x1c-³\\x91¹Wå\\x10\\x11\\x9c¹QԊñ©´-NÝK½«àrJ\\x94|\\x0f\\\\#1¦3\\x8d¢½ÿ', 'Gÿ', 'ìújHß.V膢6óã!M]óO÷\\x8fçIæÿ', 'WËæ\\x03J\\x9fáªù«\\x01¨d\\rÏ\\x7fZk\\x9bú°\\x15j@iq\\x8e¿¥\\x1cQku@:\\x99\\x9a]Ôú_\\x8a$£,~`ç¨èk\\x9cmñ\\x1f\\x9b\\x91ë]\\x8dU\\x91\\x15Æ\\rtFoµÑ\\'>\\x0ey©*\\x9bÄcå\\x0fáH¯\\x9e;×zۚ\"-SóPÓsX¹l\\x06ÜSºq\\x9e\\x0fjè\\x92pà\\x01ǭq', '2a02:2168:d84:ec00:54d3:8341:440', '\\x07ò\\xadU\\x96¬̃ÐÔêsP¯ݦ\\x83´ֻ\\x88ڋ\\x87\\x1fCü©\\t\\x14Ä àÔf²kP\\x17½z®\\x9asn¾ſô#^O^£¥\\x7fǷü\\r¿¥l\\x91\\x0cé\\x18W?sĶçþ\\x9a\\x11ù\\x8aè\\x8da^ñä\\x1fI\\x97õ\\x06·[\\x90l;yk\\x9d¥½\\x80ɯ9\\x9eé¥lä®;\\nôêòÙÑ~Ó(*\\x1b,O5²D\\x94K;õf?S]\\x85ªÆS2', 'Cross-Site Scripting', '2a02:c7d:1171:8300:2980:a4b7:4f9', 'kÇ%\\x92Yܼ\\x8cX\\x9a\\x99ÖWrì\\x0b\\x13߭FU\\x87PGá^Ý*1§Ñy\\x9c®E\\x1cRâ§Å7\\x15Þgr\\x1a\\x8e\\xadb¢¦\"**^(ÅX\\x88)*l\\nLR\\x02*Z~(¦2*(Å.(\\x01\\x94ê)(\\x02dûëõ\\xad\\x9fZƏï\\x8aÙï@\\x11Õ)rkC֩KV\\x8a1é)æ\\x99Hfå\\'5%%v\\x9c£iԔú', 'i$^Q\\x87\\x01»{V òsV¥åÛýãU\\x08£\\x9bõ\\x02\\x18þô\\x9fîÕË@LÒ`\\x7fË3ù\\x921U\\x17å-\\ued66·{F\\x06\\x07ÐT¹?Àf\\x14AÖ7\\x0c¥~nùçó\\x02¨\\x1aݖäʸ$\\x1f¥`\\x9a!  ;|¿áÙDhs\\x9f\\xad9>íÙÿ', '\\x02 ý9g³\\x95\\x9e~7ǼA\\x1fy~è ÷RN1^\\x81¤ZϥØÝ\\x1dD\\x81\\x11\\x1cFÎ\\x1c\\x01´\\x86\\x1c\\x12>|\\x80', '\\x0c²\\x17´\\x8dìN\\x08¨ù', '?{7?\\x94\\x86¹۱V>F¢¾ºþÀÒûÛ\\x01ÿ', \"\\x07©¬¤\\n¸/ó\\x1fî\\x8fêkOÎ\\x1f\\x90À\\x1e\\x95\\x9côz\\x7fZ\\x14t©\\x1a\\x8eqøӚU\\x15Ê\\x1b\\x8c\\x8cf©yßSXrs½ì\\x06óí5\\x90û}j\\x93ώõ\\x88ò\\x93\\u07ba£\\x17\\x15¯A\\x93µyÝþ|ÙÎN\\x02E\\x91Øç=~\\x95Øù\\x9eõç÷ÌÆipz\\x84Èìxþ\\x95ìQݿËÕ\\x1c²4\\x08*¸\\x1c\\x8a¬¬yÏ\\u058cÈ\\x07'<T;¿Ù?QÍz\\x9fð\\x08\\x1cQ\\x1b9Qõõ¤(§°©W\\r\\x9cv©±@\\x19æ$ô¦}\\x9e3Øþ\\x7fýj±\", '> -gOxT\"O<Ghè\\x19e]Ø\\x1d\\x81È8¤#ÃA\"¤Þ\\u07bfʾ\\x81ñ\\x1e\\x93}\\x7fy\\x1c\\x96ðù\\x88!T\\'|kó\\x07s\\x8c;©èE\\x1e \\x8dáÐìcqµѭцAÃ,\\x0e\\x08ÈÈëéL\\x0f\\x9e\\x89\\'\\xad6¾\\x97Ô,®/ô=>;tó\\x1c-³\\x91¹Wå\\x10\\x11\\x9c¹QԊñ©´-NÝK½«àrJ\\x94|\\x0f\\\\#1\\xa0\\x0e6\\x8a÷ý\\x0fþ@\\x1a\\x8fý¼ÿ', \"Ãѓ?û-F.bïo\\x19?\\x95]¼¿\\x10¹\\x0f\\x95\\x9f¸ñ°÷m§ò��Uûf8'\\x1d°Ëü÷\\x0cÕ\", 'ÐIǗåÿ', 'eÓÕ~#$', ' n¹{}=`\\x9d¥\\x0cpG\\x0bïþ\\x15Ó֖', ']övêÌ=\\x9a¼¯³·Wø\\x9e\\x0ba©Éc½v\\x89Qù*N9õÎ\\x0f^ù\\x06´ÿ', '', 'ë\\x08\\x0c\\n¶¤u\\x1dk\\x9b\\x957·æ3ZBò.@È\\x1f¦jh\\x18\\x04äãüúVx\\x94¨Çnõ\\x0b\\x82q\\x8eF .Gkhµ[', '¢\\x92×˾û8äyª\\x07û¬A\\x19ü', '2a02:2698:7022:939a:c473:f721:9d', '\\x9a\\\\·¿÷·ÓSÁ<ù?½ú\\x0fð¥ûD¿Þý\\x07øW¦i\\x90Ai`÷òÆ%nv\\x03Ða¶\\x8cg8%º\\x9fJ½cª', '\\x84Ý붹\\x82¥R\\tÁÎ G', '/Þàt³HČã\\x83ü=3Rḿ\\x0f~õ\\x99\\x1eJlà\\x8fCWË\\x03°÷', ']ïÐ\\x042\\x8fZ®^\\x9aTT\\x07\\x14í䀔µDM@~¦¡$Öܨ\\x8b\\x93智©dÔ[½\\x8dh£\\xa0®^-UɪŪ', \"ù8\\xad\\x14<\\x99#ÏÏß\\x03ØÓÆ\\x053rö¦f·۠\\x163M¨\\x7f\\x11L'ÜTؒBõ\", '2\\x8ac\\x16\\x9bKM\\xad9P\\t\\x9a3M¢\\x9f(\\x01¨Ãf\\x94\\x903YåÓ?x\\x03ZòèIz\\x94U%\\x90\\x13\\x8d\\xadn\\x14ùX\\x0f¦ÒäSk\\x10\\x12\\x8a(Í\\x03\\x12\\x99NÍFy«°\\x15Í*\\x8crjP\\x07s\\x8av\\x07÷×ó¨å\\x02\\x03W\\x12=Ã9ÅSÝÏcRy\\x83º\\x0fÏÿ', '> -gOxT\"O<Ghè\\x19e]Ø\\x1d\\x81È8¦\\x07\\x87î8Çj\\x8e¾\\x87ñ\\x1e\\x93}\\x7fy\\x1c\\x96ðù\\x88!T\\'|kó\\x07s\\x8c;©èE\\x1e \\x8dáÐìcqµѭцAÃ,\\x0e\\x08ÈÈëé@\\x1f<R×Òڅ\\x95Åþ\\x87§Çn\\x9ec\\x85¶r7*ü¢\\x023\\x97*:\\x91^56\\x85©۩wµ|\\x0eIR\\x8f\\x81ë\\x84f4\\x01Ǔ\\x9a ßt?ù', 'Kæ\\x1a\\\\\\x8aֿÈ.ubjw\\x9b\\\\Àz²\\x1a±tÒ\\x1dΌKS\\x89k\\x9e\\x0fS\\x07¦᪳V];\\x8eçD\\x1f4ýõ\\x84Ó*\\x8a¥ö±Uɥí~ásªó)\\x17©®\\\\Ýÿ', '\\x0c\\x9dÏü\\x07ù\\x9aã®Îë¦~0ÁpG#\\x81\\x8aŖ·9ö\\x05¦1\\x8fã^¿L×I¦8h.-܅Ç͓Ð\\x0cóý \\x11Ü îۓ·hük', '\\x89BÌG\\x0c8÷¯F\\x9fÂyóø\\x9a:\\xa0ö¶@ù M!9Þý\\x14ÿ', 'r®\\t÷À5Þ\\x7fbØÿ', 'vüÃúV}\\x14ãeý\\x7fÀ\\x03@@\\x1bî:··zoÙ߿\\x15\\x9fV|çÇ$·Ô×7½ßNÀ#FWÐÕb*âÉ\\x11ê\\x19=Á,?*\\x8d±ۚê[\\x08\\xadNÎ(!ÇU\"\\x99YÉ\\\\d\\x99¢£Í\\x15\\x17µÆ-\\x1c\\x8aL\\x1eԹ=é', 'L\\x1aª=z\\x81f\\x8a\\x834¹\\xadwéªZ?Ì\\tsJXT\\x19Í!\\x1cTÚÝ;ÿ', 'Gæ*\\x06h\\x98þµ\\x17\\x96\\x99ÿ', '2a02:2168:f55:1b00:c589:6624:fb4', 'é\\x8fN\\x84~G����תûÿ', '2a00:1370:8120:29a1:e89b:bb06:6f', '=ér=h\\x01h¨÷\\nMޔ\\x01%\\x14Üã®?*;æ\\x80\\x03E\\x1fZ3éACzÓM:\\x98O~\\x94\\x08ÛÓãónwu\\x11.GÔð?\\xadG¯Üb\\x04\\x8bûÇ{û*\\x9csí\\x93úWK¤Ŷ\\x02笇¯°à\\x7fZòMfa<÷\\x1dÄ{#\\x1f÷×?®kh\\x99\\x9cTy', '2a00:1370:8120:29a1:f100:f51c:9a', '2a02:2698:4c27:6f12:2938:d5d9:3c', '2a02:2168:1b49:d900:71e7:9ac2:bf', ')٨Ê\\x069è}GùÅP\\x16:u¢ªåÇÞ\\x05\\x87÷\\x80þc52²·Ý þ<þ\"\\x80\\x1fE\\x14P\\x03OJE¦\\x92:P\\x05\\x02\\x1fQ\\x9a\\x92£4À\\ue51f2p\\x08\\x03Ì4\\x92\\x03¸g¸ÛÁÍO0 tþñ\\x86\\x1f\\x86\\x16«\\x9fº\\x9fï\\x8fֲ;c°Þ>_f©\\x0e\\x07J\\x8c\\x80\\x01ÇZ\\x97 ㎴\\x14', 'iY\\x98\\x0f¢¢ȧf¦̲Zô(cX¡\\x18ë³y÷$f¼ä×Cq~ª¬\\x8bóavý8ÅbïÐÐÃ,_æ=ù¦Õtaµ~\\x95.i\\x80´SsFh', \"#g¸ǹ®ªy^9\\x08\\x84©7\\x0c\\x179ʜ(\\\\pGÌ\\x1b'9Æ>µ\\xad4j¯\\x17\\x9b\\x80\\x81ÁT#8@½wg\\x1bI\\x03å��ØD³yÛ7H¬\\x18F\\x18\\x10ޅ\\x08ÏN§=\\x07j˚åآû\\xadâhëÊ]Da\\x18þìýÒwg<g\\x80MR¹vÈåÈG]à\", '2a01:540:2001:ad53:204f:349b:d5a', '½\\x16\\x02Y#cÉ(¤ýH¥ҿä', '2001:5b0:216a:be90:280:aeff:fe21', 'E\\x16\\x1a¼¶Hb(³Dsò7lõÁç\\x83Ü\\x10kÕÿ', '7\\x8d?\\x152\\x8féNì\\x0f\\x9füçõý\\x07øRy¯ëú\\x0fð¯}¸´_\\x9dzÆu\\x1f$ñ¥Æ\\x7fë\\x9aä\\x7f$üëCÅR\\tt»y\\x07G\\x9e6\\x1fF\\x8aB?J@|çç?¯è?\\x8f9ý\\x7fAþ\\x15ï\\x9aSM', '¹8_%¶}ñ9FÁ\\x19\\x1e\\x87ë\\\\ê-«鯒±ʹå\\x1bóY½R²·ù\\x92ÈóÄì\\x8fò²\\x92\\x08Àà\\x8f\\xa0óäþ÷è?º\\x0bMZæѥq²F\\x97næ\\x97s\\x1f\\x978èËë^¹¬êSiÞO\\x94±·\\x99¿;Ã\\x1f»·\\x18Ã/\\xad6ìÒäNþ\\x80ç$Òå½ü÷ÓSÁ<ù?½ú\\x0fð¥ûD¿Þý\\x07øW¦i\\x90Ai`÷òÆ%nv\\x03Ða¶\\x8cg8%º\\x9fJ½cª', '> -gOxT\"O<Ghè\\x19e]Ø\\x1d\\x81È8§q\\x1e!¹\\x87zMƾ\\x83ñ\\x1e\\x93}\\x7fy\\x1c\\x96ðù\\x88!T\\'|kó\\x07s\\x8c;©èE\\x1e \\x8dáÐìcqµѭцAÃ,\\x0e\\x08ÈÈëéH\\x0f\\x9f7\\x1a7\\x1aúOP²¸¿ÐôøíÓÌp¶ÎFå_\\x94@FråGR Ʀе;u.ö¯\\x81É*Qð=p\\x8cƘ\\x1c\\x8eãVÁàW¸h\\x7fò', '2a02:2168:e4e:2300:b6a:2db3:fc95', '2a00:1370:811e:814:b412:ad6a:eb6', '\\x06>\\x96\\x92\\x96±nß×a\\x8f¢\\x92\\x8a7ý', '«è%5g§ê\"Ze:\\x9b^\\x0bZ%Ø\\x06Ó)ù¨sT´Õ', '2a00:1370:8112:4467:a57c:479b:8e', '¸\\x1cô\\x18«c;º����C×҃D\\x8dP>@Ùn\\x99Àb?\\xadGæ¦\\x01ä\\x92z\\x7fõêN|¯ÃҲý8\\xa0ÑXÕ~¢¢§>sÔ~U\\x1fÍíHÀ', 'ti;B>Xc|tc÷¿\\x95s|֩\\u074c`sHE·\\x9c08µEr?ÖoÉúýßëXéמü\\x1aµóÿ', '2a02:2698:4c27:37bd:846c:d5bd:49', 'Á5ÎBÒÀìv|¤m*Ý\\x18\\x7f\\x88í^¬±yº\\x84\\x81¿\\x860Gåÿ', '>ݢÕ òæ\\x1b%\\x8clߟ\\x98\\x81Ó\\x1d3\\x9eÿ', 'ÕBÿ']\n"
     ]
    }
   ],
   "source": [
    "from src.wrangler.utils import check_invalid_ip_addresses\n",
    "\n",
    "# Check on the IP address values as well, we expect IP4 and IP6 addresses\n",
    "unique_client_ips = data_df['CLIENT_IP'].unique()\n",
    "check_invalid_ip_addresses(unique_client_ips)"
   ]
  },
  {
   "cell_type": "code",
   "execution_count": 20,
   "id": "215ec2c0-dd0d-437f-81bc-2b243bf8454b",
   "metadata": {},
   "outputs": [
    {
     "name": "stderr",
     "output_type": "stream",
     "text": [
      "14:38:31 INFO (utils:101): Found 0 invalid IP addresses:\n",
      "[]\n"
     ]
    }
   ],
   "source": [
    "from src.wrangler.utils import fix_broken_ipv6_addresses\n",
    "from src.wrangler.utils import check_invalid_ip_addresses\n",
    "\n",
    "# Fix the IPv6 addresses missing the digits and convert to int values for future ease of use\n",
    "data_df['CLIENT_IP'] = data_df['CLIENT_IP'].apply(fix_broken_ipv6_addresses)\n",
    "\n",
    "# Do the second check to make sure all are valid\n",
    "unique_client_ips = data_df['CLIENT_IP'].unique()\n",
    "check_invalid_ip_addresses(unique_client_ips)"
   ]
  },
  {
   "cell_type": "code",
   "execution_count": 21,
   "id": "42720864-cc37-4a7c-b30e-1408fb10a0f3",
   "metadata": {},
   "outputs": [],
   "source": [
    "# CLIENT_IP column conclusion:\n",
    "#    Is useful as too many requests from the same IP address can be\n",
    "#    a sign of an attack, also a malformed IP can be a sign of an attack\n",
    "#----------------------------------------------------------"
   ]
  },
  {
   "cell_type": "code",
   "execution_count": 22,
   "id": "4e782162-5a03-41bd-87b7-0a13708daea9",
   "metadata": {},
   "outputs": [],
   "source": [
    "#----------------------------------------------------------\n",
    "# Consider the CLIENT_USERAGENT column"
   ]
  },
  {
   "cell_type": "code",
   "execution_count": 23,
   "id": "fac6cc8d-54f7-4e08-bc8d-9d92a348abf7",
   "metadata": {},
   "outputs": [
    {
     "name": "stderr",
     "output_type": "stream",
     "text": [
      "14:38:31 INFO (1046836279:3): There are 557 distinct user agent values for IP: \"217.175.140.69\", namely:\n",
      "<StringArray>\n",
      "[                                                                                                                                                                                                                                                                       'Mozilla/5.0 (Windows NT 6.1) AppleWebKit/537.36 (KHTML, like Gecko) Chrome/52.0.2743.116 Safari/537.36',\n",
      "                                                                                                                                                                                                                                                                        'Mozilla/5.0 (Windows NT 5.1) AppleWebKit/537.36 (KHTML, like Gecko) Chrome/49.0.2623.112 Safari/537.36',\n",
      "                                                                                                                                                                                                                                                                        'Mozilla/5.0 (Windows NT 6.1) AppleWebKit/537.36 (KHTML, like Gecko) Chrome/49.0.2623.112 Safari/537.36',\n",
      "                                                                                                                                                                                                                                                                                                          'Mozilla/5.0 (Windows NT 6.1; WOW64; Trident/7.0; rv:11.0) like Gecko',\n",
      "                                                                                                                                                                                                                                                                                                        'Mozilla/5.0 (compatible; MSIE 9.0; Windows NT 6.1; WOW64; Trident/5.0)',\n",
      "                                                                                                                                                                                                                                                                         'Mozilla/5.0 (Windows NT 6.1) AppleWebKit/537.36 (KHTML, like Gecko) Chrome/62.0.3202.94 Safari/537.36',\n",
      "                                                                                                                                                                                                                                                                                                                 '*BgfBAAAA-EAAAEFBAAQLljjU6Vfh4i4fw0IhLFvB2RNU3BPAByQBAIAAKAA=',\n",
      "                                                                                                                                                                                                                                                                  'Mozilla/5.0 (Windows NT 6.1; WOW64) AppleWebKit/537.36 (KHTML, like Gecko) Chrome/54.0.2840.99 Safari/537.36',\n",
      "                                                                                                                                                                                                                                                                                                         'Mozilla/5.0 (Windows NT 10.0; WOW64; Trident/7.0; rv:11.0) like Gecko',\n",
      "                                                                                                                                                                                                                                                                                                                                    'MICROSOFT_DEVICE_METADATA_RETRIEVAL_CLIENT',\n",
      " ...\n",
      "                                                                                                                                                                                                                                                                                                                 '*BcfBAAAA-EAAAEFBAAQLljjU6Vfh4i4fw0IhLFvB2RNU3pGAByQBAIAAKAA=',\n",
      "                                                                                                                                                                                                                                        'Mozilla/5.0 (Windows NT 6.2; WOW64) AppleWebKit/537.22 (KHTML, like Gecko) Chrome/25.0.1364.172 YaBrowser/1.7.1364.22076 Safari/537.22',\n",
      "                                                                                                                                                                                                                                               'Mozilla/5.0 (Windows NT 6.1) AppleWebKit/537.36 (KHTML, like Gecko) Chrome/44.0.2403.157 YaBrowser/15.9.2403.2966 Safari/537.36',\n",
      "                                                                                                                                                                                                                                                                                                     'Mozilla/5.0 (Windows NT 6.1; Win64; x64; Trident/7.0; rv:11.0) like Gecko',\n",
      "                                                                                                                                                                                                                                                                                                                 '*BcfBAAAA-EAAAEFBAAQLljjUQjrIENYJawZVGRZ5QtyLyhMAV6gBAIAAKAA=',\n",
      "                                                                                                                                                                                                                                                                                                                 '*BcfBAAAA-EAAAEFBAAQLljjU6Vfh4i4fw0IhLFvB2RNU3xLAByQBAIAAKAA=',\n",
      "                                                                                                                                                                                                                                                                                                                 '*BcfBAAAA-EAAAEFBAAQLljjU6Vfh4i4fw0IhLFvB2RNU39JAByQBAIAAKAA=',\n",
      "                                                                                                                                                                                                                                                                                                                 '*BcfBAAAA-EAAAEFBAAQLljjU3srEMoknMVoVMx8OfkxAy-NAV6gBAIAAKAA=',\n",
      "                                                                                                                                                                                                                                                                                                                 '*BcfBAAAA-EAAAEFBAAQLljjU6Vfh4i4fw0IhLFvB2RNU3dNAByQBAIAAKAA=',\n",
      " '@bMrWDiTknAUbmxaWClXIOYYcM98pHOZZ0G3EHdloMovbyPw2NgCBRmdM8YTbQcKkuS0D8Pe2OUCN0Iv1zaBh6TSMYhnM2q9hDq9kRwpc4LBQKnzcq95Iakt4JkZD1XXAxT3pqySFhQoH3-swQUD0LOlNspR5cxRibguAb5EFrK7gYeE60waNlhzA4gH64eSPsmwf4JLv4wx9qHnDIiN--XOW4A_8ibKD9PJScPhwWDYvZCMqMZP8yn40IRypzrrk34NjB91fl4jobkjF3LjtJ3WZs5f7X8ATRtuP2t6HUkWHK542SqFI9yrSaR4UzOvOfvjsIn6X_M4i5gC9fMnmXTFSP7bbaeuOFl5zAy64BiC=']\n",
      "Length: 557, dtype: string\n"
     ]
    }
   ],
   "source": [
    "# List the unique user agents used from the IP address from which the maximum number of requests came\n",
    "unique_agent_values_mci = max_count_ip_df['CLIENT_USERAGENT'].unique()\n",
    "logger.info(f'There are {len(unique_agent_values_mci)} distinct user agent values for IP: \"{MAX_COUNT_IP}\", namely:\\n{unique_agent_values_mci}')"
   ]
  },
  {
   "cell_type": "code",
   "execution_count": 24,
   "id": "fe16299d-a8b6-419c-a17d-da4d54c5ee5a",
   "metadata": {},
   "outputs": [
    {
     "name": "stderr",
     "output_type": "stream",
     "text": [
      "14:38:31 INFO (1228870834:3): There are 6993 distinct user agent values for 57833 requests\n"
     ]
    }
   ],
   "source": [
    "# List the unique user agents used from All the IP addresses\n",
    "unique_agent_values_all = data_df['CLIENT_USERAGENT'].unique()\n",
    "logger.info(f'There are {len(unique_agent_values_all)} distinct user agent values for {len(data_df)} requests')"
   ]
  },
  {
   "cell_type": "code",
   "execution_count": 25,
   "id": "981c852a-965a-496b-af63-807c81626540",
   "metadata": {},
   "outputs": [
    {
     "name": "stderr",
     "output_type": "stream",
     "text": [
      "14:38:31 INFO (3889525522:4): There are: 639 distinct malformed user agent values present, which is 9.14 %!\n"
     ]
    }
   ],
   "source": [
    "from src.wrangler.utils import is_bad_user_agent\n",
    "\n",
    "broken_agent_values_all = [user_agent for user_agent in unique_agent_values_all if is_bad_user_agent(user_agent)]\n",
    "logger.info(f'There are: {len(broken_agent_values_all)} distinct malformed user agent values present, which is {round(len(broken_agent_values_all)*100/len(unique_agent_values_all), 2)} %!')"
   ]
  },
  {
   "cell_type": "code",
   "execution_count": 26,
   "id": "70576d0a-a744-4a4d-b7ff-c904466e1da6",
   "metadata": {},
   "outputs": [
    {
     "name": "stderr",
     "output_type": "stream",
     "text": [
      "14:38:31 INFO (1949312520:3): There are: 337 distinct malformed user agent values for IP: \"217.175.140.69\" present, which is 60.5 %!\n"
     ]
    }
   ],
   "source": [
    "# Check on the percent of malformed user agent values for maximum count IP:\n",
    "broken_agent_values_mci = [user_agent for user_agent in unique_agent_values_mci if is_bad_user_agent(user_agent)]\n",
    "logger.info(f'There are: {len(broken_agent_values_mci)} distinct malformed user agent values for IP: \"{MAX_COUNT_IP}\" present, which is {round(len(broken_agent_values_mci)*100/len(unique_agent_values_mci), 2)} %!')"
   ]
  },
  {
   "cell_type": "code",
   "execution_count": 27,
   "id": "3f82f95b-fba0-4340-b9e8-2f773237932c",
   "metadata": {},
   "outputs": [],
   "source": [
    "from src.wrangler.utils import is_good_user_agent\n",
    "\n",
    "# Extend data with the validity flag for the user agent as it may be a good indicator of the attack\n",
    "# The percent of malformed user agent values is significantly higher for the IP from which most requests came\n",
    "data_df['IS_USERAGENT_VALID'] = data_df['CLIENT_USERAGENT'].apply(is_good_user_agent)"
   ]
  },
  {
   "cell_type": "code",
   "execution_count": 28,
   "id": "1e9adb54-7830-4689-9cae-9f7b4eb85510",
   "metadata": {},
   "outputs": [],
   "source": [
    "# CLIENT_USERAGENT column conclusion:\n",
    "#    Is useful, as malformed user agents can be a sign of an attack\n",
    "#    Also, using multiple clients from the same IP address or a\n",
    "#    specific user agent type used.\n",
    "#----------------------------------------------------------"
   ]
  },
  {
   "cell_type": "code",
   "execution_count": 29,
   "id": "70067165-0fa6-46a3-9363-5730893201a1",
   "metadata": {},
   "outputs": [],
   "source": [
    "#----------------------------------------------------------\n",
    "# Consider the REQUEST_SIZE column"
   ]
  },
  {
   "cell_type": "code",
   "execution_count": 30,
   "id": "fb6af829-fa61-4d47-9efc-83dc26d653eb",
   "metadata": {},
   "outputs": [
    {
     "data": {
      "text/plain": [
       "<AxesSubplot: >"
      ]
     },
     "execution_count": 30,
     "metadata": {},
     "output_type": "execute_result"
    },
    {
     "data": {
      "image/png": "[encoded data removed]",
      "text/plain": [
       "<Figure size 640x480 with 1 Axes>"
      ]
     },
     "metadata": {},
     "output_type": "display_data"
    }
   ],
   "source": [
    "# Check on the distribution of the request sizes, there are clear outliers here\n",
    "# The request sizes go up to 10 megabytes which may be an indicator of an attack\n",
    "data_df['REQUEST_SIZE'].plot.box()"
   ]
  },
  {
   "cell_type": "code",
   "execution_count": 31,
   "id": "963051aa-75d1-44cb-b1a8-3d3e6d632cd5",
   "metadata": {},
   "outputs": [
    {
     "data": {
      "image/png": "[encoded data removed]",
      "text/plain": [
       "<Figure size 1500x500 with 1 Axes>"
      ]
     },
     "metadata": {},
     "output_type": "display_data"
    }
   ],
   "source": [
    "# Given most of the requests are small\n",
    "fig, ax = plt.subplots(figsize=(15, 5))\n",
    "_ = plt.hist(data_df['REQUEST_SIZE'], log=True, bins=500)"
   ]
  },
  {
   "cell_type": "code",
   "execution_count": 32,
   "id": "d6e9e3c0-b141-417c-abe3-bb12f962cb1a",
   "metadata": {},
   "outputs": [],
   "source": [
    "# REQUEST_SIZE column conclusion:\n",
    "#    Is useful, as too little or too much request data can be a sign of an attack.\n",
    "#---------------------------------------------------------"
   ]
  },
  {
   "cell_type": "code",
   "execution_count": 33,
   "id": "d114eac7-5605-46e9-8e52-89897d9f4081",
   "metadata": {},
   "outputs": [],
   "source": [
    "#----------------------------------------------------------\n",
    "# Consider the RESPONSE_CODE column\n",
    "#\n",
    "# According to:\n",
    "#    https://developer.mozilla.org/en-US/docs/Web/HTTP/Status\n",
    "# The valid response code ranges are:\n",
    "#   Informational responses (100 – 199)\n",
    "#   Successful responses (200 – 299)\n",
    "#   Redirection messages (300 – 399)\n",
    "#   Client error responses (400 – 499)\n",
    "#   Server error responses (500 – 599)"
   ]
  },
  {
   "cell_type": "code",
   "execution_count": 34,
   "id": "ba0b8a85-5a35-4270-b38b-b204e4b5d999",
   "metadata": {},
   "outputs": [
    {
     "name": "stderr",
     "output_type": "stream",
     "text": [
      "14:38:32 INFO (511511623:3): There are 20 distinct response codes present\n"
     ]
    },
    {
     "data": {
      "text/plain": [
       "200    25771\n",
       "404    20367\n",
       "302     6630\n",
       "403     1156\n",
       "304      940\n",
       "504      700\n",
       "301      584\n",
       "502      558\n",
       "500      318\n",
       "400      212\n",
       "Name: RESPONSE_CODE, dtype: int64"
      ]
     },
     "execution_count": 34,
     "metadata": {},
     "output_type": "execute_result"
    }
   ],
   "source": [
    "# Check on the RESPONSE_CODE distinct value counts\n",
    "resp_codes_df = data_df['RESPONSE_CODE'].value_counts()\n",
    "logger.info(f'There are {len(resp_codes_df)} distinct response codes present')\n",
    "resp_codes_df.head(10)"
   ]
  },
  {
   "cell_type": "code",
   "execution_count": 35,
   "id": "ecab3b25-3663-4e55-942b-3d4acb3d7420",
   "metadata": {},
   "outputs": [
    {
     "name": "stderr",
     "output_type": "stream",
     "text": [
      "14:38:32 INFO (970884873:3): The min/max values for the available response codes are: 200/504\n",
      "14:38:32 INFO (970884873:6): The number of invalid response codes present below/above valid ranges is: 0/0\n"
     ]
    }
   ],
   "source": [
    "# Let us check on the codes we have in the data\n",
    "resp_codes = data_df['RESPONSE_CODE'].unique()\n",
    "logger.info(f'The min/max values for the available response codes are: {resp_codes.min()}/{resp_codes.max()}')\n",
    "num_inv_low = np.sum(data_df['RESPONSE_CODE'] < 100)\n",
    "num_inv_high = np.sum(data_df['RESPONSE_CODE'] > 599)\n",
    "logger.info(f'The number of invalid response codes present below/above valid ranges is: {num_inv_low}/{num_inv_high}')"
   ]
  },
  {
   "cell_type": "code",
   "execution_count": 36,
   "id": "cd18ce90-07e6-4c06-a94a-1142b8a215ef",
   "metadata": {},
   "outputs": [
    {
     "data": {
      "image/png": "[encoded data removed]",
      "text/plain": [
       "<Figure size 1500x500 with 1 Axes>"
      ]
     },
     "metadata": {},
     "output_type": "display_data"
    }
   ],
   "source": [
    "# Let us visualize the response codes\n",
    "fig, ax = plt.subplots(figsize=(15, 5))\n",
    "_ = plt.bar(x=resp_codes_df.index, height=resp_codes_df.values)"
   ]
  },
  {
   "cell_type": "code",
   "execution_count": 37,
   "id": "430a2d08-ead1-4427-8483-7cf1857d6295",
   "metadata": {},
   "outputs": [],
   "source": [
    "# RESPONSE_CODE column conclusion:\n",
    "#    Is useful as a negative (error response code) server response may have correlation with the attack\n",
    "#    In the data at hand it is not clear how much of the data corresponds to the actual attacks\n",
    "#---------------------------------------------------------"
   ]
  },
  {
   "cell_type": "code",
   "execution_count": 38,
   "id": "5979920b-a661-4a6f-8ca7-5a95a1b76147",
   "metadata": {},
   "outputs": [],
   "source": [
    "#----------------------------------------------------------\n",
    "# Consider the MATCHED_VARIABLE_SRC column"
   ]
  },
  {
   "cell_type": "code",
   "execution_count": 39,
   "id": "25ba3455-40f0-4b5e-a266-5d4081f05a29",
   "metadata": {},
   "outputs": [
    {
     "name": "stderr",
     "output_type": "stream",
     "text": [
      "14:38:32 INFO (2379774332:5): The are min/max SRC values per row: 1/2\n",
      "14:38:32 INFO (2379774332:6): There are 1705/57833 rows with more than 1 SRC value\n"
     ]
    }
   ],
   "source": [
    "from src.wrangler.utils import split_data_values\n",
    "\n",
    "# Count the maximum number of SRC entries per row\n",
    "src_counts = data_df['MATCHED_VARIABLE_SRC'].apply(lambda val : len(split_data_values(val)))\n",
    "logger.info(f'The are min/max SRC values per row: {src_counts.min()}/{src_counts.max()}')\n",
    "logger.info(f'There are {np.sum(src_counts > 1)}/{len(data_df)} rows with more than 1 SRC value')"
   ]
  },
  {
   "cell_type": "code",
   "execution_count": 40,
   "id": "6bd9cc22-7d7f-45cd-b305-fafffed2854e",
   "metadata": {},
   "outputs": [
    {
     "data": {
      "text/html": [
       "<div>\n",
       "<style scoped>\n",
       "    .dataframe tbody tr th:only-of-type {\n",
       "        vertical-align: middle;\n",
       "    }\n",
       "\n",
       "    .dataframe tbody tr th {\n",
       "        vertical-align: top;\n",
       "    }\n",
       "\n",
       "    .dataframe thead th {\n",
       "        text-align: right;\n",
       "    }\n",
       "</style>\n",
       "<table border=\"1\" class=\"dataframe\">\n",
       "  <thead>\n",
       "    <tr style=\"text-align: right;\">\n",
       "      <th></th>\n",
       "      <th>CLIENT_IP</th>\n",
       "      <th>MATCHED_VARIABLE_SRC</th>\n",
       "    </tr>\n",
       "  </thead>\n",
       "  <tbody>\n",
       "    <tr>\n",
       "      <th>0</th>\n",
       "      <td>2002:0000:0000:0000:0000:0000:bc8a:5c37</td>\n",
       "      <td>[REQUEST_URI]</td>\n",
       "    </tr>\n",
       "    <tr>\n",
       "      <th>1</th>\n",
       "      <td>2002:0000:0000:0000:0000:0000:5d9e:d783</td>\n",
       "      <td>[REQUEST_GET_ARGS]</td>\n",
       "    </tr>\n",
       "    <tr>\n",
       "      <th>2</th>\n",
       "      <td>2002:0000:0000:0000:0000:0000:b07b:f040</td>\n",
       "      <td>[REQUEST_PATH]</td>\n",
       "    </tr>\n",
       "    <tr>\n",
       "      <th>3</th>\n",
       "      <td>2002:0000:0000:0000:0000:0000:494e:513f</td>\n",
       "      <td>[REQUEST_GET_ARGS]</td>\n",
       "    </tr>\n",
       "    <tr>\n",
       "      <th>4</th>\n",
       "      <td>2002:0000:0000:0000:0000:0000:4266:092c</td>\n",
       "      <td>[REQUEST_GET_ARGS]</td>\n",
       "    </tr>\n",
       "    <tr>\n",
       "      <th>5</th>\n",
       "      <td>2002:0000:0000:0000:0000:0000:4fb7:57f7</td>\n",
       "      <td>[REQUEST_HEADERS]</td>\n",
       "    </tr>\n",
       "    <tr>\n",
       "      <th>6</th>\n",
       "      <td>2002:0000:0000:0000:0000:0000:58c6:c9f5</td>\n",
       "      <td>[REQUEST_GET_ARGS]</td>\n",
       "    </tr>\n",
       "    <tr>\n",
       "      <th>7</th>\n",
       "      <td>2002:0000:0000:0000:0000:0000:4d48:8eaa</td>\n",
       "      <td>[REQUEST_GET_ARGS]</td>\n",
       "    </tr>\n",
       "    <tr>\n",
       "      <th>8</th>\n",
       "      <td>2002:0000:0000:0000:0000:0000:5e32:c099</td>\n",
       "      <td>[REQUEST_METHOD, REQUEST_CONTE]</td>\n",
       "    </tr>\n",
       "    <tr>\n",
       "      <th>9</th>\n",
       "      <td>2002:0000:0000:0000:0000:0000:53f6:8d36</td>\n",
       "      <td>[REQUEST_GET_ARGS]</td>\n",
       "    </tr>\n",
       "  </tbody>\n",
       "</table>\n",
       "</div>"
      ],
      "text/plain": [
       "                                 CLIENT_IP             MATCHED_VARIABLE_SRC\n",
       "0  2002:0000:0000:0000:0000:0000:bc8a:5c37                    [REQUEST_URI]\n",
       "1  2002:0000:0000:0000:0000:0000:5d9e:d783               [REQUEST_GET_ARGS]\n",
       "2  2002:0000:0000:0000:0000:0000:b07b:f040                   [REQUEST_PATH]\n",
       "3  2002:0000:0000:0000:0000:0000:494e:513f               [REQUEST_GET_ARGS]\n",
       "4  2002:0000:0000:0000:0000:0000:4266:092c               [REQUEST_GET_ARGS]\n",
       "5  2002:0000:0000:0000:0000:0000:4fb7:57f7                [REQUEST_HEADERS]\n",
       "6  2002:0000:0000:0000:0000:0000:58c6:c9f5               [REQUEST_GET_ARGS]\n",
       "7  2002:0000:0000:0000:0000:0000:4d48:8eaa               [REQUEST_GET_ARGS]\n",
       "8  2002:0000:0000:0000:0000:0000:5e32:c099  [REQUEST_METHOD, REQUEST_CONTE]\n",
       "9  2002:0000:0000:0000:0000:0000:53f6:8d36               [REQUEST_GET_ARGS]"
      ]
     },
     "execution_count": 40,
     "metadata": {},
     "output_type": "execute_result"
    }
   ],
   "source": [
    "# Split into first and second SRC column\n",
    "data_df['MATCHED_VARIABLE_SRC'] = data_df['MATCHED_VARIABLE_SRC'].apply(split_data_values)\n",
    "data_df[['CLIENT_IP', 'MATCHED_VARIABLE_SRC']].head(10)"
   ]
  },
  {
   "cell_type": "code",
   "execution_count": 41,
   "id": "c9d52293-b32b-42a4-97dc-50bcfab5c01d",
   "metadata": {},
   "outputs": [
    {
     "data": {
      "text/plain": [
       "array(['REQUEST_URI', 'REQUEST_GET_ARGS', 'REQUEST_PATH',\n",
       "       'REQUEST_HEADERS', 'REQUEST_METHOD', 'REQUEST_COOKIES',\n",
       "       'REQUEST_ARGS_KEYS', 'RESPONSE_HEADERS', 'REQUEST_POST_ARGS', '',\n",
       "       'REQUEST_JSON', 'REQUEST_XML', 'REQUEST_ARGS', 'CLIENT_USERAGENT',\n",
       "       'RESPONSE_BODY', 'CLIENT_SESSION_ID', 'REQUEST_CONTENT_TYPE',\n",
       "       'REQUEST_QUERY', 'REQUEST_FILES', 'CLIENT_IP'], dtype=object)"
      ]
     },
     "execution_count": 41,
     "metadata": {},
     "output_type": "execute_result"
    }
   ],
   "source": [
    "from src.wrangler.utils import get_first_val\n",
    "\n",
    "# Check on the distinct SRC values\n",
    "dist_src_vals = data_df['MATCHED_VARIABLE_SRC'].apply(get_first_val).unique()\n",
    "dist_src_vals"
   ]
  },
  {
   "cell_type": "code",
   "execution_count": 42,
   "id": "ab9d5ae5-18fa-4d42-8a35-5928450b36f6",
   "metadata": {},
   "outputs": [
    {
     "data": {
      "text/plain": [
       "array(['', 'REQUEST_CONTE', 'REQUEST_HEADE', 'REQUEST_ARGS'], dtype=object)"
      ]
     },
     "execution_count": 42,
     "metadata": {},
     "output_type": "execute_result"
    }
   ],
   "source": [
    "from src.wrangler.utils import get_second_val\n",
    "\n",
    "# Check on the distinct secondary SRC values\n",
    "# Notice that some of them are truncated and need to be restored\n",
    "dist_sec_src_vals = data_df['MATCHED_VARIABLE_SRC'].apply(get_second_val).unique()\n",
    "dist_sec_src_vals"
   ]
  },
  {
   "cell_type": "code",
   "execution_count": 43,
   "id": "f99ee11f-7b77-45b2-9516-2f233413a591",
   "metadata": {},
   "outputs": [
    {
     "name": "stderr",
     "output_type": "stream",
     "text": [
      "14:38:32 INFO (utils:51): Found the substitute: \"REQUEST_CONTE\" -> \"REQUEST_CONTENT_TYPE\", penalized Levenshtein similarity score: 7\n",
      "14:38:32 INFO (utils:51): Found the substitute: \"REQUEST_HEADE\" -> \"REQUEST_HEADERS\", penalized Levenshtein similarity score: 2\n",
      "14:38:32 INFO (utils:51): Found the substitute: \"REQUEST_ARGS\" -> \"REQUEST_ARGS\", penalized Levenshtein similarity score: 0\n"
     ]
    }
   ],
   "source": [
    "from src.wrangler.utils import get_sec_src_value_substitute\n",
    "\n",
    "# Create mapping for secondary values\n",
    "sec_to_src_map = {sec_src_val : get_sec_src_value_substitute(sec_src_val) for sec_src_val in dist_sec_src_vals}"
   ]
  },
  {
   "cell_type": "code",
   "execution_count": 44,
   "id": "25faf753-7479-4da6-916e-83a277e5c233",
   "metadata": {},
   "outputs": [
    {
     "data": {
      "text/html": [
       "<div>\n",
       "<style scoped>\n",
       "    .dataframe tbody tr th:only-of-type {\n",
       "        vertical-align: middle;\n",
       "    }\n",
       "\n",
       "    .dataframe tbody tr th {\n",
       "        vertical-align: top;\n",
       "    }\n",
       "\n",
       "    .dataframe thead th {\n",
       "        text-align: right;\n",
       "    }\n",
       "</style>\n",
       "<table border=\"1\" class=\"dataframe\">\n",
       "  <thead>\n",
       "    <tr style=\"text-align: right;\">\n",
       "      <th></th>\n",
       "      <th>CLIENT_IP</th>\n",
       "      <th>MATCHED_VARIABLE_SRC</th>\n",
       "    </tr>\n",
       "  </thead>\n",
       "  <tbody>\n",
       "    <tr>\n",
       "      <th>0</th>\n",
       "      <td>2002:0000:0000:0000:0000:0000:bc8a:5c37</td>\n",
       "      <td>[REQUEST_URI]</td>\n",
       "    </tr>\n",
       "    <tr>\n",
       "      <th>1</th>\n",
       "      <td>2002:0000:0000:0000:0000:0000:5d9e:d783</td>\n",
       "      <td>[REQUEST_GET_ARGS]</td>\n",
       "    </tr>\n",
       "    <tr>\n",
       "      <th>2</th>\n",
       "      <td>2002:0000:0000:0000:0000:0000:b07b:f040</td>\n",
       "      <td>[REQUEST_PATH]</td>\n",
       "    </tr>\n",
       "    <tr>\n",
       "      <th>3</th>\n",
       "      <td>2002:0000:0000:0000:0000:0000:494e:513f</td>\n",
       "      <td>[REQUEST_GET_ARGS]</td>\n",
       "    </tr>\n",
       "    <tr>\n",
       "      <th>4</th>\n",
       "      <td>2002:0000:0000:0000:0000:0000:4266:092c</td>\n",
       "      <td>[REQUEST_GET_ARGS]</td>\n",
       "    </tr>\n",
       "    <tr>\n",
       "      <th>5</th>\n",
       "      <td>2002:0000:0000:0000:0000:0000:4fb7:57f7</td>\n",
       "      <td>[REQUEST_HEADERS]</td>\n",
       "    </tr>\n",
       "    <tr>\n",
       "      <th>6</th>\n",
       "      <td>2002:0000:0000:0000:0000:0000:58c6:c9f5</td>\n",
       "      <td>[REQUEST_GET_ARGS]</td>\n",
       "    </tr>\n",
       "    <tr>\n",
       "      <th>7</th>\n",
       "      <td>2002:0000:0000:0000:0000:0000:4d48:8eaa</td>\n",
       "      <td>[REQUEST_GET_ARGS]</td>\n",
       "    </tr>\n",
       "    <tr>\n",
       "      <th>8</th>\n",
       "      <td>2002:0000:0000:0000:0000:0000:5e32:c099</td>\n",
       "      <td>[REQUEST_METHOD, REQUEST_CONTENT_TYPE]</td>\n",
       "    </tr>\n",
       "    <tr>\n",
       "      <th>9</th>\n",
       "      <td>2002:0000:0000:0000:0000:0000:53f6:8d36</td>\n",
       "      <td>[REQUEST_GET_ARGS]</td>\n",
       "    </tr>\n",
       "  </tbody>\n",
       "</table>\n",
       "</div>"
      ],
      "text/plain": [
       "                                 CLIENT_IP  \\\n",
       "0  2002:0000:0000:0000:0000:0000:bc8a:5c37   \n",
       "1  2002:0000:0000:0000:0000:0000:5d9e:d783   \n",
       "2  2002:0000:0000:0000:0000:0000:b07b:f040   \n",
       "3  2002:0000:0000:0000:0000:0000:494e:513f   \n",
       "4  2002:0000:0000:0000:0000:0000:4266:092c   \n",
       "5  2002:0000:0000:0000:0000:0000:4fb7:57f7   \n",
       "6  2002:0000:0000:0000:0000:0000:58c6:c9f5   \n",
       "7  2002:0000:0000:0000:0000:0000:4d48:8eaa   \n",
       "8  2002:0000:0000:0000:0000:0000:5e32:c099   \n",
       "9  2002:0000:0000:0000:0000:0000:53f6:8d36   \n",
       "\n",
       "                     MATCHED_VARIABLE_SRC  \n",
       "0                           [REQUEST_URI]  \n",
       "1                      [REQUEST_GET_ARGS]  \n",
       "2                          [REQUEST_PATH]  \n",
       "3                      [REQUEST_GET_ARGS]  \n",
       "4                      [REQUEST_GET_ARGS]  \n",
       "5                       [REQUEST_HEADERS]  \n",
       "6                      [REQUEST_GET_ARGS]  \n",
       "7                      [REQUEST_GET_ARGS]  \n",
       "8  [REQUEST_METHOD, REQUEST_CONTENT_TYPE]  \n",
       "9                      [REQUEST_GET_ARGS]  "
      ]
     },
     "execution_count": 44,
     "metadata": {},
     "output_type": "execute_result"
    }
   ],
   "source": [
    "# Apply the substitution\n",
    "fix_second_value = lambda lst : [lst[0], sec_to_src_map[lst[1]]] if len(lst) > 1 else lst\n",
    "data_df['MATCHED_VARIABLE_SRC'] = data_df['MATCHED_VARIABLE_SRC'].apply(fix_second_value)\n",
    "data_df[['CLIENT_IP', 'MATCHED_VARIABLE_SRC']].head(10)"
   ]
  },
  {
   "cell_type": "code",
   "execution_count": 45,
   "id": "7eef4801-3762-46ee-a625-ff8208e6c9be",
   "metadata": {},
   "outputs": [],
   "source": [
    "# MATCHED_VARIABLE_SRC columns conclusion:\n",
    "#    Are useful as contain specification of the request type that may be correlated with the attack types.\n",
    "#---------------------------------------------------------"
   ]
  },
  {
   "cell_type": "code",
   "execution_count": 46,
   "id": "75cd8f5b-2825-4a5c-83ea-f89e75b2c6f5",
   "metadata": {},
   "outputs": [],
   "source": [
    "#----------------------------------------------------------\n",
    "# Consider the MATCHED_VARIABLE_NAME column"
   ]
  },
  {
   "cell_type": "code",
   "execution_count": 47,
   "id": "913de6fe-1ab1-419b-99ce-9fb33509a758",
   "metadata": {},
   "outputs": [],
   "source": [
    "from src.wrangler.utils import clean_up_variable_names\n",
    "\n",
    "# Remove the repeated MATCHED_VARIABLE_SRC column values from MATCHED_VARIABLE_NAME\n",
    "data_df['MATCHED_VARIABLE_NAME'] = data_df.apply(clean_up_variable_names, axis=1)"
   ]
  },
  {
   "cell_type": "code",
   "execution_count": 48,
   "id": "799db184-60b2-447a-8a2c-056dc41caeb0",
   "metadata": {},
   "outputs": [
    {
     "name": "stderr",
     "output_type": "stream",
     "text": [
      "14:38:33 INFO (2431830386:3): The are min/max NAME values per row: 1/11\n",
      "14:38:33 INFO (2431830386:4): There are 394/57833 rows with more than 1 NAME value\n"
     ]
    }
   ],
   "source": [
    "# Count the maximum number of NAME entries per row\n",
    "src_counts = data_df['MATCHED_VARIABLE_NAME'].apply(lambda val : len(split_data_values(val)))\n",
    "logger.info(f'The are min/max NAME values per row: {src_counts.min()}/{src_counts.max()}')\n",
    "logger.info(f'There are {np.sum(src_counts > 1)}/{len(data_df)} rows with more than 1 NAME value')"
   ]
  },
  {
   "cell_type": "code",
   "execution_count": 49,
   "id": "8fafff48-a0b0-4cd9-bcc2-d417c58af0dd",
   "metadata": {},
   "outputs": [],
   "source": [
    "from src.wrangler.utils import fix_variable_names\n",
    "\n",
    "# Split into distinct variable names and fix\n",
    "data_df['MATCHED_VARIABLE_NAME'] = data_df['MATCHED_VARIABLE_NAME'].apply(lambda names : fix_variable_names(names))"
   ]
  },
  {
   "cell_type": "code",
   "execution_count": 50,
   "id": "685869bf-3256-4b51-ad13-02148ad9452a",
   "metadata": {},
   "outputs": [
    {
     "data": {
      "text/html": [
       "<div>\n",
       "<style scoped>\n",
       "    .dataframe tbody tr th:only-of-type {\n",
       "        vertical-align: middle;\n",
       "    }\n",
       "\n",
       "    .dataframe tbody tr th {\n",
       "        vertical-align: top;\n",
       "    }\n",
       "\n",
       "    .dataframe thead th {\n",
       "        text-align: right;\n",
       "    }\n",
       "</style>\n",
       "<table border=\"1\" class=\"dataframe\">\n",
       "  <thead>\n",
       "    <tr style=\"text-align: right;\">\n",
       "      <th></th>\n",
       "      <th>CLIENT_IP</th>\n",
       "      <th>MATCHED_VARIABLE_SRC</th>\n",
       "      <th>MATCHED_VARIABLE_NAME</th>\n",
       "    </tr>\n",
       "  </thead>\n",
       "  <tbody>\n",
       "    <tr>\n",
       "      <th>0</th>\n",
       "      <td>2002:0000:0000:0000:0000:0000:bc8a:5c37</td>\n",
       "      <td>[REQUEST_URI]</td>\n",
       "      <td>[]</td>\n",
       "    </tr>\n",
       "    <tr>\n",
       "      <th>1</th>\n",
       "      <td>2002:0000:0000:0000:0000:0000:5d9e:d783</td>\n",
       "      <td>[REQUEST_GET_ARGS]</td>\n",
       "      <td>[url]</td>\n",
       "    </tr>\n",
       "    <tr>\n",
       "      <th>2</th>\n",
       "      <td>2002:0000:0000:0000:0000:0000:b07b:f040</td>\n",
       "      <td>[REQUEST_PATH]</td>\n",
       "      <td>[]</td>\n",
       "    </tr>\n",
       "    <tr>\n",
       "      <th>3</th>\n",
       "      <td>2002:0000:0000:0000:0000:0000:494e:513f</td>\n",
       "      <td>[REQUEST_GET_ARGS]</td>\n",
       "      <td>[url]</td>\n",
       "    </tr>\n",
       "    <tr>\n",
       "      <th>4</th>\n",
       "      <td>2002:0000:0000:0000:0000:0000:4266:092c</td>\n",
       "      <td>[REQUEST_GET_ARGS]</td>\n",
       "      <td>[_JQUERY_NO_CHACHE_]</td>\n",
       "    </tr>\n",
       "    <tr>\n",
       "      <th>5</th>\n",
       "      <td>2002:0000:0000:0000:0000:0000:4fb7:57f7</td>\n",
       "      <td>[REQUEST_HEADERS]</td>\n",
       "      <td>[User-Agent]</td>\n",
       "    </tr>\n",
       "    <tr>\n",
       "      <th>6</th>\n",
       "      <td>2002:0000:0000:0000:0000:0000:58c6:c9f5</td>\n",
       "      <td>[REQUEST_GET_ARGS]</td>\n",
       "      <td>[rid]</td>\n",
       "    </tr>\n",
       "    <tr>\n",
       "      <th>7</th>\n",
       "      <td>2002:0000:0000:0000:0000:0000:4d48:8eaa</td>\n",
       "      <td>[REQUEST_GET_ARGS]</td>\n",
       "      <td>[_JQUERY_NO_CHACHE_]</td>\n",
       "    </tr>\n",
       "    <tr>\n",
       "      <th>8</th>\n",
       "      <td>2002:0000:0000:0000:0000:0000:5e32:c099</td>\n",
       "      <td>[REQUEST_METHOD, REQUEST_CONTENT_TYPE]</td>\n",
       "      <td>[]</td>\n",
       "    </tr>\n",
       "    <tr>\n",
       "      <th>9</th>\n",
       "      <td>2002:0000:0000:0000:0000:0000:53f6:8d36</td>\n",
       "      <td>[REQUEST_GET_ARGS]</td>\n",
       "      <td>[_JQUERY_NO_CHACHE_]</td>\n",
       "    </tr>\n",
       "    <tr>\n",
       "      <th>10</th>\n",
       "      <td>2002:0000:0000:0000:0000:0000:d557:f048</td>\n",
       "      <td>[REQUEST_COOKIES]</td>\n",
       "      <td>[LtpaToken2]</td>\n",
       "    </tr>\n",
       "    <tr>\n",
       "      <th>11</th>\n",
       "      <td>2002:0000:0000:0000:0000:0000:d9af:8c45</td>\n",
       "      <td>[REQUEST_COOKIES]</td>\n",
       "      <td>[user_id]</td>\n",
       "    </tr>\n",
       "    <tr>\n",
       "      <th>12</th>\n",
       "      <td>2002:0000:0000:0000:0000:0000:82c1:3305</td>\n",
       "      <td>[REQUEST_URI]</td>\n",
       "      <td>[]</td>\n",
       "    </tr>\n",
       "    <tr>\n",
       "      <th>13</th>\n",
       "      <td>2002:0000:0000:0000:0000:0000:d59f:d449</td>\n",
       "      <td>[REQUEST_URI]</td>\n",
       "      <td>[]</td>\n",
       "    </tr>\n",
       "    <tr>\n",
       "      <th>14</th>\n",
       "      <td>2002:0000:0000:0000:0000:0000:b070:eae7</td>\n",
       "      <td>[REQUEST_GET_ARGS]</td>\n",
       "      <td>[_JQUERY_NO_CHACHE_]</td>\n",
       "    </tr>\n",
       "    <tr>\n",
       "      <th>15</th>\n",
       "      <td>2002:0000:0000:0000:0000:0000:d9af:8c45</td>\n",
       "      <td>[REQUEST_HEADERS]</td>\n",
       "      <td>[If-Modified-Since]</td>\n",
       "    </tr>\n",
       "    <tr>\n",
       "      <th>16</th>\n",
       "      <td>2002:0000:0000:0000:0000:0000:6dfc:5551</td>\n",
       "      <td>[REQUEST_GET_ARGS]</td>\n",
       "      <td>[_JQUERY_NO_CHACHE_]</td>\n",
       "    </tr>\n",
       "    <tr>\n",
       "      <th>17</th>\n",
       "      <td>2002:0000:0000:0000:0000:0000:d9af:8c45</td>\n",
       "      <td>[REQUEST_GET_ARGS]</td>\n",
       "      <td>[callback_uid]</td>\n",
       "    </tr>\n",
       "    <tr>\n",
       "      <th>18</th>\n",
       "      <td>2002:0000:0000:0000:0000:0000:54d6:3623</td>\n",
       "      <td>[REQUEST_HEADERS]</td>\n",
       "      <td>[X-csrftoken]</td>\n",
       "    </tr>\n",
       "    <tr>\n",
       "      <th>19</th>\n",
       "      <td>2002:0000:0000:0000:0000:0000:538b:9320</td>\n",
       "      <td>[REQUEST_GET_ARGS]</td>\n",
       "      <td>[_JQUERY_NO_CHACHE_]</td>\n",
       "    </tr>\n",
       "  </tbody>\n",
       "</table>\n",
       "</div>"
      ],
      "text/plain": [
       "                                  CLIENT_IP  \\\n",
       "0   2002:0000:0000:0000:0000:0000:bc8a:5c37   \n",
       "1   2002:0000:0000:0000:0000:0000:5d9e:d783   \n",
       "2   2002:0000:0000:0000:0000:0000:b07b:f040   \n",
       "3   2002:0000:0000:0000:0000:0000:494e:513f   \n",
       "4   2002:0000:0000:0000:0000:0000:4266:092c   \n",
       "5   2002:0000:0000:0000:0000:0000:4fb7:57f7   \n",
       "6   2002:0000:0000:0000:0000:0000:58c6:c9f5   \n",
       "7   2002:0000:0000:0000:0000:0000:4d48:8eaa   \n",
       "8   2002:0000:0000:0000:0000:0000:5e32:c099   \n",
       "9   2002:0000:0000:0000:0000:0000:53f6:8d36   \n",
       "10  2002:0000:0000:0000:0000:0000:d557:f048   \n",
       "11  2002:0000:0000:0000:0000:0000:d9af:8c45   \n",
       "12  2002:0000:0000:0000:0000:0000:82c1:3305   \n",
       "13  2002:0000:0000:0000:0000:0000:d59f:d449   \n",
       "14  2002:0000:0000:0000:0000:0000:b070:eae7   \n",
       "15  2002:0000:0000:0000:0000:0000:d9af:8c45   \n",
       "16  2002:0000:0000:0000:0000:0000:6dfc:5551   \n",
       "17  2002:0000:0000:0000:0000:0000:d9af:8c45   \n",
       "18  2002:0000:0000:0000:0000:0000:54d6:3623   \n",
       "19  2002:0000:0000:0000:0000:0000:538b:9320   \n",
       "\n",
       "                      MATCHED_VARIABLE_SRC MATCHED_VARIABLE_NAME  \n",
       "0                            [REQUEST_URI]                    []  \n",
       "1                       [REQUEST_GET_ARGS]                 [url]  \n",
       "2                           [REQUEST_PATH]                    []  \n",
       "3                       [REQUEST_GET_ARGS]                 [url]  \n",
       "4                       [REQUEST_GET_ARGS]  [_JQUERY_NO_CHACHE_]  \n",
       "5                        [REQUEST_HEADERS]          [User-Agent]  \n",
       "6                       [REQUEST_GET_ARGS]                 [rid]  \n",
       "7                       [REQUEST_GET_ARGS]  [_JQUERY_NO_CHACHE_]  \n",
       "8   [REQUEST_METHOD, REQUEST_CONTENT_TYPE]                    []  \n",
       "9                       [REQUEST_GET_ARGS]  [_JQUERY_NO_CHACHE_]  \n",
       "10                       [REQUEST_COOKIES]          [LtpaToken2]  \n",
       "11                       [REQUEST_COOKIES]             [user_id]  \n",
       "12                           [REQUEST_URI]                    []  \n",
       "13                           [REQUEST_URI]                    []  \n",
       "14                      [REQUEST_GET_ARGS]  [_JQUERY_NO_CHACHE_]  \n",
       "15                       [REQUEST_HEADERS]   [If-Modified-Since]  \n",
       "16                      [REQUEST_GET_ARGS]  [_JQUERY_NO_CHACHE_]  \n",
       "17                      [REQUEST_GET_ARGS]        [callback_uid]  \n",
       "18                       [REQUEST_HEADERS]         [X-csrftoken]  \n",
       "19                      [REQUEST_GET_ARGS]  [_JQUERY_NO_CHACHE_]  "
      ]
     },
     "execution_count": 50,
     "metadata": {},
     "output_type": "execute_result"
    }
   ],
   "source": [
    "# Show the results head\n",
    "data_df[['CLIENT_IP', 'MATCHED_VARIABLE_SRC', 'MATCHED_VARIABLE_NAME']].head(20)"
   ]
  },
  {
   "cell_type": "code",
   "execution_count": 51,
   "id": "e1a8efc8-406c-421a-826d-605a869afdc2",
   "metadata": {},
   "outputs": [],
   "source": [
    "# Check on the available counts for distinct values\n",
    "all_names = None\n",
    "for names in data_df['MATCHED_VARIABLE_NAME'].values:\n",
    "    new_names = pd.Series(names, dtype='string')\n",
    "    all_names = new_names if all_names is None else pd.concat([all_names, new_names])"
   ]
  },
  {
   "cell_type": "code",
   "execution_count": 52,
   "id": "073f4add-ae27-48c1-b54e-a0d0352a1e14",
   "metadata": {},
   "outputs": [
    {
     "name": "stderr",
     "output_type": "stream",
     "text": [
      "14:38:48 INFO (1297094161:3): There are 3051 distinct variable names present\n"
     ]
    },
    {
     "data": {
      "text/plain": [
       "_JQUERY_NO_CHACHE_    11165\n",
       "LtpaToken2             3948\n",
       "User-cn                2444\n",
       "action                 2394\n",
       "rid                    2372\n",
       "User-Agent             2028\n",
       "id                     1454\n",
       "url                    1352\n",
       "AN-X-Request-Uuid      1024\n",
       "If-Modified-Since       585\n",
       "dtype: Int64"
      ]
     },
     "execution_count": 52,
     "metadata": {},
     "output_type": "execute_result"
    }
   ],
   "source": [
    "# Now count the unique values\n",
    "all_names_df = all_names.value_counts()\n",
    "logger.info(f'There are {len(all_names_df)} distinct variable names present')\n",
    "all_names_df.head(10)"
   ]
  },
  {
   "cell_type": "code",
   "execution_count": 53,
   "id": "778bc4ac-6b5f-4d0c-b004-60ceeabadaf9",
   "metadata": {},
   "outputs": [],
   "source": [
    "# MATCHED_VARIABLE_NAME column conclusion:\n",
    "#    It seems to be useful as some of the names may indicate what\n",
    "#    data is requested, like user ids or some user related cookies etc...\n",
    "#---------------------------------------------------------"
   ]
  },
  {
   "cell_type": "code",
   "execution_count": 54,
   "id": "60823c15-d4da-40d2-b825-9114a178ca59",
   "metadata": {},
   "outputs": [],
   "source": [
    "#----------------------------------------------------------\n",
    "# Consider the MATCHED_VARIABLE_VALUE column"
   ]
  },
  {
   "cell_type": "code",
   "execution_count": 55,
   "id": "29c1518c-278c-4bda-b834-38e1365272f9",
   "metadata": {},
   "outputs": [
    {
     "name": "stderr",
     "output_type": "stream",
     "text": [
      "14:38:48 INFO (4258993274:3): The are min/max VALUE values per row: 1/36\n",
      "14:38:48 INFO (4258993274:4): There are 1753/57833 rows with more than 1 VALUE value\n"
     ]
    }
   ],
   "source": [
    "# Count the maximum number of NAME entries per row\n",
    "src_counts = data_df['MATCHED_VARIABLE_VALUE'].apply(lambda val : len(split_data_values(val)))\n",
    "logger.info(f'The are min/max VALUE values per row: {src_counts.min()}/{src_counts.max()}')\n",
    "logger.info(f'There are {np.sum(src_counts > 1)}/{len(data_df)} rows with more than 1 VALUE value')"
   ]
  },
  {
   "cell_type": "code",
   "execution_count": 56,
   "id": "43b72c9a-356c-4511-847c-021dda33535c",
   "metadata": {},
   "outputs": [],
   "source": [
    "# Split into distinct variable values\n",
    "data_df['MATCHED_VARIABLE_VALUE'] = data_df['MATCHED_VARIABLE_VALUE'].apply(lambda values : split_data_values(values) if values != '' else [])"
   ]
  },
  {
   "cell_type": "code",
   "execution_count": 57,
   "id": "c59758b1-306c-49ef-ae33-e0ff9873dbe0",
   "metadata": {},
   "outputs": [
    {
     "data": {
      "text/html": [
       "<div>\n",
       "<style scoped>\n",
       "    .dataframe tbody tr th:only-of-type {\n",
       "        vertical-align: middle;\n",
       "    }\n",
       "\n",
       "    .dataframe tbody tr th {\n",
       "        vertical-align: top;\n",
       "    }\n",
       "\n",
       "    .dataframe thead th {\n",
       "        text-align: right;\n",
       "    }\n",
       "</style>\n",
       "<table border=\"1\" class=\"dataframe\">\n",
       "  <thead>\n",
       "    <tr style=\"text-align: right;\">\n",
       "      <th></th>\n",
       "      <th>CLIENT_IP</th>\n",
       "      <th>MATCHED_VARIABLE_SRC</th>\n",
       "      <th>MATCHED_VARIABLE_NAME</th>\n",
       "      <th>MATCHED_VARIABLE_VALUE</th>\n",
       "    </tr>\n",
       "  </thead>\n",
       "  <tbody>\n",
       "    <tr>\n",
       "      <th>0</th>\n",
       "      <td>2002:0000:0000:0000:0000:0000:bc8a:5c37</td>\n",
       "      <td>[REQUEST_URI]</td>\n",
       "      <td>[]</td>\n",
       "      <td>[//tmp/20160925122692indo.php.vob]</td>\n",
       "    </tr>\n",
       "    <tr>\n",
       "      <th>1</th>\n",
       "      <td>2002:0000:0000:0000:0000:0000:5d9e:d783</td>\n",
       "      <td>[REQUEST_GET_ARGS]</td>\n",
       "      <td>[url]</td>\n",
       "      <td>[http://www.galitsios.gr/?option=com_k2]</td>\n",
       "    </tr>\n",
       "    <tr>\n",
       "      <th>2</th>\n",
       "      <td>2002:0000:0000:0000:0000:0000:b07b:f040</td>\n",
       "      <td>[REQUEST_PATH]</td>\n",
       "      <td>[]</td>\n",
       "      <td>[/opinion/page1_3.php\\\" and \\\"\\\"x\\\"\\\"=\\\"\\\"x\\\"]</td>\n",
       "    </tr>\n",
       "    <tr>\n",
       "      <th>3</th>\n",
       "      <td>2002:0000:0000:0000:0000:0000:494e:513f</td>\n",
       "      <td>[REQUEST_GET_ARGS]</td>\n",
       "      <td>[url]</td>\n",
       "      <td>[http://thereviewgroup.org/boss-capital/]</td>\n",
       "    </tr>\n",
       "    <tr>\n",
       "      <th>4</th>\n",
       "      <td>2002:0000:0000:0000:0000:0000:4266:092c</td>\n",
       "      <td>[REQUEST_GET_ARGS]</td>\n",
       "      <td>[_JQUERY_NO_CHACHE_]</td>\n",
       "      <td>[1516288084140]</td>\n",
       "    </tr>\n",
       "    <tr>\n",
       "      <th>5</th>\n",
       "      <td>2002:0000:0000:0000:0000:0000:4fb7:57f7</td>\n",
       "      <td>[REQUEST_HEADERS]</td>\n",
       "      <td>[User-Agent]</td>\n",
       "      <td>[Mozilla/5.0 (Linux; Android 6.0; LG-H815 Buil...</td>\n",
       "    </tr>\n",
       "    <tr>\n",
       "      <th>6</th>\n",
       "      <td>2002:0000:0000:0000:0000:0000:58c6:c9f5</td>\n",
       "      <td>[REQUEST_GET_ARGS]</td>\n",
       "      <td>[rid]</td>\n",
       "      <td>[3585221644]</td>\n",
       "    </tr>\n",
       "    <tr>\n",
       "      <th>7</th>\n",
       "      <td>2002:0000:0000:0000:0000:0000:4d48:8eaa</td>\n",
       "      <td>[REQUEST_GET_ARGS]</td>\n",
       "      <td>[_JQUERY_NO_CHACHE_]</td>\n",
       "      <td>[214296569]</td>\n",
       "    </tr>\n",
       "    <tr>\n",
       "      <th>8</th>\n",
       "      <td>2002:0000:0000:0000:0000:0000:5e32:c099</td>\n",
       "      <td>[REQUEST_METHOD, REQUEST_CONTENT_TYPE]</td>\n",
       "      <td>[]</td>\n",
       "      <td>[POST, multipart/form-data; boundary=----WebKi...</td>\n",
       "    </tr>\n",
       "    <tr>\n",
       "      <th>9</th>\n",
       "      <td>2002:0000:0000:0000:0000:0000:53f6:8d36</td>\n",
       "      <td>[REQUEST_GET_ARGS]</td>\n",
       "      <td>[_JQUERY_NO_CHACHE_]</td>\n",
       "      <td>[51660445]</td>\n",
       "    </tr>\n",
       "    <tr>\n",
       "      <th>10</th>\n",
       "      <td>2002:0000:0000:0000:0000:0000:d557:f048</td>\n",
       "      <td>[REQUEST_COOKIES]</td>\n",
       "      <td>[LtpaToken2]</td>\n",
       "      <td>[LZp0su/0R1VKoIZTJ7DWhrQ1YhHzqkGQuSbtP1PYQEgVd...</td>\n",
       "    </tr>\n",
       "    <tr>\n",
       "      <th>11</th>\n",
       "      <td>2002:0000:0000:0000:0000:0000:d9af:8c45</td>\n",
       "      <td>[REQUEST_COOKIES]</td>\n",
       "      <td>[user_id]</td>\n",
       "      <td>[4f1a4c5f-9636-4e6d-9713-b94a7e22cbb0]</td>\n",
       "    </tr>\n",
       "    <tr>\n",
       "      <th>12</th>\n",
       "      <td>2002:0000:0000:0000:0000:0000:82c1:3305</td>\n",
       "      <td>[REQUEST_URI]</td>\n",
       "      <td>[]</td>\n",
       "      <td>[/home/tag/tag/page/zlatoust-dvorec-pobedy/nex...</td>\n",
       "    </tr>\n",
       "    <tr>\n",
       "      <th>13</th>\n",
       "      <td>2002:0000:0000:0000:0000:0000:d59f:d449</td>\n",
       "      <td>[REQUEST_URI]</td>\n",
       "      <td>[]</td>\n",
       "      <td>[/about/'/kontakti/'/kontakti/]</td>\n",
       "    </tr>\n",
       "    <tr>\n",
       "      <th>14</th>\n",
       "      <td>2002:0000:0000:0000:0000:0000:b070:eae7</td>\n",
       "      <td>[REQUEST_GET_ARGS]</td>\n",
       "      <td>[_JQUERY_NO_CHACHE_]</td>\n",
       "      <td>[1516570326076]</td>\n",
       "    </tr>\n",
       "    <tr>\n",
       "      <th>15</th>\n",
       "      <td>2002:0000:0000:0000:0000:0000:d9af:8c45</td>\n",
       "      <td>[REQUEST_HEADERS]</td>\n",
       "      <td>[If-Modified-Since]</td>\n",
       "      <td>[Thu, 25 Jan 2018 07:17:06 GMT]</td>\n",
       "    </tr>\n",
       "    <tr>\n",
       "      <th>16</th>\n",
       "      <td>2002:0000:0000:0000:0000:0000:6dfc:5551</td>\n",
       "      <td>[REQUEST_GET_ARGS]</td>\n",
       "      <td>[_JQUERY_NO_CHACHE_]</td>\n",
       "      <td>[1516464016113]</td>\n",
       "    </tr>\n",
       "    <tr>\n",
       "      <th>17</th>\n",
       "      <td>2002:0000:0000:0000:0000:0000:d9af:8c45</td>\n",
       "      <td>[REQUEST_GET_ARGS]</td>\n",
       "      <td>[callback_uid]</td>\n",
       "      <td>[2c42dc598cf3ff]</td>\n",
       "    </tr>\n",
       "    <tr>\n",
       "      <th>18</th>\n",
       "      <td>2002:0000:0000:0000:0000:0000:54d6:3623</td>\n",
       "      <td>[REQUEST_HEADERS]</td>\n",
       "      <td>[X-csrftoken]</td>\n",
       "      <td>[150f44e0f9e0700c7f5b1ca4862ae919cf5fcc91c2fe8...</td>\n",
       "    </tr>\n",
       "    <tr>\n",
       "      <th>19</th>\n",
       "      <td>2002:0000:0000:0000:0000:0000:538b:9320</td>\n",
       "      <td>[REQUEST_GET_ARGS]</td>\n",
       "      <td>[_JQUERY_NO_CHACHE_]</td>\n",
       "      <td>[1516357230209]</td>\n",
       "    </tr>\n",
       "  </tbody>\n",
       "</table>\n",
       "</div>"
      ],
      "text/plain": [
       "                                  CLIENT_IP  \\\n",
       "0   2002:0000:0000:0000:0000:0000:bc8a:5c37   \n",
       "1   2002:0000:0000:0000:0000:0000:5d9e:d783   \n",
       "2   2002:0000:0000:0000:0000:0000:b07b:f040   \n",
       "3   2002:0000:0000:0000:0000:0000:494e:513f   \n",
       "4   2002:0000:0000:0000:0000:0000:4266:092c   \n",
       "5   2002:0000:0000:0000:0000:0000:4fb7:57f7   \n",
       "6   2002:0000:0000:0000:0000:0000:58c6:c9f5   \n",
       "7   2002:0000:0000:0000:0000:0000:4d48:8eaa   \n",
       "8   2002:0000:0000:0000:0000:0000:5e32:c099   \n",
       "9   2002:0000:0000:0000:0000:0000:53f6:8d36   \n",
       "10  2002:0000:0000:0000:0000:0000:d557:f048   \n",
       "11  2002:0000:0000:0000:0000:0000:d9af:8c45   \n",
       "12  2002:0000:0000:0000:0000:0000:82c1:3305   \n",
       "13  2002:0000:0000:0000:0000:0000:d59f:d449   \n",
       "14  2002:0000:0000:0000:0000:0000:b070:eae7   \n",
       "15  2002:0000:0000:0000:0000:0000:d9af:8c45   \n",
       "16  2002:0000:0000:0000:0000:0000:6dfc:5551   \n",
       "17  2002:0000:0000:0000:0000:0000:d9af:8c45   \n",
       "18  2002:0000:0000:0000:0000:0000:54d6:3623   \n",
       "19  2002:0000:0000:0000:0000:0000:538b:9320   \n",
       "\n",
       "                      MATCHED_VARIABLE_SRC MATCHED_VARIABLE_NAME  \\\n",
       "0                            [REQUEST_URI]                    []   \n",
       "1                       [REQUEST_GET_ARGS]                 [url]   \n",
       "2                           [REQUEST_PATH]                    []   \n",
       "3                       [REQUEST_GET_ARGS]                 [url]   \n",
       "4                       [REQUEST_GET_ARGS]  [_JQUERY_NO_CHACHE_]   \n",
       "5                        [REQUEST_HEADERS]          [User-Agent]   \n",
       "6                       [REQUEST_GET_ARGS]                 [rid]   \n",
       "7                       [REQUEST_GET_ARGS]  [_JQUERY_NO_CHACHE_]   \n",
       "8   [REQUEST_METHOD, REQUEST_CONTENT_TYPE]                    []   \n",
       "9                       [REQUEST_GET_ARGS]  [_JQUERY_NO_CHACHE_]   \n",
       "10                       [REQUEST_COOKIES]          [LtpaToken2]   \n",
       "11                       [REQUEST_COOKIES]             [user_id]   \n",
       "12                           [REQUEST_URI]                    []   \n",
       "13                           [REQUEST_URI]                    []   \n",
       "14                      [REQUEST_GET_ARGS]  [_JQUERY_NO_CHACHE_]   \n",
       "15                       [REQUEST_HEADERS]   [If-Modified-Since]   \n",
       "16                      [REQUEST_GET_ARGS]  [_JQUERY_NO_CHACHE_]   \n",
       "17                      [REQUEST_GET_ARGS]        [callback_uid]   \n",
       "18                       [REQUEST_HEADERS]         [X-csrftoken]   \n",
       "19                      [REQUEST_GET_ARGS]  [_JQUERY_NO_CHACHE_]   \n",
       "\n",
       "                               MATCHED_VARIABLE_VALUE  \n",
       "0                  [//tmp/20160925122692indo.php.vob]  \n",
       "1            [http://www.galitsios.gr/?option=com_k2]  \n",
       "2      [/opinion/page1_3.php\\\" and \\\"\\\"x\\\"\\\"=\\\"\\\"x\\\"]  \n",
       "3           [http://thereviewgroup.org/boss-capital/]  \n",
       "4                                     [1516288084140]  \n",
       "5   [Mozilla/5.0 (Linux; Android 6.0; LG-H815 Buil...  \n",
       "6                                        [3585221644]  \n",
       "7                                         [214296569]  \n",
       "8   [POST, multipart/form-data; boundary=----WebKi...  \n",
       "9                                          [51660445]  \n",
       "10  [LZp0su/0R1VKoIZTJ7DWhrQ1YhHzqkGQuSbtP1PYQEgVd...  \n",
       "11             [4f1a4c5f-9636-4e6d-9713-b94a7e22cbb0]  \n",
       "12  [/home/tag/tag/page/zlatoust-dvorec-pobedy/nex...  \n",
       "13                    [/about/'/kontakti/'/kontakti/]  \n",
       "14                                    [1516570326076]  \n",
       "15                    [Thu, 25 Jan 2018 07:17:06 GMT]  \n",
       "16                                    [1516464016113]  \n",
       "17                                   [2c42dc598cf3ff]  \n",
       "18  [150f44e0f9e0700c7f5b1ca4862ae919cf5fcc91c2fe8...  \n",
       "19                                    [1516357230209]  "
      ]
     },
     "execution_count": 57,
     "metadata": {},
     "output_type": "execute_result"
    }
   ],
   "source": [
    "# Show the results head\n",
    "data_df[['CLIENT_IP', 'MATCHED_VARIABLE_SRC', 'MATCHED_VARIABLE_NAME', 'MATCHED_VARIABLE_VALUE']].head(20)"
   ]
  },
  {
   "cell_type": "code",
   "execution_count": 58,
   "id": "04086a17-5901-4262-b056-1a623ee52efe",
   "metadata": {},
   "outputs": [],
   "source": [
    "# Check on the available counts for distinct values\n",
    "all_values = None\n",
    "for values in data_df['MATCHED_VARIABLE_VALUE'].values:\n",
    "    new_values = pd.Series(values, dtype='string')\n",
    "    all_values = new_values if all_values is None else pd.concat([all_values, new_values])"
   ]
  },
  {
   "cell_type": "code",
   "execution_count": 59,
   "id": "4799995b-6b9b-4677-bb06-d280ccbec6e8",
   "metadata": {},
   "outputs": [
    {
     "name": "stderr",
     "output_type": "stream",
     "text": [
      "14:39:06 INFO (4060887584:3): There are 57803 distinct variable values present\n"
     ]
    },
    {
     "data": {
      "text/plain": [
       "POST                                                 1039\n",
       "                                                      618\n",
       "XMLHttpRequest                                        333\n",
       "application/x-www-form-urlencoded; charset=UTF-8       77\n",
       "application/x-www-form-urlencoded                      76\n",
       "../../../../../../../../../boot.ini\\\\x0                46\n",
       "../../../../../../../../../windows/win.ini\\\\x0         43\n",
       "../../../../../../../../../winnt/win.ini\\\\x0           39\n",
       "{\\\"tags\\\":[{\\\"sizes\\\":[{\\\"width\\\":728,\\\"height...      28\n",
       "../../../../../../../../../etc/passwd\\\\x0              21\n",
       "dtype: Int64"
      ]
     },
     "execution_count": 59,
     "metadata": {},
     "output_type": "execute_result"
    }
   ],
   "source": [
    "# Now count the unique values\n",
    "all_values_df = all_values.value_counts()\n",
    "logger.info(f'There are {len(all_values_df)} distinct variable values present')\n",
    "all_values_df.head(10)"
   ]
  },
  {
   "cell_type": "code",
   "execution_count": 60,
   "id": "cd1ba4e8-f67e-4e1d-be9c-14c58633d14c",
   "metadata": {},
   "outputs": [],
   "source": [
    "# MATCHED_VARIABLE_VALUE column conclusion:\n",
    "#    Is useful, assumed it is the values sent by the client and not the data retrieved\n",
    "#     from the server, as the provided request variable name values may contain\n",
    "#    indications of the attack like some scripts for injection and etc\n",
    "#---------------------------------------------------------"
   ]
  },
  {
   "cell_type": "code",
   "execution_count": 61,
   "id": "48052b07-b45f-4897-93da-ec18661aa281",
   "metadata": {},
   "outputs": [],
   "source": [
    "#----------------------------------------------------------\n",
    "# Consider the EVENT_ID column"
   ]
  },
  {
   "cell_type": "code",
   "execution_count": 62,
   "id": "722faf0e-c2c2-4b99-a566-d623523bd758",
   "metadata": {},
   "outputs": [
    {
     "data": {
      "text/plain": [
       "                        167\n",
       "cr1nJWQB5cBXmMW1hh_4      7\n",
       "m1K7G2QB5cBXmMW1pcnY      6\n",
       "XZ-bImQB5cBXmMW11ksX      6\n",
       "l1mUHGQB5cBXmMW1mdYm      6\n",
       "dqqPI2QB5cBXmMW1L9-m      5\n",
       "znQRH2QB5cBXmMW1_Hsj      5\n",
       "B4ipIGQB5cBXmMW1Yhnm      4\n",
       "b1K_G2QB5cBXmMW17-1v      4\n",
       "hlvDHGQB5cBXmMW1PWCN      4\n",
       "Name: EVENT_ID, dtype: Int64"
      ]
     },
     "execution_count": 62,
     "metadata": {},
     "output_type": "execute_result"
    }
   ],
   "source": [
    "# Check on the EVENT_ID distinct value counts, we see there are some duplicates\n",
    "event_id_df = data_df['EVENT_ID'].value_counts()\n",
    "event_id_df.head(10)"
   ]
  },
  {
   "cell_type": "code",
   "execution_count": 63,
   "id": "8f31b45f-60e3-4134-9b02-64fe5d58bad6",
   "metadata": {},
   "outputs": [
    {
     "data": {
      "image/png": "[encoded data removed]",
      "text/plain": [
       "<Figure size 1500x500 with 1 Axes>"
      ]
     },
     "metadata": {},
     "output_type": "display_data"
    }
   ],
   "source": [
    "# Most event ids are not duplicated\n",
    "fig, ax = plt.subplots(figsize=(15, 5))\n",
    "_ = plt.hist(event_id_df, bins=100)"
   ]
  },
  {
   "cell_type": "code",
   "execution_count": 64,
   "id": "1118cf17-bf24-4b6a-bafd-d2814d05637a",
   "metadata": {},
   "outputs": [
    {
     "data": {
      "image/png": "[encoded data removed]",
      "text/plain": [
       "<Figure size 1500x500 with 1 Axes>"
      ]
     },
     "metadata": {},
     "output_type": "display_data"
    }
   ],
   "source": [
    "# In the log scale we see some duplication, yet the event id values are\n",
    "# expected to be unique but as they seem to be constructed hashes values\n",
    "fig, ax = plt.subplots(figsize=(15, 5))\n",
    "_ = plt.hist(event_id_df, log=True, bins=100)"
   ]
  },
  {
   "cell_type": "code",
   "execution_count": 65,
   "id": "1be595d1-a9e7-4841-a901-2e8a83113970",
   "metadata": {},
   "outputs": [
    {
     "name": "stderr",
     "output_type": "stream",
     "text": [
      "14:39:06 INFO (1681978892:3): There are 51512/57833 events with unique event ids\n",
      "14:39:06 INFO (1681978892:5): There are 2899/54411 repeating event ids\n"
     ]
    }
   ],
   "source": [
    "# The following percent of event ids are not unique\n",
    "u_evt_id = np.sum(event_id_df == 1)\n",
    "logger.info(f'There are {u_evt_id}/{len(data_df)} events with unique event ids')\n",
    "d_evt_id = np.sum(event_id_df > 1)\n",
    "logger.info(f'There are {d_evt_id}/{len(event_id_df)} repeating event ids')"
   ]
  },
  {
   "cell_type": "code",
   "execution_count": 66,
   "id": "270a395f-b419-48d4-a82a-b8dbf0b24fff",
   "metadata": {},
   "outputs": [],
   "source": [
    "# EVENT_ID column conclusion:\n",
    "#    Is not useful for the attack detection as it is supposed\n",
    "#    to be assigned uniquely for each individual event.\n",
    "#---------------------------------------------------------"
   ]
  },
  {
   "cell_type": "code",
   "execution_count": 67,
   "id": "81a3a774-ad97-428a-846c-7c2d059b304b",
   "metadata": {},
   "outputs": [],
   "source": [
    "from src.wrangler.utils import DATA_DELIMITER\n",
    "\n",
    "# Re-join the MATCHED_VARIABLE_SRC, MATCHED_VARIABLE_NAME, and MATCHED_VARIABLE_VALUE column values\n",
    "cols_to_restore = ['MATCHED_VARIABLE_SRC', 'MATCHED_VARIABLE_NAME', 'MATCHED_VARIABLE_VALUE']\n",
    "for col_name in cols_to_restore:\n",
    "    data_df[col_name] = data_df[col_name].apply(lambda lst: DATA_DELIMITER.join(lst))"
   ]
  },
  {
   "cell_type": "code",
   "execution_count": 68,
   "id": "ff6c6453-69b7-4768-aee2-e4288ff20a89",
   "metadata": {},
   "outputs": [],
   "source": [
    "# Write out the resulting dataframe\n",
    "data_df = data_df[['EVENT_ID', 'CLIENT_IP', 'CLIENT_USERAGENT', 'IS_USERAGENT_VALID', 'REQUEST_SIZE', 'RESPONSE_CODE', \\\n",
    "                   'MATCHED_VARIABLE_SRC', 'MATCHED_VARIABLE_NAME', 'MATCHED_VARIABLE_VALUE']]\n",
    "csv_file_name = os.path.join('.', 'data', 'part_10_wrangled.csv')\n",
    "data_df.to_csv(csv_file_name, index=False)"
   ]
  },
  {
   "cell_type": "code",
   "execution_count": 69,
   "id": "83d38498-cf5b-4960-9ac6-3d5a3ac56241",
   "metadata": {},
   "outputs": [],
   "source": [
    "############################################################################\n",
    "# Conclusions: \n",
    "#     In this notebook we mostly did initial data exploration and wrangling\n",
    "#     The important initial observation is that all of the provided data\n",
    "#     columns could be used for event classification except for the EVENT_ID\n",
    "#     the latter is likely to be set (semi) uniquely by the monitoring software\n",
    "#     More in-depth feature space analysis will be done in the next notebook\n",
    "#\n",
    "#############################################################################"
   ]
  }
 ],
 "metadata": {
  "kernelspec": {
   "display_name": "tfm",
   "language": "python",
   "name": "tfm"
  },
  "language_info": {
   "codemirror_mode": {
    "name": "ipython",
    "version": 3
   },
   "file_extension": ".py",
   "mimetype": "text/x-python",
   "name": "python",
   "nbconvert_exporter": "python",
   "pygments_lexer": "ipython3",
   "version": "3.8.13"
  }
 },
 "nbformat": 4,
 "nbformat_minor": 5
}
